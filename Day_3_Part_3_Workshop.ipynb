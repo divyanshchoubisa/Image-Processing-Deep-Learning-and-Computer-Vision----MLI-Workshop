{
 "cells": [
  {
   "cell_type": "code",
   "execution_count": null,
   "metadata": {
    "id": "KNVoLxzR27zg"
   },
   "outputs": [],
   "source": []
  },
  {
   "cell_type": "code",
   "execution_count": null,
   "metadata": {
    "colab": {
     "base_uri": "https://localhost:8080/"
    },
    "id": "AgrhE8r329J5",
    "outputId": "c785676e-5ed2-4cfa-9421-357c30017454"
   },
   "outputs": [],
   "source": []
  },
  {
   "cell_type": "code",
   "execution_count": null,
   "metadata": {
    "id": "TRhDGNpw29Hl"
   },
   "outputs": [],
   "source": []
  },
  {
   "cell_type": "code",
   "execution_count": null,
   "metadata": {
    "ExecuteTime": {
     "end_time": "2022-04-16T17:35:37.098054Z",
     "start_time": "2022-04-16T17:35:36.837070Z"
    },
    "colab": {
     "base_uri": "https://localhost:8080/"
    },
    "id": "ZUTVR1DM29Em",
    "outputId": "2ee6b4d5-552b-4a7e-9406-185d92fc7f55"
   },
   "outputs": [],
   "source": []
  },
  {
   "cell_type": "code",
   "execution_count": null,
   "metadata": {
    "id": "CcEbJMjV29B-"
   },
   "outputs": [],
   "source": []
  },
  {
   "cell_type": "markdown",
   "metadata": {
    "id": "Tcv3SxGe1-9h"
   },
   "source": [
    "# RoadMap 4 - DataLoader base codes\n",
    "\n",
    "    1. Data for Image Classification\n",
    "    \n",
    "    2. Preset Data Loaders"
   ]
  },
  {
   "cell_type": "code",
   "execution_count": null,
   "metadata": {
    "id": "X_B8uf4b1-9p"
   },
   "outputs": [],
   "source": []
  },
  {
   "cell_type": "code",
   "execution_count": null,
   "metadata": {
    "id": "2GVqdXQs1-9q"
   },
   "outputs": [],
   "source": []
  },
  {
   "cell_type": "code",
   "execution_count": 1,
   "metadata": {
    "ExecuteTime": {
     "end_time": "2022-05-28T08:10:39.429427Z",
     "start_time": "2022-05-28T08:10:29.222768Z"
    },
    "id": "cLrR0ylE1-9r"
   },
   "outputs": [],
   "source": [
    "import torch\n",
    "import numpy as np\n",
    "from torchvision import transforms, datasets\n",
    "from PIL import Image\n",
    "import cv2\n",
    "%matplotlib inline\n",
    "from matplotlib import pyplot as plt"
   ]
  },
  {
   "cell_type": "markdown",
   "metadata": {
    "id": "UkeJEVIc1-9s"
   },
   "source": [
    "   "
   ]
  },
  {
   "cell_type": "code",
   "execution_count": null,
   "metadata": {
    "id": "Q9y8wjOy1-9t"
   },
   "outputs": [],
   "source": []
  },
  {
   "cell_type": "markdown",
   "metadata": {
    "id": "1dEbg1dV1-9u"
   },
   "source": [
    "## 1. Data for Image Classification\n",
    "\n",
    "    1.1. Data storage directory \n",
    "        [NOTE: Directory and File names can be anything]\n",
    "        Parent Directory\n",
    "            |\n",
    "            |----Train\n",
    "            |       |\n",
    "            |       |----Class1\n",
    "            |       |       |----img1.png\n",
    "            |       |       |----img2.png\n",
    "            |       |----Class2\n",
    "            |       |       |----img1.png\n",
    "            |               |----img2.png\n",
    "            |-----Val\n",
    "            |       |\n",
    "            |       |----Class1\n",
    "            |       |       |----img1.png\n",
    "            |       |       |----img2.png\n",
    "            |       |----Class2\n",
    "            |       |       |----img1.png\n",
    "            |       |       |----img2.png\n",
    "                              \n",
    "\n",
    "    1.2. Pytorch \"datasets\"\n",
    "        1.2.1. Converting data to pytorch datasets\n",
    "        1.2.2. Getting class list\n",
    "        1.2.3. Supported image extansions\n",
    "        1.2.4. Class names to IDs\n",
    "        1.2.5. Getting images list with associated class IDs\n",
    "        1.2.6. Getting applied transforms list\n",
    "        1.2.7. Loading data\n",
    "        1.2.8. Data Loader functions\n",
    "        1.2.9. Understanding data and labels(after loading and transformation)\n",
    "        \n",
    "        \n",
    "## 2. Data Loaders - Available Datasets\n",
    "\n",
    "    2.1. MNIST\n",
    "    2.2. Fashion Mnist \n",
    "    2.3. EMNIST\n",
    "    2.4. Coco Captions\n",
    "    2.5. Coco Detections\n",
    "    2.6. Cifar10\n",
    "    2.7. Cifar100\n",
    "    2.8. STL10\n",
    "    2.9. SVNH\n",
    "    \n",
    "    "
   ]
  },
  {
   "cell_type": "code",
   "execution_count": 2,
   "metadata": {
    "ExecuteTime": {
     "end_time": "2022-05-28T08:10:42.005006Z",
     "start_time": "2022-05-28T08:10:41.985722Z"
    },
    "id": "NaHz8dk81-9u"
   },
   "outputs": [],
   "source": [
    "# Converting data to pytorch datasets\n",
    "data_transform = transforms.Compose([transforms.CenterCrop(224),\\\n",
    "                    transforms.ToTensor()])\n",
    "sample_dataset = datasets.ImageFolder(root='Sample_Data/train', transform=data_transform)"
   ]
  },
  {
   "cell_type": "code",
   "execution_count": 3,
   "metadata": {
    "ExecuteTime": {
     "end_time": "2022-05-28T08:10:42.514780Z",
     "start_time": "2022-05-28T08:10:42.507615Z"
    },
    "id": "21MQa69-1-9v",
    "outputId": "1fb6ca0a-630f-42e5-ee93-c6f398fdb238"
   },
   "outputs": [
    {
     "name": "stdout",
     "output_type": "stream",
     "text": [
      "['__add__', '__class__', '__delattr__', '__dict__', '__dir__', '__doc__', '__eq__', '__format__', '__ge__', '__getattribute__', '__getitem__', '__gt__', '__hash__', '__init__', '__init_subclass__', '__le__', '__len__', '__lt__', '__module__', '__ne__', '__new__', '__reduce__', '__reduce_ex__', '__repr__', '__setattr__', '__sizeof__', '__str__', '__subclasshook__', '__weakref__', '_find_classes', '_format_transform_repr', '_repr_indent', 'class_to_idx', 'classes', 'extensions', 'extra_repr', 'imgs', 'loader', 'root', 'samples', 'target_transform', 'targets', 'transform', 'transforms']\n"
     ]
    }
   ],
   "source": [
    "print(dir(sample_dataset))"
   ]
  },
  {
   "cell_type": "code",
   "execution_count": 4,
   "metadata": {
    "ExecuteTime": {
     "end_time": "2022-05-28T08:10:42.965979Z",
     "start_time": "2022-05-28T08:10:42.954203Z"
    },
    "id": "UXpTwMrM1-9x",
    "outputId": "70f7d436-e658-4fc1-f52d-59436553c799"
   },
   "outputs": [
    {
     "name": "stdout",
     "output_type": "stream",
     "text": [
      "['ants', 'bees']\n"
     ]
    }
   ],
   "source": [
    "# Getting class list\n",
    "class_list =  sample_dataset.classes\n",
    "print(class_list)"
   ]
  },
  {
   "cell_type": "code",
   "execution_count": 5,
   "metadata": {
    "ExecuteTime": {
     "end_time": "2022-05-28T08:10:43.401130Z",
     "start_time": "2022-05-28T08:10:43.387159Z"
    },
    "id": "mppqwqLO1-9z",
    "outputId": "a42b0411-2424-4d11-c216-8b4e28d8b66f"
   },
   "outputs": [
    {
     "name": "stdout",
     "output_type": "stream",
     "text": [
      "('.jpg', '.jpeg', '.png', '.ppm', '.bmp', '.pgm', '.tif', '.tiff', '.webp')\n"
     ]
    }
   ],
   "source": [
    "# Supported image extensions\n",
    "image_extensions = sample_dataset.extensions\n",
    "print(image_extensions)"
   ]
  },
  {
   "cell_type": "code",
   "execution_count": 6,
   "metadata": {
    "ExecuteTime": {
     "end_time": "2022-05-28T08:10:43.902316Z",
     "start_time": "2022-05-28T08:10:43.884287Z"
    },
    "id": "8pVdxw011-90",
    "outputId": "226f9509-7c8e-4161-a010-7b896fd8a4af"
   },
   "outputs": [
    {
     "name": "stdout",
     "output_type": "stream",
     "text": [
      "{'ants': 0, 'bees': 1}\n"
     ]
    }
   ],
   "source": [
    "# Image class names to IDs\n",
    "class_to_id = sample_dataset.class_to_idx\n",
    "print(class_to_id)"
   ]
  },
  {
   "cell_type": "code",
   "execution_count": 7,
   "metadata": {
    "ExecuteTime": {
     "end_time": "2022-05-28T08:10:44.136587Z",
     "start_time": "2022-05-28T08:10:44.125320Z"
    },
    "id": "iTzhtwWb1-90",
    "outputId": "0112e7f1-ef07-4a64-9dc3-cf5c397426e8"
   },
   "outputs": [
    {
     "name": "stdout",
     "output_type": "stream",
     "text": [
      "[('Sample_Data/train\\\\ants\\\\154124431_65460430f2.jpg', 0), ('Sample_Data/train\\\\ants\\\\162603798_40b51f1654.jpg', 0), ('Sample_Data/train\\\\ants\\\\175998972.jpg', 0), ('Sample_Data/train\\\\bees\\\\16838648_415acd9e3f.jpg', 1), ('Sample_Data/train\\\\bees\\\\174142798_e5ad6d76e0.jpg', 1), ('Sample_Data/train\\\\bees\\\\472288710_2abee16fa0.jpg', 1)]\n"
     ]
    }
   ],
   "source": [
    "# Getting images list with associated class ids\n",
    "image_list = sample_dataset.imgs\n",
    "print(image_list)"
   ]
  },
  {
   "cell_type": "code",
   "execution_count": 8,
   "metadata": {
    "ExecuteTime": {
     "end_time": "2022-05-28T08:10:44.446763Z",
     "start_time": "2022-05-28T08:10:44.437677Z"
    },
    "id": "lL-5rh8q1-91",
    "outputId": "1b30e21e-93b4-4863-ccdb-a8c24d656438"
   },
   "outputs": [
    {
     "name": "stdout",
     "output_type": "stream",
     "text": [
      "Compose(\n",
      "    CenterCrop(size=(224, 224))\n",
      "    ToTensor()\n",
      ")\n"
     ]
    }
   ],
   "source": [
    "# Getting list of transforms applied\n",
    "transforms_list = sample_dataset.transform\n",
    "print(transforms_list)"
   ]
  },
  {
   "cell_type": "code",
   "execution_count": 9,
   "metadata": {
    "ExecuteTime": {
     "end_time": "2022-05-28T08:10:44.914782Z",
     "start_time": "2022-05-28T08:10:44.903783Z"
    },
    "id": "TvD7mKj01-92"
   },
   "outputs": [],
   "source": [
    "# Loading data\n",
    "# DataLoader - loads multiple samples parallelly using torch.multiprocessing workers\n",
    "data_loader = torch.utils.data.DataLoader(sample_dataset,\n",
    "                                          batch_size=2,\n",
    "                                          shuffle=True,\n",
    "                                          num_workers=2)"
   ]
  },
  {
   "cell_type": "code",
   "execution_count": 10,
   "metadata": {
    "ExecuteTime": {
     "end_time": "2022-05-28T08:10:45.161859Z",
     "start_time": "2022-05-28T08:10:45.147829Z"
    },
    "id": "p7R5C9UC1-93",
    "outputId": "acf9ef55-4d36-4621-e94d-69c9fc9dd36a"
   },
   "outputs": [
    {
     "name": "stdout",
     "output_type": "stream",
     "text": [
      "['_DataLoader__initialized', '_DataLoader__multiprocessing_context', '_IterableDataset_len_called', '__class__', '__delattr__', '__dict__', '__dir__', '__doc__', '__eq__', '__format__', '__ge__', '__getattribute__', '__gt__', '__hash__', '__init__', '__init_subclass__', '__iter__', '__le__', '__len__', '__lt__', '__module__', '__ne__', '__new__', '__reduce__', '__reduce_ex__', '__repr__', '__setattr__', '__sizeof__', '__str__', '__subclasshook__', '__weakref__', '_auto_collation', '_dataset_kind', '_index_sampler', 'batch_sampler', 'batch_size', 'collate_fn', 'dataset', 'drop_last', 'multiprocessing_context', 'num_workers', 'pin_memory', 'sampler', 'timeout', 'worker_init_fn']\n"
     ]
    }
   ],
   "source": [
    "print(dir(data_loader))"
   ]
  },
  {
   "cell_type": "code",
   "execution_count": 11,
   "metadata": {
    "ExecuteTime": {
     "end_time": "2022-05-28T08:10:45.617046Z",
     "start_time": "2022-05-28T08:10:45.605045Z"
    },
    "id": "eeuTCGfD1-93",
    "outputId": "a3e43a40-334c-4fb4-8602-f91e05802c31"
   },
   "outputs": [
    {
     "name": "stdout",
     "output_type": "stream",
     "text": [
      "2\n",
      "Dataset ImageFolder\n",
      "    Number of datapoints: 6\n",
      "    Root location: Sample_Data/train\n",
      "    StandardTransform\n",
      "Transform: Compose(\n",
      "               CenterCrop(size=(224, 224))\n",
      "               ToTensor()\n",
      "           )\n",
      "<class 'torchvision.datasets.folder.ImageFolder'>\n",
      "2\n"
     ]
    }
   ],
   "source": [
    "# Data loader functions\n",
    "print(data_loader.batch_size)\n",
    "print(data_loader.dataset)\n",
    "print(type(data_loader.dataset))\n",
    "print(data_loader.num_workers)"
   ]
  },
  {
   "cell_type": "code",
   "execution_count": 12,
   "metadata": {
    "ExecuteTime": {
     "end_time": "2022-05-28T08:10:49.827438Z",
     "start_time": "2022-05-28T08:10:46.263269Z"
    },
    "id": "lSnZhohv1-94",
    "outputId": "22cacfbe-ab35-4072-a9a6-94c1a5f0524b"
   },
   "outputs": [
    {
     "name": "stdout",
     "output_type": "stream",
     "text": [
      "<torch.utils.data.dataloader.DataLoader object at 0x000001B8BDD49508>\n",
      "3\n",
      "Before Conversion: \n",
      "     <class 'torch.Tensor'> <class 'torch.Tensor'>\n",
      "After Conversion: \n",
      "     <class 'numpy.ndarray'> <class 'numpy.ndarray'>\n",
      "<class 'numpy.ndarray'> <class 'numpy.ndarray'>\n",
      "(2, 3, 224, 224) (2,)\n",
      "\n",
      "\n",
      "Before Conversion: \n",
      "     <class 'torch.Tensor'> <class 'torch.Tensor'>\n",
      "After Conversion: \n",
      "     <class 'numpy.ndarray'> <class 'numpy.ndarray'>\n",
      "<class 'numpy.ndarray'> <class 'numpy.ndarray'>\n",
      "(2, 3, 224, 224) (2,)\n",
      "\n",
      "\n",
      "Before Conversion: \n",
      "     <class 'torch.Tensor'> <class 'torch.Tensor'>\n",
      "After Conversion: \n",
      "     <class 'numpy.ndarray'> <class 'numpy.ndarray'>\n",
      "<class 'numpy.ndarray'> <class 'numpy.ndarray'>\n",
      "(2, 3, 224, 224) (2,)\n",
      "\n",
      "\n",
      "(224, 224, 3)\n"
     ]
    },
    {
     "data": {
      "image/png": "[encoded data removed]",
      "text/plain": [
       "<Figure size 432x288 with 1 Axes>"
      ]
     },
     "metadata": {
      "needs_background": "light"
     },
     "output_type": "display_data"
    },
    {
     "name": "stdout",
     "output_type": "stream",
     "text": [
      "0\n"
     ]
    }
   ],
   "source": [
    "# Visualizing loaded (and transformed) data\n",
    "print(data_loader)\n",
    "print(len(data_loader))\n",
    "\n",
    "for i, data in enumerate(data_loader, 0):\n",
    "        inputs, labels = data\n",
    "        print(\"Before Conversion: \")\n",
    "        print(\"    \", type(inputs), type(labels))\n",
    "        inputs = inputs.numpy()\n",
    "        labels = labels.numpy()\n",
    "        print(\"After Conversion: \")\n",
    "        print(\"    \", type(inputs), type(labels))\n",
    "        print(type(inputs), type(labels))\n",
    "        print(inputs.shape, labels.shape)\n",
    "        print(\"\\n\")\n",
    "\n",
    "# Visualize 1st set of images\n",
    "im = \"\"\n",
    "label = \"\"\n",
    "for i, data in enumerate(data_loader, 0):\n",
    "        inputs, labels = data\n",
    "        first_img = inputs.numpy()[0]\n",
    "        first_label = labels.numpy()[0]\n",
    "        c, h, w = first_img.shape\n",
    "        first_img = np.reshape(first_img, (h, w, c))\n",
    "        print(first_img.shape)\n",
    "        im = first_img\n",
    "        label = first_label\n",
    "        break\n",
    "\n",
    "plt.imshow(im)\n",
    "plt.show()\n",
    "print(label)\n",
    "        "
   ]
  },
  {
   "cell_type": "code",
   "execution_count": null,
   "metadata": {
    "id": "io7d90ZM1-94"
   },
   "outputs": [],
   "source": []
  },
  {
   "cell_type": "code",
   "execution_count": null,
   "metadata": {
    "id": "kSwMiSuX1-95"
   },
   "outputs": [],
   "source": []
  },
  {
   "cell_type": "markdown",
   "metadata": {
    "id": "BJnhbC7o1-95"
   },
   "source": [
    "## Extra Blog Resources\n",
    "\n",
    "1. https://towardsdatascience.com/building-efficient-custom-datasets-in-pytorch-2563b946fd9f\n",
    "    \n",
    "2. https://stanford.edu/~shervine/blog/pytorch-how-to-generate-data-parallel\n",
    "    \n",
    "3. https://medium.com/speechmatics/how-to-build-a-streaming-dataloader-with-pytorch-a66dd891d9dd"
   ]
  },
  {
   "cell_type": "code",
   "execution_count": null,
   "metadata": {
    "id": "_mH1z6yZ1-95"
   },
   "outputs": [],
   "source": []
  },
  {
   "cell_type": "markdown",
   "metadata": {
    "id": "Ih9afmBF1-95"
   },
   "source": [
    "# 2. Data Loaders - Available Datasets\n",
    "\n",
    "    2.1. MNIST\n",
    "    2.2. Fashion Mnist \n",
    "    2.3. EMNIST\n",
    "    2.4. Coco Captions\n",
    "    2.5. Coco Detections\n",
    "    2.6. Cifar10\n",
    "    2.7. Cifar100\n",
    "    2.8. STL10\n",
    "    2.9. SVNH"
   ]
  },
  {
   "cell_type": "code",
   "execution_count": 13,
   "metadata": {
    "ExecuteTime": {
     "end_time": "2022-05-28T08:10:50.140096Z",
     "start_time": "2022-05-28T08:10:49.968380Z"
    },
    "id": "VwKr7fms1-95"
   },
   "outputs": [],
   "source": [
    "# Mnist\n",
    "import os\n",
    "root = os.getcwd() + \"/Datasets/\" \n",
    "mnist = datasets.MNIST(root, train=True, transform=None, target_transform=None, download=True)\n",
    "mnist_loader = torch.utils.data.DataLoader(mnist, batch_size=4, shuffle=True, num_workers=2)"
   ]
  },
  {
   "cell_type": "code",
   "execution_count": 14,
   "metadata": {
    "ExecuteTime": {
     "end_time": "2022-05-28T08:10:50.528888Z",
     "start_time": "2022-05-28T08:10:50.359031Z"
    },
    "id": "KvUH4AJN1-96"
   },
   "outputs": [],
   "source": [
    "# Fashion Mnist\n",
    "root = os.getcwd() + \"/Datasets/\" \n",
    "fashion_mnist = datasets.FashionMNIST(root, train=True, transform=None, target_transform=None, download=True)\n",
    "fashion_mnist_loader = torch.utils.data.DataLoader(fashion_mnist, batch_size=4, shuffle=True, num_workers=2)"
   ]
  },
  {
   "cell_type": "code",
   "execution_count": 15,
   "metadata": {
    "ExecuteTime": {
     "end_time": "2022-05-28T08:10:51.116539Z",
     "start_time": "2022-05-28T08:10:50.952210Z"
    },
    "id": "0GgHJP-i1-97"
   },
   "outputs": [],
   "source": [
    "# EMnist\n",
    "root = os.getcwd() + \"/Datasets/\" \n",
    "# The second argument has six options: byclass, bymerge, balanced, letters, digits and mnist\n",
    "emnist = datasets.EMNIST(root, \"mnist\", train=True, transform=None, target_transform=None, download=True)\n",
    "emnist_loader = torch.utils.data.DataLoader(emnist, batch_size=4, shuffle=True, num_workers=2)"
   ]
  },
  {
   "cell_type": "code",
   "execution_count": 16,
   "metadata": {
    "ExecuteTime": {
     "end_time": "2022-05-28T08:11:04.309206Z",
     "start_time": "2022-05-28T08:10:51.551133Z"
    }
   },
   "outputs": [
    {
     "name": "stdout",
     "output_type": "stream",
     "text": [
      "Requirement already satisfied: pycocotools-windows in c:\\anaconda\\lib\\site-packages (2.0.0.2)\n",
      "Requirement already satisfied: matplotlib>=2.1.0 in c:\\anaconda\\lib\\site-packages (from pycocotools-windows) (3.3.2)\n",
      "Requirement already satisfied: setuptools>=18.0 in c:\\anaconda\\lib\\site-packages (from pycocotools-windows) (51.0.0.post20201207)\n",
      "Requirement already satisfied: cython>=0.27.3 in c:\\anaconda\\lib\\site-packages (from pycocotools-windows) (0.29.21)\n",
      "Requirement already satisfied: pillow>=6.2.0 in c:\\anaconda\\lib\\site-packages (from matplotlib>=2.1.0->pycocotools-windows) (8.0.1)\n",
      "Requirement already satisfied: numpy>=1.15 in c:\\anaconda\\lib\\site-packages (from matplotlib>=2.1.0->pycocotools-windows) (1.19.2)\n",
      "Requirement already satisfied: cycler>=0.10 in c:\\anaconda\\lib\\site-packages (from matplotlib>=2.1.0->pycocotools-windows) (0.10.0)\n",
      "Requirement already satisfied: certifi>=2020.06.20 in c:\\anaconda\\lib\\site-packages (from matplotlib>=2.1.0->pycocotools-windows) (2020.12.5)\n",
      "Requirement already satisfied: python-dateutil>=2.1 in c:\\anaconda\\lib\\site-packages (from matplotlib>=2.1.0->pycocotools-windows) (2.8.1)\n",
      "Requirement already satisfied: kiwisolver>=1.0.1 in c:\\anaconda\\lib\\site-packages (from matplotlib>=2.1.0->pycocotools-windows) (1.3.0)\n",
      "Requirement already satisfied: pyparsing!=2.0.4,!=2.1.2,!=2.1.6,>=2.0.3 in c:\\anaconda\\lib\\site-packages (from matplotlib>=2.1.0->pycocotools-windows) (2.4.7)\n",
      "Requirement already satisfied: six in c:\\anaconda\\lib\\site-packages (from cycler>=0.10->matplotlib>=2.1.0->pycocotools-windows) (1.15.0)\n",
      "Requirement already satisfied: six in c:\\anaconda\\lib\\site-packages (from cycler>=0.10->matplotlib>=2.1.0->pycocotools-windows) (1.15.0)\n",
      "Note: you may need to restart the kernel to use updated packages.\n"
     ]
    }
   ],
   "source": [
    "pip install pycocotools-windows"
   ]
  },
  {
   "cell_type": "code",
   "execution_count": 17,
   "metadata": {
    "ExecuteTime": {
     "end_time": "2022-05-28T08:11:06.952434Z",
     "start_time": "2022-05-28T08:11:06.936322Z"
    },
    "id": "m3Kkim6u1-97"
   },
   "outputs": [
    {
     "data": {
      "text/plain": [
       "'\\n# COCO Captions\\nroot = os.getcwd() + \"/Datasets/\"\\n# Annotation file\\nannFile = \"\"\\ncoco_captions = datasets.CocoCaptions(root, annFile, transform=None, target_transform=None)\\ncoco_captions_loader = torch.utils.data.DataLoader(coco_captions, batch_size=4, shuffle=True, num_workers=2)\\n'"
      ]
     },
     "execution_count": 17,
     "metadata": {},
     "output_type": "execute_result"
    }
   ],
   "source": [
    "'''\n",
    "# COCO Captions\n",
    "root = os.getcwd() + \"/Datasets/\"\n",
    "# Annotation file\n",
    "annFile = \"\"\n",
    "coco_captions = datasets.CocoCaptions(root, annFile, transform=None, target_transform=None)\n",
    "coco_captions_loader = torch.utils.data.DataLoader(coco_captions, batch_size=4, shuffle=True, num_workers=2)\n",
    "'''"
   ]
  },
  {
   "cell_type": "code",
   "execution_count": 18,
   "metadata": {
    "ExecuteTime": {
     "end_time": "2022-05-28T08:11:07.232022Z",
     "start_time": "2022-05-28T08:11:07.213962Z"
    },
    "id": "bD5CJVYo1-97"
   },
   "outputs": [
    {
     "data": {
      "text/plain": [
       "'\\nroot = os.getcwd() + \"/Datasets/\" \\nprint(root)\\n# Annotation file\\nannFile = \"\"\\ncoco_detections = datasets.CocoDetection(root, annFile, transform=None, target_transform=None)\\ncoco_detections_loader = torch.utils.data.DataLoader(coco_detections, batch_size=4, shuffle=True, num_workers=2)\\n'"
      ]
     },
     "execution_count": 18,
     "metadata": {},
     "output_type": "execute_result"
    }
   ],
   "source": [
    "# COCO Detection\n",
    "'''\n",
    "root = os.getcwd() + \"/Datasets/\" \n",
    "print(root)\n",
    "# Annotation file\n",
    "annFile = \"\"\n",
    "coco_detections = datasets.CocoDetection(root, annFile, transform=None, target_transform=None)\n",
    "coco_detections_loader = torch.utils.data.DataLoader(coco_detections, batch_size=4, shuffle=True, num_workers=2)\n",
    "'''"
   ]
  },
  {
   "cell_type": "code",
   "execution_count": 19,
   "metadata": {
    "ExecuteTime": {
     "end_time": "2022-05-28T08:11:12.133974Z",
     "start_time": "2022-05-28T08:11:10.274843Z"
    },
    "id": "bmED_N_r1-97"
   },
   "outputs": [
    {
     "name": "stdout",
     "output_type": "stream",
     "text": [
      "Files already downloaded and verified\n"
     ]
    }
   ],
   "source": [
    "# Cifar10\n",
    "root = os.getcwd() + \"/Datasets/\" \n",
    "cifar10 = datasets.CIFAR10(root, train=True, transform=None, target_transform=None, download=True)\n",
    "cifar10_loader = torch.utils.data.DataLoader(cifar10, batch_size=4, shuffle=True, num_workers=2)"
   ]
  },
  {
   "cell_type": "code",
   "execution_count": 20,
   "metadata": {
    "ExecuteTime": {
     "end_time": "2022-05-28T08:11:13.842865Z",
     "start_time": "2022-05-28T08:11:12.261812Z"
    },
    "id": "X1MJL-Yf1-98"
   },
   "outputs": [
    {
     "name": "stdout",
     "output_type": "stream",
     "text": [
      "Files already downloaded and verified\n"
     ]
    }
   ],
   "source": [
    "# Cifar100\n",
    "root = os.getcwd() + \"/Datasets/\" \n",
    "cifar100 = datasets.CIFAR100(root, train=True, transform=None, target_transform=None, download=True)\n",
    "cifar100_loader = torch.utils.data.DataLoader(cifar100, batch_size=4, shuffle=True, num_workers=2)"
   ]
  },
  {
   "cell_type": "code",
   "execution_count": 21,
   "metadata": {
    "ExecuteTime": {
     "end_time": "2022-05-28T08:11:25.108091Z",
     "start_time": "2022-05-28T08:11:13.984812Z"
    },
    "id": "8vBcdf1U1-98"
   },
   "outputs": [
    {
     "name": "stdout",
     "output_type": "stream",
     "text": [
      "Files already downloaded and verified\n"
     ]
    }
   ],
   "source": [
    "# STL10\n",
    "root = os.getcwd() + \"/Datasets/\" \n",
    "stl10 = datasets.STL10(root, split='train', transform=None, target_transform=None, download=True)\n",
    "cifar100_loader = torch.utils.data.DataLoader(stl10, batch_size=4, shuffle=True, num_workers=2)"
   ]
  },
  {
   "cell_type": "code",
   "execution_count": 22,
   "metadata": {
    "ExecuteTime": {
     "end_time": "2022-05-28T08:11:30.960310Z",
     "start_time": "2022-05-28T08:11:25.299149Z"
    },
    "id": "nHN1l0G81-98"
   },
   "outputs": [
    {
     "name": "stdout",
     "output_type": "stream",
     "text": [
      "Using downloaded and verified file: C:\\Users\\Divyansh Choubisa\\Downloads\\Image Processing and Computer Vision/Datasets/train_32x32.mat\n"
     ]
    }
   ],
   "source": [
    "# SVHN\n",
    "root = os.getcwd() + \"/Datasets/\" \n",
    "svnh = datasets.SVHN(root, split='train', transform=None, target_transform=None, download=True)\n",
    "svnh_loader = torch.utils.data.DataLoader(svnh, batch_size=4, shuffle=True, num_workers=2)"
   ]
  },
  {
   "cell_type": "code",
   "execution_count": null,
   "metadata": {
    "id": "R8i0XnRm1-98"
   },
   "outputs": [],
   "source": []
  },
  {
   "cell_type": "code",
   "execution_count": null,
   "metadata": {
    "id": "TyYsDAWK1-98"
   },
   "outputs": [],
   "source": []
  },
  {
   "cell_type": "code",
   "execution_count": null,
   "metadata": {
    "id": "0uPJJi2n1-99"
   },
   "outputs": [],
   "source": []
  },
  {
   "cell_type": "code",
   "execution_count": null,
   "metadata": {
    "id": "Yf6elSoj1-99"
   },
   "outputs": [],
   "source": []
  },
  {
   "cell_type": "code",
   "execution_count": null,
   "metadata": {
    "id": "8e9NPH4_1-99"
   },
   "outputs": [],
   "source": []
  },
  {
   "cell_type": "markdown",
   "metadata": {
    "id": "cKWEk5ns1-9-"
   },
   "source": [
    "# RoadMap  - Custom Data Loader Examples\n",
    "\n",
    "    1. Multi Class Image Classifier - Foldered Dataset\n",
    "    2. Multi Class Image Classifier - Load labels and path from CSV\n",
    "    3. Multi Class Multi Label Image Classifier"
   ]
  },
  {
   "cell_type": "code",
   "execution_count": null,
   "metadata": {
    "id": "ksNb3fnW1-9-"
   },
   "outputs": [],
   "source": []
  },
  {
   "cell_type": "markdown",
   "metadata": {
    "id": "e3KCfc8Y1-9_"
   },
   "source": [
    "## Extra Blog Resources\n",
    "\n",
    "1. https://stats.stackexchange.com/questions/11859/what-is-the-difference-between-multiclass-and-multilabel-problem"
   ]
  },
  {
   "cell_type": "code",
   "execution_count": null,
   "metadata": {
    "id": "rGOaIQMZ1-9_"
   },
   "outputs": [],
   "source": []
  },
  {
   "cell_type": "code",
   "execution_count": null,
   "metadata": {
    "id": "hfZ8Gp2G1-9_"
   },
   "outputs": [],
   "source": []
  },
  {
   "cell_type": "code",
   "execution_count": null,
   "metadata": {
    "id": "LtfVkOLu1--A"
   },
   "outputs": [],
   "source": []
  },
  {
   "cell_type": "code",
   "execution_count": 23,
   "metadata": {
    "ExecuteTime": {
     "end_time": "2022-05-28T08:11:55.231158Z",
     "start_time": "2022-05-28T08:11:39.219838Z"
    },
    "id": "NnbX43iP1--B"
   },
   "outputs": [],
   "source": [
    "# Ignore warnings\n",
    "import warnings\n",
    "warnings.filterwarnings(\"ignore\")\n",
    "\n",
    "import torch\n",
    "import numpy as np\n",
    "from torchvision import transforms, datasets\n",
    "from PIL import Image\n",
    "import cv2\n",
    "%matplotlib inline\n",
    "from matplotlib import pyplot as plt\n",
    "\n",
    "\n",
    "\n",
    "import os\n",
    "import pandas as pd\n",
    "from skimage import io, transform\n",
    "from torch.utils.data import Dataset, DataLoader\n",
    "from torchvision import transforms, utils\n",
    "\n",
    "\n",
    "plt.ion()   # interactive mode"
   ]
  },
  {
   "cell_type": "code",
   "execution_count": null,
   "metadata": {
    "id": "G93qbz1M1--B"
   },
   "outputs": [],
   "source": []
  },
  {
   "cell_type": "code",
   "execution_count": null,
   "metadata": {
    "id": "ZT7eXL0B1--B"
   },
   "outputs": [],
   "source": []
  },
  {
   "cell_type": "markdown",
   "metadata": {
    "id": "eeJWiC9a1--B"
   },
   "source": [
    "## 1. Multi Class Image Classifier - Foldered Dataset\n",
    "    Data storage directory \n",
    "        [NOTE: Directory and File names can be anything]\n",
    "        Parent Directory\n",
    "            |\n",
    "            |----Train\n",
    "            |       |\n",
    "            |       |----Class1\n",
    "            |       |       |----img1.png\n",
    "            |       |       |----img2.png\n",
    "            |       |----Class2\n",
    "            |       |       |----img1.png\n",
    "            |               |----img2.png\n",
    "            |-----Val\n",
    "            |       |\n",
    "            |       |----Class1\n",
    "            |       |       |----img1.png\n",
    "            |       |       |----img2.png\n",
    "            |       |----Class2\n",
    "            |       |       |----img1.png\n",
    "            |       |       |----img2.png"
   ]
  },
  {
   "cell_type": "code",
   "execution_count": 24,
   "metadata": {
    "ExecuteTime": {
     "end_time": "2022-05-28T08:11:58.834171Z",
     "start_time": "2022-05-28T08:11:58.825156Z"
    },
    "id": "cZGX_bbp1--B"
   },
   "outputs": [],
   "source": [
    "#transformations\n",
    "#setting ToTensor() commented for better visualization\n",
    "data_transform = transforms.Compose([\n",
    "        transforms.RandomResizedCrop(224),\n",
    "        transforms.RandomHorizontalFlip(),\n",
    "        #transforms.ToTensor(),\n",
    "        #transforms.Normalize(mean=[0.485, 0.456, 0.406],\n",
    "        #                     std=[0.229, 0.224, 0.225])\n",
    "    ])\n",
    "\n",
    "#Using Image Folder Function\n",
    "train_data = datasets.ImageFolder(root='Sample_Data/train/',\n",
    "                                           transform=data_transform)"
   ]
  },
  {
   "cell_type": "code",
   "execution_count": 25,
   "metadata": {
    "ExecuteTime": {
     "end_time": "2022-05-28T08:11:59.831193Z",
     "start_time": "2022-05-28T08:11:59.825202Z"
    },
    "id": "SsfN8ond1--C",
    "outputId": "d720cb8c-45b3-4873-8c93-277d8cd4b43d"
   },
   "outputs": [
    {
     "name": "stdout",
     "output_type": "stream",
     "text": [
      "['ants', 'bees']\n"
     ]
    }
   ],
   "source": [
    "# Getting class list\n",
    "class_list =  train_data.classes\n",
    "print(class_list)"
   ]
  },
  {
   "cell_type": "code",
   "execution_count": 26,
   "metadata": {
    "ExecuteTime": {
     "end_time": "2022-05-28T08:12:00.157493Z",
     "start_time": "2022-05-28T08:12:00.143468Z"
    },
    "id": "Hne79UYM1--C",
    "outputId": "0531147a-29c4-4f8c-f7da-9e1b1266c2ea"
   },
   "outputs": [
    {
     "name": "stdout",
     "output_type": "stream",
     "text": [
      "{'ants': 0, 'bees': 1}\n"
     ]
    }
   ],
   "source": [
    "# Image class names to IDs\n",
    "class_to_id = train_data.class_to_idx\n",
    "print(class_to_id)"
   ]
  },
  {
   "cell_type": "code",
   "execution_count": 27,
   "metadata": {
    "ExecuteTime": {
     "end_time": "2022-05-28T08:12:01.965607Z",
     "start_time": "2022-05-28T08:12:01.956603Z"
    },
    "id": "38qtNSqk1--D",
    "outputId": "5fe27f67-dbbc-46fa-aecc-09db02c37815"
   },
   "outputs": [
    {
     "name": "stdout",
     "output_type": "stream",
     "text": [
      "[('Sample_Data/train/ants\\\\154124431_65460430f2.jpg', 0), ('Sample_Data/train/ants\\\\162603798_40b51f1654.jpg', 0), ('Sample_Data/train/ants\\\\175998972.jpg', 0), ('Sample_Data/train/bees\\\\16838648_415acd9e3f.jpg', 1), ('Sample_Data/train/bees\\\\174142798_e5ad6d76e0.jpg', 1), ('Sample_Data/train/bees\\\\472288710_2abee16fa0.jpg', 1)]\n"
     ]
    }
   ],
   "source": [
    "# Getting images list with associated class ids\n",
    "image_list = train_data.imgs\n",
    "print(image_list)"
   ]
  },
  {
   "cell_type": "code",
   "execution_count": 28,
   "metadata": {
    "ExecuteTime": {
     "end_time": "2022-05-28T08:12:02.262198Z",
     "start_time": "2022-05-28T08:12:02.253185Z"
    },
    "id": "7GgJwFoh1--E",
    "outputId": "97b3088f-73d9-45d5-8149-96735e64b5e6"
   },
   "outputs": [
    {
     "name": "stdout",
     "output_type": "stream",
     "text": [
      "Compose(\n",
      "    RandomResizedCrop(size=(224, 224), scale=(0.08, 1.0), ratio=(0.75, 1.3333), interpolation=PIL.Image.BILINEAR)\n",
      "    RandomHorizontalFlip(p=0.5)\n",
      ")\n"
     ]
    }
   ],
   "source": [
    "# Getting list of transforms applied\n",
    "transforms_list = train_data.transform\n",
    "print(transforms_list)"
   ]
  },
  {
   "cell_type": "code",
   "execution_count": 29,
   "metadata": {
    "ExecuteTime": {
     "end_time": "2022-05-28T08:12:13.567046Z",
     "start_time": "2022-05-28T08:12:13.265007Z"
    },
    "id": "rTWJ1wA71--F",
    "outputId": "8333855b-b2e8-4bbd-a625-e2822aa498c9"
   },
   "outputs": [
    {
     "name": "stdout",
     "output_type": "stream",
     "text": [
      "(224, 224) 0\n"
     ]
    },
    {
     "data": {
      "image/png": "[encoded data removed]",
      "text/plain": [
       "<Figure size 432x288 with 1 Axes>"
      ]
     },
     "metadata": {
      "needs_background": "light"
     },
     "output_type": "display_data"
    }
   ],
   "source": [
    "for image, label in train_data:\n",
    "    print(image.size, label);\n",
    "    plt.imshow(image)\n",
    "    \n",
    "    break;"
   ]
  },
  {
   "cell_type": "code",
   "execution_count": 30,
   "metadata": {
    "ExecuteTime": {
     "end_time": "2022-05-28T08:12:15.172783Z",
     "start_time": "2022-05-28T08:12:15.165783Z"
    },
    "id": "satFg-6E1--F"
   },
   "outputs": [],
   "source": [
    "#transformations\n",
    "#uncommenting ToTensor()\n",
    "data_transform = transforms.Compose([\n",
    "        transforms.RandomResizedCrop(224),\n",
    "        transforms.RandomHorizontalFlip(),\n",
    "        transforms.ToTensor(),\n",
    "        transforms.Normalize(mean=[0.485, 0.456, 0.406],\n",
    "                             std=[0.229, 0.224, 0.225])\n",
    "    ])"
   ]
  },
  {
   "cell_type": "code",
   "execution_count": 31,
   "metadata": {
    "ExecuteTime": {
     "end_time": "2022-05-28T08:12:16.664444Z",
     "start_time": "2022-05-28T08:12:16.652292Z"
    },
    "id": "2gRCR4dr1--F"
   },
   "outputs": [],
   "source": [
    "#Using Image Folder Function\n",
    "train_data = datasets.ImageFolder(root='Sample_Data/train',\n",
    "                                           transform=data_transform)"
   ]
  },
  {
   "cell_type": "code",
   "execution_count": 32,
   "metadata": {
    "ExecuteTime": {
     "end_time": "2022-05-28T08:12:25.068313Z",
     "start_time": "2022-05-28T08:12:25.060227Z"
    },
    "id": "MTXDOFeI1--F"
   },
   "outputs": [],
   "source": [
    "#Using DataLoader\n",
    "train_loader = torch.utils.data.DataLoader(train_data,\n",
    "                                             batch_size=1, shuffle=True)"
   ]
  },
  {
   "cell_type": "code",
   "execution_count": 33,
   "metadata": {
    "ExecuteTime": {
     "end_time": "2022-05-28T08:12:25.798699Z",
     "start_time": "2022-05-28T08:12:25.752705Z"
    },
    "id": "QpLy27oS1--F",
    "outputId": "f387125a-f896-4aca-d911-6bfbd0fec349"
   },
   "outputs": [
    {
     "name": "stdout",
     "output_type": "stream",
     "text": [
      "torch.Size([1, 3, 224, 224]) torch.Size([1])\n"
     ]
    }
   ],
   "source": [
    "#batch size = 2\n",
    "for data, labels in train_loader:\n",
    "    print(data.shape, labels.shape);\n",
    "    \n",
    "    break;"
   ]
  },
  {
   "cell_type": "code",
   "execution_count": null,
   "metadata": {
    "id": "SlsB2M0b1--F"
   },
   "outputs": [],
   "source": []
  },
  {
   "cell_type": "code",
   "execution_count": null,
   "metadata": {
    "id": "5izAHrfg1--F"
   },
   "outputs": [],
   "source": []
  },
  {
   "cell_type": "code",
   "execution_count": null,
   "metadata": {
    "id": "dHeOQ0cV1--G"
   },
   "outputs": [],
   "source": []
  },
  {
   "cell_type": "code",
   "execution_count": null,
   "metadata": {
    "id": "lYXgxMfA1--G"
   },
   "outputs": [],
   "source": []
  },
  {
   "cell_type": "code",
   "execution_count": null,
   "metadata": {
    "id": "qmw_5suG1--H"
   },
   "outputs": [],
   "source": []
  },
  {
   "cell_type": "code",
   "execution_count": null,
   "metadata": {
    "id": "Mv6CahS01--H"
   },
   "outputs": [],
   "source": []
  },
  {
   "cell_type": "code",
   "execution_count": null,
   "metadata": {
    "id": "UFk_GbcB1--H"
   },
   "outputs": [],
   "source": []
  },
  {
   "cell_type": "code",
   "execution_count": null,
   "metadata": {
    "id": "3O4PCtbV1--H"
   },
   "outputs": [],
   "source": []
  },
  {
   "cell_type": "code",
   "execution_count": null,
   "metadata": {
    "id": "VlmN1mtf1--H"
   },
   "outputs": [],
   "source": []
  },
  {
   "cell_type": "code",
   "execution_count": null,
   "metadata": {
    "id": "it4A9YLT1--H"
   },
   "outputs": [],
   "source": []
  },
  {
   "cell_type": "markdown",
   "metadata": {
    "id": "ImS6y5xI1--I"
   },
   "source": [
    "## 2. Multi Class Image Classifier - Load labels and path from CSV\n",
    "     \n",
    "    Data storage directory \n",
    "        [NOTE: Directory and File names can be anything]\n",
    "        Parent Directory\n",
    "            |\n",
    "            |----Train\n",
    "            |       |\n",
    "            |       |----Images\n",
    "            |       |       |----img1.png\n",
    "            |       |       |----img2.png\n",
    "            |       |----train_labels.csv\n",
    "            |\n",
    "            |----Val\n",
    "            |       |\n",
    "            |       |----Images\n",
    "            |       |       |----img1.png\n",
    "            |       |       |----img2.png\n",
    "            |       |----val_labels.csv\n",
    "            \n",
    "            \n",
    "    train_labels.csv contains a header row, the headers could be anything - one for image name column and another for the class id\n",
    "    subsequent rows will be each filled with image names and labels\n",
    "   "
   ]
  },
  {
   "cell_type": "code",
   "execution_count": 34,
   "metadata": {
    "ExecuteTime": {
     "end_time": "2022-05-28T08:12:31.482323Z",
     "start_time": "2022-05-28T08:12:31.476335Z"
    },
    "id": "8zWh5cBf1--I"
   },
   "outputs": [],
   "source": [
    "train_images_folder = \"multi_class_dataset_csv/train\";\n",
    "train_csv = \"multi_class_dataset_csv/train.csv\";"
   ]
  },
  {
   "cell_type": "code",
   "execution_count": 35,
   "metadata": {
    "ExecuteTime": {
     "end_time": "2022-05-28T08:12:31.943346Z",
     "start_time": "2022-05-28T08:12:31.921350Z"
    },
    "id": "86Fe71Tc1--J"
   },
   "outputs": [],
   "source": [
    "# Create a custom Image Dataset Class\n",
    "\n",
    "#img_list = list of images\n",
    "#label_list = list of labels in the same order\n",
    "#prefix = relative path to images folder\n",
    "\n",
    "class DatasetMultiClassCSV(Dataset):\n",
    "    def __init__(self, img_list, label_list, prefix, transform=None):\n",
    "        self.img_list = img_list;\n",
    "        self.label_list = label_list;\n",
    "        self.transform = transform;\n",
    "        self.prefix = prefix;\n",
    "        self.classes = sorted(np.unique(label_list));\n",
    "        self.class_to_idx = {};\n",
    "        for i in range(len(self.classes)):\n",
    "            self.class_to_idx[self.classes[i]] = i;\n",
    "    \n",
    "    def __len__(self):\n",
    "        return len(self.img_list)\n",
    "    \n",
    "    def __getitem__(self, index):\n",
    "        image_name = self.prefix + \"/\" + self.img_list[index];\n",
    "        image = Image.open(image_name).convert('RGB');\n",
    "        label = int(self.classes.index(self.label_list[index])); \n",
    "        if self.transform is not None:\n",
    "            image = self.transform(image);\n",
    "        return image, label"
   ]
  },
  {
   "cell_type": "code",
   "execution_count": 36,
   "metadata": {
    "ExecuteTime": {
     "end_time": "2022-05-28T08:12:33.298606Z",
     "start_time": "2022-05-28T08:12:33.209549Z"
    },
    "id": "CB2MMQ8Y1--J"
   },
   "outputs": [],
   "source": [
    "# Read the csv \n",
    "\n",
    "import pandas as pd\n",
    "df = pd.read_csv(train_csv);\n",
    "\n",
    "img_list = [];\n",
    "label_list = [];\n",
    "\n",
    "for i in range(len(df)):\n",
    "    img_list.append(df[\"ID\"][i]);\n",
    "    label_list.append(df[\"LABEL\"][i]);"
   ]
  },
  {
   "cell_type": "code",
   "execution_count": 37,
   "metadata": {
    "ExecuteTime": {
     "end_time": "2022-05-28T08:12:33.579195Z",
     "start_time": "2022-05-28T08:12:33.555174Z"
    },
    "id": "eD0N_hBB1--J"
   },
   "outputs": [],
   "source": [
    "#transformations\n",
    "\n",
    "#setting ToTensor() commented for better visualization\n",
    "data_transform = transforms.Compose([\n",
    "        transforms.RandomResizedCrop(224),\n",
    "        transforms.RandomHorizontalFlip(),\n",
    "        #transforms.ToTensor(),\n",
    "        #transforms.Normalize(mean=[0.485, 0.456, 0.406],\n",
    "        #                     std=[0.229, 0.224, 0.225])\n",
    "    ])\n",
    "\n",
    "#Using Image Folder Function\n",
    "train_data = DatasetMultiClassCSV(img_list, label_list, train_images_folder,\n",
    "                                           transform=data_transform)"
   ]
  },
  {
   "cell_type": "code",
   "execution_count": 38,
   "metadata": {
    "ExecuteTime": {
     "end_time": "2022-05-28T08:12:36.196453Z",
     "start_time": "2022-05-28T08:12:36.189483Z"
    },
    "id": "1I0aYI2q1--K",
    "outputId": "ea0c600e-b0ba-4d58-a941-815d3a7f5691"
   },
   "outputs": [
    {
     "name": "stdout",
     "output_type": "stream",
     "text": [
      "['cat', 'dog']\n"
     ]
    }
   ],
   "source": [
    "# Getting class list\n",
    "class_list =  train_data.classes\n",
    "print(class_list)"
   ]
  },
  {
   "cell_type": "code",
   "execution_count": 39,
   "metadata": {
    "ExecuteTime": {
     "end_time": "2022-05-28T08:12:36.660297Z",
     "start_time": "2022-05-28T08:12:36.649265Z"
    },
    "id": "CI-SnGaz1--K",
    "outputId": "55580f5b-814e-4e4b-8c80-c0d9118c3637"
   },
   "outputs": [
    {
     "name": "stdout",
     "output_type": "stream",
     "text": [
      "{'cat': 0, 'dog': 1}\n"
     ]
    }
   ],
   "source": [
    "# Image class names to IDs\n",
    "class_to_id = train_data.class_to_idx\n",
    "print(class_to_id)"
   ]
  },
  {
   "cell_type": "code",
   "execution_count": 40,
   "metadata": {
    "ExecuteTime": {
     "end_time": "2022-05-28T08:12:37.359421Z",
     "start_time": "2022-05-28T08:12:37.349420Z"
    },
    "id": "u1SHg0uK1--L",
    "outputId": "e1241787-3059-46e4-f1ec-7ac4658a5c0b"
   },
   "outputs": [
    {
     "name": "stdout",
     "output_type": "stream",
     "text": [
      "Compose(\n",
      "    RandomResizedCrop(size=(224, 224), scale=(0.08, 1.0), ratio=(0.75, 1.3333), interpolation=PIL.Image.BILINEAR)\n",
      "    RandomHorizontalFlip(p=0.5)\n",
      ")\n"
     ]
    }
   ],
   "source": [
    "# Getting list of transforms applied\n",
    "transforms_list = train_data.transform\n",
    "print(transforms_list)"
   ]
  },
  {
   "cell_type": "code",
   "execution_count": 41,
   "metadata": {
    "ExecuteTime": {
     "end_time": "2022-05-28T08:12:37.934621Z",
     "start_time": "2022-05-28T08:12:37.606624Z"
    },
    "id": "p68VGOiY1--L",
    "outputId": "ffb175ea-bdba-4dc3-88e3-ca76ade5d697"
   },
   "outputs": [
    {
     "name": "stdout",
     "output_type": "stream",
     "text": [
      "(224, 224) 1\n"
     ]
    },
    {
     "data": {
      "image/png": "[encoded data removed]",
      "text/plain": [
       "<Figure size 432x288 with 1 Axes>"
      ]
     },
     "metadata": {
      "needs_background": "light"
     },
     "output_type": "display_data"
    }
   ],
   "source": [
    "for image, label in train_data:\n",
    "    print(image.size, label);\n",
    "    plt.imshow(image)\n",
    "    \n",
    "    break;"
   ]
  },
  {
   "cell_type": "code",
   "execution_count": 42,
   "metadata": {
    "ExecuteTime": {
     "end_time": "2022-05-28T08:12:50.557006Z",
     "start_time": "2022-05-28T08:12:50.551598Z"
    },
    "id": "sLTnhK601--L"
   },
   "outputs": [],
   "source": [
    "#transformations\n",
    "#uncommenting ToTensor()\n",
    "data_transform = transforms.Compose([\n",
    "        transforms.RandomResizedCrop(224),\n",
    "        transforms.RandomHorizontalFlip(),\n",
    "        transforms.ToTensor(),\n",
    "        transforms.Normalize(mean=[0.485, 0.456, 0.406],\n",
    "                             std=[0.229, 0.224, 0.225])\n",
    "    ])"
   ]
  },
  {
   "cell_type": "code",
   "execution_count": 43,
   "metadata": {
    "ExecuteTime": {
     "end_time": "2022-05-28T08:12:53.682486Z",
     "start_time": "2022-05-28T08:12:53.670486Z"
    },
    "id": "7ZSixyHm1--M"
   },
   "outputs": [],
   "source": [
    "#Using Image Folder Function\n",
    "train_data = DatasetMultiClassCSV(img_list, label_list, train_images_folder,\n",
    "                                           transform=data_transform)"
   ]
  },
  {
   "cell_type": "code",
   "execution_count": 44,
   "metadata": {
    "ExecuteTime": {
     "end_time": "2022-05-28T08:12:54.041291Z",
     "start_time": "2022-05-28T08:12:54.035338Z"
    },
    "id": "ThjT24-t1--M"
   },
   "outputs": [],
   "source": [
    "#Using DataLoader\n",
    "train_loader = torch.utils.data.DataLoader(train_data,\n",
    "                                             batch_size=1, shuffle=True)"
   ]
  },
  {
   "cell_type": "code",
   "execution_count": 45,
   "metadata": {
    "ExecuteTime": {
     "end_time": "2022-05-28T08:12:54.396932Z",
     "start_time": "2022-05-28T08:12:54.361939Z"
    },
    "id": "WAxtvayE1--M",
    "outputId": "0d764ab8-64cb-40d1-d247-4a48264f6976"
   },
   "outputs": [
    {
     "name": "stdout",
     "output_type": "stream",
     "text": [
      "torch.Size([1, 3, 224, 224]) torch.Size([1])\n"
     ]
    }
   ],
   "source": [
    "#batch size = 2\n",
    "for data, labels in train_loader:\n",
    "    print(data.shape, labels.shape);\n",
    "    \n",
    "    break;"
   ]
  },
  {
   "cell_type": "code",
   "execution_count": null,
   "metadata": {
    "id": "W4xfA4ND1--M"
   },
   "outputs": [],
   "source": []
  },
  {
   "cell_type": "code",
   "execution_count": null,
   "metadata": {
    "id": "qs7CaZlW1--M"
   },
   "outputs": [],
   "source": []
  },
  {
   "cell_type": "code",
   "execution_count": null,
   "metadata": {
    "id": "W93_Zxcd1--M"
   },
   "outputs": [],
   "source": []
  },
  {
   "cell_type": "code",
   "execution_count": null,
   "metadata": {
    "id": "8s880irU1--N"
   },
   "outputs": [],
   "source": []
  },
  {
   "cell_type": "code",
   "execution_count": null,
   "metadata": {
    "id": "GDyb_-Zo1--N"
   },
   "outputs": [],
   "source": []
  },
  {
   "cell_type": "code",
   "execution_count": null,
   "metadata": {
    "id": "gyeDvm3g1--O"
   },
   "outputs": [],
   "source": []
  },
  {
   "cell_type": "code",
   "execution_count": null,
   "metadata": {
    "id": "isb0ew6u1--O"
   },
   "outputs": [],
   "source": []
  },
  {
   "cell_type": "code",
   "execution_count": null,
   "metadata": {
    "id": "EATLcLwp1--O"
   },
   "outputs": [],
   "source": []
  },
  {
   "cell_type": "code",
   "execution_count": null,
   "metadata": {
    "id": "AN89U5dY1--O"
   },
   "outputs": [],
   "source": []
  },
  {
   "cell_type": "code",
   "execution_count": null,
   "metadata": {
    "id": "i7lpzB_c1--O"
   },
   "outputs": [],
   "source": []
  },
  {
   "cell_type": "markdown",
   "metadata": {
    "id": "_4qw4-n51--P"
   },
   "source": [
    "## 3. Multi Class Multi Label Image Classifier  - One hot encoding\n",
    "\n",
    "    Data storage directory \n",
    "        [NOTE: Directory and File names can be anything]\n",
    "        Parent Directory\n",
    "            |\n",
    "            |----Train\n",
    "            |       |\n",
    "            |       |----Images\n",
    "            |       |       |----img1.png\n",
    "            |       |       |----img2.png\n",
    "            |       |----train_labels.csv\n",
    "            |\n",
    "            |----Val\n",
    "            |       |\n",
    "            |       |----Images\n",
    "            |       |       |----img1.png\n",
    "            |       |       |----img2.png\n",
    "            |       |----val_labels.csv\n",
    "            \n",
    "            \n",
    "    train_labels.csv contains a header row, the headers could be anything - one for image name column and another for the list of classes it represents\n",
    "    subsequent rows will be each filled with image names and list of labels\n",
    "    \n",
    "    # A sample of data is taken from https://analyticsindiamag.com/multi-label-image-classification-with-tensorflow-keras/ for demonstration\n"
   ]
  },
  {
   "cell_type": "code",
   "execution_count": 46,
   "metadata": {
    "ExecuteTime": {
     "end_time": "2022-05-28T08:12:59.099084Z",
     "start_time": "2022-05-28T08:12:59.090057Z"
    },
    "id": "9PqQiNIt1--P"
   },
   "outputs": [],
   "source": [
    "train_images_folder = \"multi_label_dataset/Images\";\n",
    "train_csv = \"multi_label_dataset/train_labels.csv\";"
   ]
  },
  {
   "cell_type": "code",
   "execution_count": 47,
   "metadata": {
    "ExecuteTime": {
     "end_time": "2022-05-28T08:12:59.289092Z",
     "start_time": "2022-05-28T08:12:59.275087Z"
    },
    "id": "y_l0GlF31--P"
   },
   "outputs": [],
   "source": [
    "# Create a custom Image Dataset Class\n",
    "\n",
    "#img_list = list of images\n",
    "#label_list = list of labels in the same order\n",
    "#prefix = relative path to images folder\n",
    "\n",
    "class DatasetMultiClassMultiLabelCSV(Dataset):\n",
    "    def __init__(self, img_list, label_list, prefix, transform=None):\n",
    "        self.img_list = img_list;\n",
    "        self.label_list = label_list;\n",
    "        self.transform = transform;\n",
    "        self.prefix = prefix;\n",
    "        self.classes = self.get_classes();\n",
    "        self.class_to_idx = {};\n",
    "        for i in range(len(self.classes)):\n",
    "            self.class_to_idx[self.classes[i]] = i; \n",
    "    \n",
    "    def __len__(self):\n",
    "        return len(self.img_list)\n",
    "    \n",
    "    def __getitem__(self, index):\n",
    "        image_name = self.prefix + \"/\" + self.img_list[index];\n",
    "        image = Image.open(image_name).convert('RGB');\n",
    "        label = self.get_one_hot_label(self.label_list[index]); \n",
    "        if self.transform is not None:\n",
    "            image = self.transform(image);\n",
    "        return image, label\n",
    "    \n",
    "    def get_classes(self):\n",
    "        classes = [];\n",
    "        for i in range(len(self.label_list)):\n",
    "            tmp = self.label_list[i].split(\",\");\n",
    "            for j in range(len(tmp)):\n",
    "                if tmp[j] not in classes:\n",
    "                    classes.append(tmp[j]);\n",
    "        return sorted(classes)\n",
    "    \n",
    "    def get_one_hot_label(self, label_list):\n",
    "        label = [];\n",
    "        for i in range(len(self.classes)):\n",
    "            if(self.classes[i] in label_list):\n",
    "                label.append(1);\n",
    "            else:\n",
    "                label.append(0);\n",
    "        return label\n",
    "            \n",
    "        "
   ]
  },
  {
   "cell_type": "code",
   "execution_count": 48,
   "metadata": {
    "ExecuteTime": {
     "end_time": "2022-05-28T08:13:00.459502Z",
     "start_time": "2022-05-28T08:13:00.424473Z"
    },
    "id": "6WGyVeFj1--P"
   },
   "outputs": [],
   "source": [
    "# Read the csv \n",
    "\n",
    "import pandas as pd\n",
    "df = pd.read_csv(train_csv);\n",
    "\n",
    "img_list = [];\n",
    "label_list = [];\n",
    "\n",
    "for i in range(len(df)):\n",
    "    img_list.append(df[\"ID\"][i]);\n",
    "    label_list.append(df[\"LABEL\"][i]);"
   ]
  },
  {
   "cell_type": "code",
   "execution_count": 49,
   "metadata": {
    "ExecuteTime": {
     "end_time": "2022-05-28T08:13:00.692175Z",
     "start_time": "2022-05-28T08:13:00.682175Z"
    },
    "id": "AYt2JaCU1--X",
    "outputId": "09e2993e-fba1-4892-9708-84bcb7444342"
   },
   "outputs": [
    {
     "data": {
      "text/plain": [
       "'desert'"
      ]
     },
     "execution_count": 49,
     "metadata": {},
     "output_type": "execute_result"
    }
   ],
   "source": [
    "label_list[0]"
   ]
  },
  {
   "cell_type": "code",
   "execution_count": 50,
   "metadata": {
    "ExecuteTime": {
     "end_time": "2022-05-28T08:13:01.023296Z",
     "start_time": "2022-05-28T08:13:01.017372Z"
    },
    "id": "7rrmKHkk1--Z"
   },
   "outputs": [],
   "source": [
    "#transformations\n",
    "\n",
    "#setting ToTensor() commented for better visualization\n",
    "data_transform = transforms.Compose([\n",
    "        transforms.RandomResizedCrop(224),\n",
    "        transforms.RandomHorizontalFlip(),\n",
    "        #transforms.ToTensor(),\n",
    "        #transforms.Normalize(mean=[0.485, 0.456, 0.406],\n",
    "        #                     std=[0.229, 0.224, 0.225])\n",
    "    ])\n",
    "\n",
    "#Using Image Folder Function\n",
    "train_data = DatasetMultiClassMultiLabelCSV(img_list, label_list, train_images_folder,\n",
    "                                           transform=data_transform)"
   ]
  },
  {
   "cell_type": "code",
   "execution_count": 51,
   "metadata": {
    "ExecuteTime": {
     "end_time": "2022-05-28T08:13:02.563325Z",
     "start_time": "2022-05-28T08:13:02.552295Z"
    },
    "id": "KvTuMqkJ1--a",
    "outputId": "3d7cc31d-3f87-4210-a22a-a9268663cb02"
   },
   "outputs": [
    {
     "name": "stdout",
     "output_type": "stream",
     "text": [
      "['desert', 'mountains', 'sunset', 'trees']\n"
     ]
    }
   ],
   "source": [
    "# Getting class list\n",
    "class_list =  train_data.classes\n",
    "print(class_list)"
   ]
  },
  {
   "cell_type": "code",
   "execution_count": 52,
   "metadata": {
    "ExecuteTime": {
     "end_time": "2022-05-28T08:13:02.748322Z",
     "start_time": "2022-05-28T08:13:02.735294Z"
    },
    "id": "-wEmai241--a",
    "outputId": "d3cd77b0-9a1d-44a6-89e7-3ab4f196324c"
   },
   "outputs": [
    {
     "name": "stdout",
     "output_type": "stream",
     "text": [
      "{'desert': 0, 'mountains': 1, 'sunset': 2, 'trees': 3}\n"
     ]
    }
   ],
   "source": [
    "# Image class names to IDs\n",
    "class_to_id = train_data.class_to_idx\n",
    "print(class_to_id)"
   ]
  },
  {
   "cell_type": "code",
   "execution_count": 53,
   "metadata": {
    "ExecuteTime": {
     "end_time": "2022-05-28T08:13:03.228106Z",
     "start_time": "2022-05-28T08:13:03.210030Z"
    },
    "id": "fL7mvf5H1--b",
    "outputId": "9771168a-281b-4027-e28b-4c09216e9073"
   },
   "outputs": [
    {
     "name": "stdout",
     "output_type": "stream",
     "text": [
      "Compose(\n",
      "    RandomResizedCrop(size=(224, 224), scale=(0.08, 1.0), ratio=(0.75, 1.3333), interpolation=PIL.Image.BILINEAR)\n",
      "    RandomHorizontalFlip(p=0.5)\n",
      ")\n"
     ]
    }
   ],
   "source": [
    "# Getting list of transforms applied\n",
    "transforms_list = train_data.transform\n",
    "print(transforms_list)"
   ]
  },
  {
   "cell_type": "code",
   "execution_count": 54,
   "metadata": {
    "ExecuteTime": {
     "end_time": "2022-05-28T08:13:06.420763Z",
     "start_time": "2022-05-28T08:13:06.148735Z"
    },
    "id": "xhqWNi1D1--c",
    "outputId": "279addea-9519-4903-fae5-da70c539ad46"
   },
   "outputs": [
    {
     "name": "stdout",
     "output_type": "stream",
     "text": [
      "(224, 224) [1, 0, 0, 0]\n"
     ]
    },
    {
     "data": {
      "image/png": "[encoded data removed]",
      "text/plain": [
       "<Figure size 432x288 with 1 Axes>"
      ]
     },
     "metadata": {
      "needs_background": "light"
     },
     "output_type": "display_data"
    }
   ],
   "source": [
    "for image, label in train_data:\n",
    "    print(image.size, label);\n",
    "    plt.imshow(image)\n",
    "    \n",
    "    break;"
   ]
  },
  {
   "cell_type": "code",
   "execution_count": 55,
   "metadata": {
    "ExecuteTime": {
     "end_time": "2022-05-28T08:13:10.199996Z",
     "start_time": "2022-05-28T08:13:10.190009Z"
    },
    "id": "98U3eOZt1--c"
   },
   "outputs": [],
   "source": [
    "#transformations\n",
    "#uncommenting ToTensor()\n",
    "data_transform = transforms.Compose([\n",
    "        transforms.RandomResizedCrop(224),\n",
    "        transforms.RandomHorizontalFlip(),\n",
    "        transforms.ToTensor(),\n",
    "        transforms.Normalize(mean=[0.485, 0.456, 0.406],\n",
    "                             std=[0.229, 0.224, 0.225])\n",
    "    ])"
   ]
  },
  {
   "cell_type": "code",
   "execution_count": 56,
   "metadata": {
    "ExecuteTime": {
     "end_time": "2022-05-28T08:13:10.559212Z",
     "start_time": "2022-05-28T08:13:10.544211Z"
    },
    "id": "ri87ywl81--d"
   },
   "outputs": [],
   "source": [
    "#Using Image Folder Function\n",
    "train_data = DatasetMultiClassCSV(img_list, label_list, train_images_folder,\n",
    "                                           transform=data_transform)"
   ]
  },
  {
   "cell_type": "code",
   "execution_count": 57,
   "metadata": {
    "ExecuteTime": {
     "end_time": "2022-05-28T08:13:10.967979Z",
     "start_time": "2022-05-28T08:13:10.960928Z"
    },
    "id": "W64nv2cI1--d"
   },
   "outputs": [],
   "source": [
    "#Using DataLoader\n",
    "train_loader = torch.utils.data.DataLoader(train_data,\n",
    "                                             batch_size=1, shuffle=True,\n",
    "                                             #num_workers=4\n",
    "                                          )"
   ]
  },
  {
   "cell_type": "code",
   "execution_count": 58,
   "metadata": {
    "ExecuteTime": {
     "end_time": "2022-05-28T08:13:11.868437Z",
     "start_time": "2022-05-28T08:13:11.837411Z"
    },
    "id": "OWYxbdQp1--d",
    "outputId": "5dd65281-5867-45e0-cd74-c63ef5e802a8"
   },
   "outputs": [
    {
     "name": "stdout",
     "output_type": "stream",
     "text": [
      "torch.Size([1, 3, 224, 224]) torch.Size([1])\n"
     ]
    }
   ],
   "source": [
    "#batch size = 2\n",
    "for data, labels in train_loader:\n",
    "    print(data.shape, labels.shape);\n",
    "    \n",
    "    break;"
   ]
  },
  {
   "cell_type": "code",
   "execution_count": null,
   "metadata": {
    "id": "n6yaCapX1--d"
   },
   "outputs": [],
   "source": []
  },
  {
   "cell_type": "code",
   "execution_count": null,
   "metadata": {
    "id": "VL6ZE5Su1--d"
   },
   "outputs": [],
   "source": []
  },
  {
   "cell_type": "code",
   "execution_count": null,
   "metadata": {
    "id": "ZWGL0kq41--d"
   },
   "outputs": [],
   "source": []
  },
  {
   "cell_type": "code",
   "execution_count": null,
   "metadata": {
    "id": "vwzFdn-X1--e"
   },
   "outputs": [],
   "source": []
  },
  {
   "cell_type": "markdown",
   "metadata": {
    "id": "2xPM-3DO1--f"
   },
   "source": [
    "## Appendix Modules - Data Loading using Monk \n",
    "\n",
    " - Load Data using single line of code\n",
    " - Apply Transforms with few lines of code"
   ]
  },
  {
   "cell_type": "code",
   "execution_count": null,
   "metadata": {
    "id": "trki5t1o1--f",
    "outputId": "c438014f-20ac-4911-a81b-64e20a91351a"
   },
   "outputs": [],
   "source": [
    "!git clone https://github.com/Tessellate-Imaging/monk_v1"
   ]
  },
  {
   "cell_type": "code",
   "execution_count": null,
   "metadata": {
    "id": "6JPC64Tv1--f"
   },
   "outputs": [],
   "source": [
    "!pip install -r monk_v1/installation/requirements_cu9.txt    \n",
    "#Select Installation file as per the system"
   ]
  },
  {
   "cell_type": "code",
   "execution_count": null,
   "metadata": {
    "id": "I8cG3kL91--f",
    "outputId": "adb47047-37c7-4c5d-d2a7-62d0f15904b1"
   },
   "outputs": [],
   "source": [
    "import sys\n",
    "sys.path.append(\"monk_v1/monk/\")\n",
    "from pytorch_prototype import prototype\n",
    "\n",
    "# Step 1 - Create experiment\n",
    "ptf = prototype(verbose=1);\n",
    "ptf.Prototype(\"exp-1\", \"proj-1\");"
   ]
  },
  {
   "cell_type": "code",
   "execution_count": null,
   "metadata": {
    "id": "r19XCn-j1--g"
   },
   "outputs": [],
   "source": []
  },
  {
   "cell_type": "code",
   "execution_count": null,
   "metadata": {
    "id": "mT0ojJxk1--g"
   },
   "outputs": [],
   "source": []
  },
  {
   "cell_type": "markdown",
   "metadata": {
    "id": "2Mi8eL0T1--g"
   },
   "source": [
    "### 1. Multi Class Image Classifier - Foldered Dataset"
   ]
  },
  {
   "cell_type": "code",
   "execution_count": null,
   "metadata": {
    "id": "HuHLabSD1--h",
    "outputId": "f62082e1-c10e-45d1-8000-0c5bfe3d58bd"
   },
   "outputs": [],
   "source": [
    "# Few Lines of Code\n",
    "ptf.Dataset_Params(dataset_path=\"Sample_Datatrain\", \n",
    "                   split=0.9,input_size=224, batch_size=16, \n",
    "                   shuffle_data=True, num_processors=3);\n",
    "\n",
    "# Transform\n",
    "ptf.apply_random_horizontal_flip(train=True, val=True);\n",
    "ptf.apply_normalize(mean=[0.485, 0.456, 0.406], std=[0.229, 0.224, 0.225], train=True, val=True, test=True);\n",
    "\n",
    "# Set Dataset\n",
    "ptf.Dataset();"
   ]
  },
  {
   "cell_type": "code",
   "execution_count": null,
   "metadata": {
    "id": "yd32j_lC1--h"
   },
   "outputs": [],
   "source": []
  },
  {
   "cell_type": "code",
   "execution_count": null,
   "metadata": {
    "id": "qYso1UOf1--h"
   },
   "outputs": [],
   "source": []
  },
  {
   "cell_type": "markdown",
   "metadata": {
    "id": "pe_kqiA31--h"
   },
   "source": [
    "### 2. Multi Class Image Classifier - Load labels and path from CSV"
   ]
  },
  {
   "cell_type": "code",
   "execution_count": null,
   "metadata": {
    "id": "SLHU3EGy1--h",
    "outputId": "28ef9ebb-8db1-4a79-a4d2-4f1c1dffdd67"
   },
   "outputs": [],
   "source": [
    "# Few Lines of Code\n",
    "ptf.Dataset_Params(dataset_path=\"multi_class_dataset_csv/train\", \n",
    "                   path_to_csv=\"multi_class_dataset_csv/train.csv\",\n",
    "                   split=0.9,input_size=224, batch_size=16, \n",
    "                   shuffle_data=True, num_processors=3);\n",
    "\n",
    "# Transform\n",
    "ptf.apply_random_horizontal_flip(train=True, val=True);\n",
    "ptf.apply_normalize(mean=[0.485, 0.456, 0.406], std=[0.229, 0.224, 0.225], train=True, val=True, test=True);\n",
    "\n",
    "# Set Dataset\n",
    "ptf.Dataset();"
   ]
  },
  {
   "cell_type": "code",
   "execution_count": null,
   "metadata": {
    "id": "-vEu_yfb1--h"
   },
   "outputs": [],
   "source": []
  }
 ],
 "metadata": {
  "colab": {
   "collapsed_sections": [
    "BJnhbC7o1-95",
    "e3KCfc8Y1-9_",
    "ImS6y5xI1--I",
    "pe_kqiA31--h"
   ],
   "name": "Day 3 - Part 3 Workshop.ipynb",
   "provenance": [],
   "toc_visible": true
  },
  "kernelspec": {
   "display_name": "Python 3",
   "language": "python",
   "name": "python3"
  },
  "language_info": {
   "codemirror_mode": {
    "name": "ipython",
    "version": 3
   },
   "file_extension": ".py",
   "mimetype": "text/x-python",
   "name": "python",
   "nbconvert_exporter": "python",
   "pygments_lexer": "ipython3",
   "version": "3.7.9"
  },
  "toc": {
   "base_numbering": 1,
   "nav_menu": {},
   "number_sections": true,
   "sideBar": true,
   "skip_h1_title": false,
   "title_cell": "Table of Contents",
   "title_sidebar": "Contents",
   "toc_cell": false,
   "toc_position": {},
   "toc_section_display": true,
   "toc_window_display": false
  },
  "varInspector": {
   "cols": {
    "lenName": 16,
    "lenType": 16,
    "lenVar": 40
   },
   "kernels_config": {
    "python": {
     "delete_cmd_postfix": "",
     "delete_cmd_prefix": "del ",
     "library": "var_list.py",
     "varRefreshCmd": "print(var_dic_list())"
    },
    "r": {
     "delete_cmd_postfix": ") ",
     "delete_cmd_prefix": "rm(",
     "library": "var_list.r",
     "varRefreshCmd": "cat(var_dic_list()) "
    }
   },
   "types_to_exclude": [
    "module",
    "function",
    "builtin_function_or_method",
    "instance",
    "_Feature"
   ],
   "window_display": false
  }
 },
 "nbformat": 4,
 "nbformat_minor": 1
}
