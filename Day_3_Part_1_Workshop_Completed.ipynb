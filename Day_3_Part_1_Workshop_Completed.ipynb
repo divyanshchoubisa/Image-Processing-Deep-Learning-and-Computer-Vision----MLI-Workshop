{
 "cells": [
  {
   "cell_type": "code",
   "execution_count": null,
   "metadata": {
    "id": "JcKlA7F0rPM9"
   },
   "outputs": [],
   "source": []
  },
  {
   "cell_type": "code",
   "execution_count": null,
   "metadata": {
    "id": "xpSbm3q4rPD2"
   },
   "outputs": [],
   "source": []
  },
  {
   "cell_type": "markdown",
   "metadata": {
    "id": "KFHmGxLUrMuv"
   },
   "source": [
    "# Roadmap 1 - Pytorch Main Module\n",
    "\n",
    "    1.1.  torch.is_tensor   - returns true if object is a tensor\n",
    "    1.2.  torch.tensor      - Constructs a tensor with data\n",
    "    1.3.  torch.from_numpy  - From numpy array to Tensor \n",
    "    \n",
    "    \n",
    "    2.1.  torch.zeros       - Returns a tensor filled with the scalar value 0\n",
    "    2.2.  torch.ones        - Returns a tensor filled with the scalar value 1\n",
    "    2.3.  torch.empty       - Returns an empty tensor.\n",
    "    \n",
    "    3.1.  torch.arange      - Returns a 1-D tensor of size ⌊end−start]/[step⌋ with values from the interval\n",
    "    3.2.  torch.linspace    - Returns a one-dimensional tensor of steps equally spaced points between start and end\n",
    "    3.3.  torch.logspace    - Returns a one-dimensional tensor of steps points logarithmically spaced \n",
    "    \n",
    "    4.1.  torch.eye         - Returns a 2-D tensor with ones on the diagonal and zeros elsewhere.\n",
    "    4.2.  torch.full        - Returns a tensor of size size filled with fill_value\n",
    "    \n",
    "    5.1.  torch.cat         - Concatenates the given sequence of seq tensors in the given dimension.\n",
    "    5.2.  torch.masked_select - Returns a new 1-D tensor which indexes the input tensor according to \n",
    "                                the binary mask mask which is a ByteTensor.\n",
    "    5.3.  torch.nonzero     - Returns a tensor containing the indices of all non-zero elements of input. \n",
    "    5.4.  torch.where       - Return a tensor of elements selected from either x or y, depending on condition\n",
    "    \n",
    "    6.1.  torch.reshape     - Returns a reshaped tensor\n",
    "    6.2.  torch.squeeze     - Returns a tensor with all the dimensions of input of size 1 removed.\n",
    "    6.3.  torch.take        - Returns a new tensor with the elements of input at the given indices.\n",
    "    6.4.  torch.t           - Expects input to be a matrix (2-D tensor) and transposes dimensions 0 and 1.\n",
    "    6.5.  torch.transpose   - Returns a tensor that is a transposed version of input.\n",
    "    6.6.  torch.unsqueeze   - Returns a new tensor with a dimension of size one inserted at the specified position.\n",
    "    \n",
    "    7.1.  torch.normal      - Returns a tensor of random numbers drawn from separate normal distributions \n",
    "    7.2.  torch.rand        - Returns a tensor filled with random numbers from a uniform distribution on the\n",
    "                                interval [0,1)\n",
    "    7.3.  torch.randint     - Returns a tensor filled with random integers generated uniformly between low \n",
    "                              (inclusive) and high (exclusive).\n",
    "    7.4.  torch.randn       - Returns a tensor filled with random numbers from a normal distribution with mean 0 \n",
    "                              and variance 1 (also called the standard normal distribution).\n",
    "    \n",
    "    8.1.  torch.save        - Saves an object to a disk file.\n",
    "    8.2.  tensor.load       - Loads an object saved with torch.save() from a file.\n",
    "    8.3.  torch.no_grad()   - Disable grad\n",
    "    8.4.  torch.enable_grad()  - Enable grad\n",
    "    8.5.  torch.is_nan      - Check if any nan value are there in tensor\n",
    "    8.6.  torch.device()    - Switch between cpu, gpu\n",
    "    8.7.  torch.autograd.profiler.profile - Context manager that manages autograd profiler state and holds a summary of results.\n",
    "    "
   ]
  },
  {
   "cell_type": "code",
   "execution_count": 1,
   "metadata": {
    "id": "U57ihvwnrMu5"
   },
   "outputs": [],
   "source": [
    "import os\n",
    "import sys"
   ]
  },
  {
   "cell_type": "code",
   "execution_count": 2,
   "metadata": {
    "id": "WCHvAzmqrMu7"
   },
   "outputs": [],
   "source": [
    "import torch\n",
    "import numpy as np"
   ]
  },
  {
   "cell_type": "code",
   "execution_count": null,
   "metadata": {
    "id": "R3qvd9uMrMu8"
   },
   "outputs": [],
   "source": []
  },
  {
   "cell_type": "markdown",
   "metadata": {
    "id": "Q9IdK9Z2rMu9"
   },
   "source": [
    "## Extra Blog Resources\n",
    "\n",
    "1. https://www.kdnuggets.com/2018/05/wtf-tensor.html\n",
    "\n",
    "2. https://www.datacamp.com/community/tutorials/investigating-tensors-pytorch"
   ]
  },
  {
   "cell_type": "code",
   "execution_count": null,
   "metadata": {
    "id": "-GI12s8srMu9"
   },
   "outputs": [],
   "source": []
  },
  {
   "cell_type": "code",
   "execution_count": 3,
   "metadata": {
    "colab": {
     "base_uri": "https://localhost:8080/"
    },
    "id": "xeU8mVP3rMu-",
    "outputId": "3e94d212-4a2e-4917-9dca-b01e2829c15e"
   },
   "outputs": [
    {
     "name": "stdout",
     "output_type": "stream",
     "text": [
      "Is x a tensor:  False\n"
     ]
    }
   ],
   "source": [
    "# Checking Tensor\n",
    "\n",
    "'''\n",
    "1.1 torch.is_tensor - returns true if object is a tensor\n",
    "'''\n",
    "\n",
    "x = np.matrix('1 2; 3 4')\n",
    "value = torch.is_tensor(x)\n",
    "print(\"Is x a tensor: \", value)\n"
   ]
  },
  {
   "cell_type": "code",
   "execution_count": null,
   "metadata": {
    "id": "OtyIJ5lJrMvB"
   },
   "outputs": [],
   "source": []
  },
  {
   "cell_type": "code",
   "execution_count": 4,
   "metadata": {
    "colab": {
     "base_uri": "https://localhost:8080/"
    },
    "id": "5H_91BX7rMvB",
    "outputId": "733825df-c679-4a23-bdc0-3db6c58a5d79"
   },
   "outputs": [
    {
     "name": "stdout",
     "output_type": "stream",
     "text": [
      "Numpy to tensor. <class 'numpy.matrix'> <class 'torch.Tensor'> \n",
      "\n",
      "List to tensor. <class 'list'> <class 'torch.Tensor'> \n",
      "\n",
      "Scalar to tensor. <class 'float'> <class 'torch.Tensor'> \n",
      "\n",
      "Empty List to tensor. <class 'list'> <class 'torch.Tensor'> \n",
      "\n"
     ]
    }
   ],
   "source": [
    "# Torch Tensor\n",
    "\n",
    "'''\n",
    "1.2. torch.tensor - Constructs a tensor with data\n",
    "        - data (array_like) – Can be a list, tuple, NumPy ndarray, scalar, and other types.\n",
    "'''\n",
    "\n",
    "# Numpy to Tensor\n",
    "x = np.matrix('1 2; 3 4')\n",
    "x_tensor = torch.tensor(x)\n",
    "print(\"Numpy to tensor.\", type(x), type(x_tensor), \"\\n\")\n",
    "\n",
    "\n",
    "# List to Tensor\n",
    "x = [1, 2, 3, 4]\n",
    "x_tensor = torch.tensor(x)\n",
    "print(\"List to tensor.\", type(x), type(x_tensor), \"\\n\")\n",
    "\n",
    "\n",
    "# Scalar to Tensor\n",
    "x = 3.142\n",
    "x_tensor = torch.tensor(x)\n",
    "print(\"Scalar to tensor.\", type(x), type(x_tensor), \"\\n\")\n",
    "\n",
    "\n",
    "# Empty list to Tensor\n",
    "x = []\n",
    "x_tensor = torch.tensor(x)\n",
    "print(\"Empty List to tensor.\", type(x), type(x_tensor), \"\\n\")"
   ]
  },
  {
   "cell_type": "code",
   "execution_count": null,
   "metadata": {
    "id": "NVpRg1JQrMvB"
   },
   "outputs": [],
   "source": []
  },
  {
   "cell_type": "code",
   "execution_count": 5,
   "metadata": {
    "colab": {
     "base_uri": "https://localhost:8080/"
    },
    "id": "t1LCUPC1rMvC",
    "outputId": "3b30dd3e-73ec-416c-f4af-5e7fdbcd67ce"
   },
   "outputs": [
    {
     "name": "stdout",
     "output_type": "stream",
     "text": [
      "Type of x:  <class 'numpy.ndarray'>\n",
      "Type of x_t:  <class 'torch.Tensor'>\n",
      "Type of x_n:  <class 'numpy.ndarray'>\n"
     ]
    }
   ],
   "source": [
    "# From numpy array to Tensor \n",
    "# From Tensor to numpy array\n",
    "\n",
    "'''\n",
    "1.3 torch.from_numpy() - Numpy to Tensor\n",
    "\n",
    "    numpy() - Tensor to Numpy\n",
    "\n",
    "'''\n",
    "\n",
    "\n",
    "x = np.array([1, 2, 3])\n",
    "print(\"Type of x: \", type(x))\n",
    "x_t = torch.from_numpy(x)\n",
    "print(\"Type of x_t: \", type(x_t))\n",
    "x_n = x_t.numpy()\n",
    "print(\"Type of x_n: \", type(x_n))"
   ]
  },
  {
   "cell_type": "code",
   "execution_count": null,
   "metadata": {
    "id": "YcNBoiU_rMvE"
   },
   "outputs": [],
   "source": []
  },
  {
   "cell_type": "code",
   "execution_count": null,
   "metadata": {
    "id": "QteVUdkdrMvF"
   },
   "outputs": [],
   "source": []
  },
  {
   "cell_type": "code",
   "execution_count": null,
   "metadata": {
    "id": "ozAhNUrTrMvF"
   },
   "outputs": [],
   "source": []
  },
  {
   "cell_type": "code",
   "execution_count": null,
   "metadata": {
    "id": "-uc8RIdIrMvG"
   },
   "outputs": [],
   "source": []
  },
  {
   "cell_type": "code",
   "execution_count": null,
   "metadata": {
    "id": "ABnUmhqjrMvG"
   },
   "outputs": [],
   "source": []
  },
  {
   "cell_type": "code",
   "execution_count": 6,
   "metadata": {
    "colab": {
     "base_uri": "https://localhost:8080/"
    },
    "id": "BtmYpT5XrMvG",
    "outputId": "3c45c9e2-eaa5-425a-c0b5-29c2ef829fa8"
   },
   "outputs": [
    {
     "name": "stdout",
     "output_type": "stream",
     "text": [
      "x_t1 =  tensor([[0., 0., 0.],\n",
      "        [0., 0., 0.]])\n",
      "x_t2 =  tensor([0., 0., 0., 0., 0.])\n",
      "x_t2.shape =  torch.Size([4, 2, 3])\n"
     ]
    }
   ],
   "source": [
    "# Zeros\n",
    "\n",
    "'''\n",
    "2.1. torch.zeros - Returns a tensor filled with the scalar value 0, with the shape defined by the variable argument\n",
    "        - sizes - Mention the ND array size\n",
    "        - dtype - Data type.\n",
    "'''\n",
    "\n",
    "#rows - 2, columns - 3\n",
    "x_t1 = torch.zeros(2, 3)\n",
    "print(\"x_t1 = \", x_t1)\n",
    "\n",
    "x_t2 = torch.zeros(5)\n",
    "print(\"x_t2 = \", x_t2)\n",
    "\n",
    "#depth - 4, rows - 2, columns - 3\n",
    "x_t2 = torch.zeros(4, 2, 3)\n",
    "print(\"x_t2.shape = \", x_t2.shape)"
   ]
  },
  {
   "cell_type": "code",
   "execution_count": null,
   "metadata": {
    "id": "fIUQEQZhrMvH"
   },
   "outputs": [],
   "source": []
  },
  {
   "cell_type": "code",
   "execution_count": 7,
   "metadata": {
    "colab": {
     "base_uri": "https://localhost:8080/"
    },
    "id": "e0dQxw0UrMvI",
    "outputId": "c96544b0-e3eb-4074-aff7-defcd5c24c1e"
   },
   "outputs": [
    {
     "name": "stdout",
     "output_type": "stream",
     "text": [
      "x_t1 =  tensor([[1., 1., 1.],\n",
      "        [1., 1., 1.]])\n",
      "x_t2 =  tensor([1., 1., 1., 1., 1.])\n"
     ]
    }
   ],
   "source": [
    "# Ones\n",
    "\n",
    "'''\n",
    "2.2. torch.ones - Returns a tensor filled with the scalar value 1, with the shape defined by the variable argument \n",
    "        - sizes - Mention the ND array size\n",
    "        - dtype - Data type.\n",
    "'''\n",
    "\n",
    "x_t1 = torch.ones(2, 3)\n",
    "print(\"x_t1 = \", x_t1)\n",
    "\n",
    "x_t2 = torch.ones(5)\n",
    "print(\"x_t2 = \", x_t2)\n"
   ]
  },
  {
   "cell_type": "code",
   "execution_count": null,
   "metadata": {
    "id": "a2VcbC-ArMvI"
   },
   "outputs": [],
   "source": []
  },
  {
   "cell_type": "code",
   "execution_count": 8,
   "metadata": {
    "colab": {
     "base_uri": "https://localhost:8080/"
    },
    "id": "k9Mcwk96rMvI",
    "outputId": "5bab5379-de5c-4d1f-863e-cee26f0e221d"
   },
   "outputs": [
    {
     "name": "stdout",
     "output_type": "stream",
     "text": [
      "x_t1 =  tensor([[-4.0205e-29,  3.0683e-41,  3.3631e-44],\n",
      "        [ 0.0000e+00,         nan,  0.0000e+00]])\n"
     ]
    }
   ],
   "source": [
    "# Empty\n",
    "\n",
    "'''\n",
    "2.3. torch.empty - Returns a empty tensor\n",
    "        - sizes - Mention the ND array size\n",
    "        - dtype - Data type.\n",
    "'''\n",
    "\n",
    "x_t1 = torch.empty(2, 3)\n",
    "print(\"x_t1 = \", x_t1)"
   ]
  },
  {
   "cell_type": "code",
   "execution_count": null,
   "metadata": {
    "id": "2zBOBLKUrMvJ"
   },
   "outputs": [],
   "source": []
  },
  {
   "cell_type": "code",
   "execution_count": null,
   "metadata": {
    "id": "fo_GGuQkrMvJ"
   },
   "outputs": [],
   "source": []
  },
  {
   "cell_type": "code",
   "execution_count": null,
   "metadata": {
    "id": "r3TxeH9YrMvJ"
   },
   "outputs": [],
   "source": []
  },
  {
   "cell_type": "code",
   "execution_count": null,
   "metadata": {
    "id": "DbquGy37rMvJ"
   },
   "outputs": [],
   "source": []
  },
  {
   "cell_type": "code",
   "execution_count": null,
   "metadata": {
    "id": "M7b37v1arMvK"
   },
   "outputs": [],
   "source": []
  },
  {
   "cell_type": "code",
   "execution_count": 9,
   "metadata": {
    "colab": {
     "base_uri": "https://localhost:8080/"
    },
    "id": "0JazZ25VrMvL",
    "outputId": "5c814c31-2695-49f2-88ab-1f44af2576a9"
   },
   "outputs": [
    {
     "name": "stdout",
     "output_type": "stream",
     "text": [
      "x_t1 =  tensor([2.0000, 2.5000, 3.0000, 3.5000, 4.0000, 4.5000, 5.0000, 5.5000, 6.0000,\n",
      "        6.5000, 7.0000, 7.5000, 8.0000, 8.5000, 9.0000, 9.5000])\n"
     ]
    }
   ],
   "source": [
    "# Arrange\n",
    "\n",
    "'''\n",
    "3.1. torch.arrange - Returns a 1-D tensor of size ⌊end−start]/[step⌋ with values from the interval \n",
    "    [start, end) taken with common difference step beginning from start.\n",
    "        - start (Number) – the starting value for the set of points. Default: 0.\n",
    "        - end (Number) – the ending value for the set of points\n",
    "        - step (Number) – the gap between each pair of adjacent points. Default: 1.\n",
    "        - dtype - Data type.\n",
    "'''\n",
    "\n",
    "x_t1 = torch.arange(start=2, end=10, step=0.5)\n",
    "print(\"x_t1 = \", x_t1)"
   ]
  },
  {
   "cell_type": "code",
   "execution_count": null,
   "metadata": {
    "id": "OFcVj44XrMvL"
   },
   "outputs": [],
   "source": []
  },
  {
   "cell_type": "code",
   "execution_count": 10,
   "metadata": {
    "colab": {
     "base_uri": "https://localhost:8080/"
    },
    "id": "hsf1H3RzrMvL",
    "outputId": "8f34c8e8-dd0b-4330-ada9-f4ea2590f17b"
   },
   "outputs": [
    {
     "name": "stdout",
     "output_type": "stream",
     "text": [
      "x_t1 =  tensor([-10.0000,  -7.7778,  -5.5556,  -3.3333,  -1.1111,   1.1111,   3.3333,\n",
      "          5.5556,   7.7778,  10.0000])\n"
     ]
    }
   ],
   "source": [
    "# Linespace\n",
    "\n",
    "'''\n",
    "3.2. torch.linspace - Returns a one-dimensional tensor of steps equally spaced points between start and end\n",
    "        - start (Number) – the starting value for the set of points. Default: 0.\n",
    "        - end (Number) – the ending value for the set of points\n",
    "        - step (Number) – the gap between each pair of adjacent points. Default: 1.\n",
    "        - dtype - Data type.\n",
    "'''\n",
    "\n",
    "x_t1 = torch.linspace(start=-10, end=10, steps=10)\n",
    "print(\"x_t1 = \", x_t1)"
   ]
  },
  {
   "cell_type": "code",
   "execution_count": 10,
   "metadata": {
    "id": "GTOcJW-brMvL"
   },
   "outputs": [],
   "source": []
  },
  {
   "cell_type": "code",
   "execution_count": 11,
   "metadata": {
    "colab": {
     "base_uri": "https://localhost:8080/"
    },
    "id": "t0PzxKcIrMvM",
    "outputId": "82315e00-74f1-4409-dcdd-a8314a0f530e"
   },
   "outputs": [
    {
     "name": "stdout",
     "output_type": "stream",
     "text": [
      "x_t1 =  tensor([1.0000e-10, 1.0000e-05, 1.0000e+00, 1.0000e+05, 1.0000e+10])\n"
     ]
    }
   ],
   "source": [
    "# Logspace\n",
    "\n",
    "'''\n",
    "3.3. torch.logspace - Returns a one-dimensional tensor of steps points logarithmically spaced \n",
    "    between 10^start and 10^end\n",
    "        - start (Number) – the starting value for the set of points. Default: 0.\n",
    "        - end (Number) – the ending value for the set of points\n",
    "        - step (Number) – the gap between each pair of adjacent points. Default: 1.\n",
    "        - dtype - Data type.\n",
    "'''\n",
    "\n",
    "x_t1 = torch.logspace(start=-10, end=10, steps=5)\n",
    "print(\"x_t1 = \", x_t1)"
   ]
  },
  {
   "cell_type": "code",
   "execution_count": 11,
   "metadata": {
    "id": "s8L-2-u5rMvM"
   },
   "outputs": [],
   "source": []
  },
  {
   "cell_type": "code",
   "execution_count": 11,
   "metadata": {
    "id": "lROJOxRhrMvM"
   },
   "outputs": [],
   "source": []
  },
  {
   "cell_type": "code",
   "execution_count": 11,
   "metadata": {
    "id": "ZECmtj7ArMvN"
   },
   "outputs": [],
   "source": []
  },
  {
   "cell_type": "code",
   "execution_count": 11,
   "metadata": {
    "id": "3AspA_FLrMvN"
   },
   "outputs": [],
   "source": []
  },
  {
   "cell_type": "code",
   "execution_count": null,
   "metadata": {
    "id": "XwkbBNFXrMvO"
   },
   "outputs": [],
   "source": []
  },
  {
   "cell_type": "code",
   "execution_count": null,
   "metadata": {
    "id": "2cUwNjpOrMvO"
   },
   "outputs": [],
   "source": []
  },
  {
   "cell_type": "code",
   "execution_count": 12,
   "metadata": {
    "colab": {
     "base_uri": "https://localhost:8080/"
    },
    "id": "pK_-I0q2rMvO",
    "outputId": "7f61882c-488a-40bf-9d3b-eb01f01b18cd"
   },
   "outputs": [
    {
     "name": "stdout",
     "output_type": "stream",
     "text": [
      "x_t1 =  tensor([[1., 0., 0., 0.],\n",
      "        [0., 1., 0., 0.],\n",
      "        [0., 0., 1., 0.]])\n"
     ]
    }
   ],
   "source": [
    "# Eye tensor\n",
    "\n",
    "'''\n",
    "4.1. torch.eye - Returns a 2-D tensor with ones on the diagonal and zeros elsewhere.\n",
    "        - n (int) – the number of rows\n",
    "        - m (int, optional) – the number of columns with default being n\n",
    "        - out (Tensor, optional) – the output tensor\n",
    "        - dtype - Data type.\n",
    "'''\n",
    "\n",
    "x_t1 = torch.eye(m=4, n=3)\n",
    "print(\"x_t1 = \", x_t1)"
   ]
  },
  {
   "cell_type": "code",
   "execution_count": 12,
   "metadata": {
    "id": "7Pp34Iw8rMvO"
   },
   "outputs": [],
   "source": []
  },
  {
   "cell_type": "code",
   "execution_count": 13,
   "metadata": {
    "colab": {
     "base_uri": "https://localhost:8080/"
    },
    "id": "iqycPUkZrMvO",
    "outputId": "5942781b-2270-4eea-cb74-99b931d415af"
   },
   "outputs": [
    {
     "name": "stdout",
     "output_type": "stream",
     "text": [
      "x_t1 =  tensor([[3.1416, 3.1416, 3.1416],\n",
      "        [3.1416, 3.1416, 3.1416]])\n"
     ]
    }
   ],
   "source": [
    "# Full tensor\n",
    "\n",
    "'''\n",
    "4.2. torch.full - Returns a tensor of size size filled with fill_value\n",
    "        - size (int...) – a list, tuple, or torch.Size of integers defining the shape of the output tensor.\n",
    "        - fill_value – the number to fill the output tensor with.\n",
    "        - out (Tensor, optional) – the output tensor\n",
    "        - dtype - Data type.\n",
    "'''\n",
    "\n",
    "x_t1 = torch.full((2, 3), 3.141592)\n",
    "print(\"x_t1 = \", x_t1)"
   ]
  },
  {
   "cell_type": "code",
   "execution_count": null,
   "metadata": {
    "id": "jTebbTO7rMvP"
   },
   "outputs": [],
   "source": []
  },
  {
   "cell_type": "code",
   "execution_count": null,
   "metadata": {
    "id": "Jy7z6vSlrMvP"
   },
   "outputs": [],
   "source": []
  },
  {
   "cell_type": "code",
   "execution_count": null,
   "metadata": {
    "id": "A7rt-Y8brMvQ"
   },
   "outputs": [],
   "source": []
  },
  {
   "cell_type": "code",
   "execution_count": null,
   "metadata": {
    "id": "ZlTPQQc2rMvQ"
   },
   "outputs": [],
   "source": []
  },
  {
   "cell_type": "code",
   "execution_count": null,
   "metadata": {
    "id": "qhi1L1ITrMvQ"
   },
   "outputs": [],
   "source": []
  },
  {
   "cell_type": "code",
   "execution_count": null,
   "metadata": {
    "id": "f385vfOhrMvQ"
   },
   "outputs": [],
   "source": []
  },
  {
   "cell_type": "code",
   "execution_count": 14,
   "metadata": {
    "colab": {
     "base_uri": "https://localhost:8080/"
    },
    "id": "_eO1IXyIrMvR",
    "outputId": "373b03fb-0cfe-42b5-e798-3f2b147463f1"
   },
   "outputs": [
    {
     "name": "stdout",
     "output_type": "stream",
     "text": [
      "x_t =  tensor([[1, 2],\n",
      "        [3, 4]])\n",
      "x_t_concat =  tensor([[1, 2],\n",
      "        [3, 4],\n",
      "        [1, 2],\n",
      "        [3, 4],\n",
      "        [1, 2],\n",
      "        [3, 4]])\n"
     ]
    }
   ],
   "source": [
    "# Cat\n",
    "\n",
    "'''\n",
    "5.1. torch.cat - Concatenates the given sequence of seq tensors in the given dimension. \n",
    "    All tensors must either have the same shape (except in the concatenating dimension) or be empty.\n",
    "        - seq (sequence of Tensors) \n",
    "        - dim (int, optional) – the dimension over which the tensors are concatenated\n",
    "        - out (Tensor, optional) – the output tensor\n",
    "'''\n",
    "\n",
    "x = np.matrix('1 2; 3 4')\n",
    "x_t = torch.tensor(x)\n",
    "x_t_concat = torch.cat((x_t, x_t, x_t), 0)\n",
    "\n",
    "print(\"x_t = \", x_t)\n",
    "print(\"x_t_concat = \", x_t_concat)"
   ]
  },
  {
   "cell_type": "code",
   "execution_count": null,
   "metadata": {
    "id": "10gBOZaVrMvS"
   },
   "outputs": [],
   "source": []
  },
  {
   "cell_type": "code",
   "execution_count": 15,
   "metadata": {
    "colab": {
     "base_uri": "https://localhost:8080/"
    },
    "id": "5cYeDTo2rMvS",
    "outputId": "24147739-1451-49c0-ccfd-c809f7c5500a"
   },
   "outputs": [
    {
     "name": "stdout",
     "output_type": "stream",
     "text": [
      "x =  tensor([[ 1.6431,  1.2460, -0.8328,  0.9945],\n",
      "        [-0.8525,  0.3690,  0.9208, -1.7357],\n",
      "        [-1.0732, -0.7154,  0.1304, -0.3827]])\n",
      "mask =  tensor([[ True,  True, False,  True],\n",
      "        [False,  True,  True, False],\n",
      "        [False, False,  True, False]])\n",
      "masked_selection =  tensor([1.6431, 1.2460, 0.9945, 0.3690, 0.9208, 0.1304])\n"
     ]
    }
   ],
   "source": [
    "# Masked Tensor\n",
    "\n",
    "'''\n",
    "5.2. torch.masked_select - Returns a new 1-D tensor which indexes the input tensor according to \n",
    "    the binary mask mask which is a ByteTensor.\n",
    "        - input (Tensor) – the input data\n",
    "        - mask (ByteTensor) – the tensor containing the binary mask to index with\n",
    "        - out (Tensor, optional) – the output tensor   \n",
    "'''\n",
    "\n",
    "x = torch.randn(3, 4)\n",
    "mask = x.ge(0.0)\n",
    "\n",
    "print(\"x = \", x)\n",
    "print(\"mask = \", mask)\n",
    "\n",
    "masked_selection = torch.masked_select(x, mask)\n",
    "print(\"masked_selection = \", masked_selection)"
   ]
  },
  {
   "cell_type": "code",
   "execution_count": 15,
   "metadata": {
    "id": "owhQM5q4rMvT"
   },
   "outputs": [],
   "source": []
  },
  {
   "cell_type": "code",
   "execution_count": 16,
   "metadata": {
    "colab": {
     "base_uri": "https://localhost:8080/"
    },
    "id": "Y-asm53krMvT",
    "outputId": "e21c7e9c-296f-4e02-873e-6d13a4fed3a9"
   },
   "outputs": [
    {
     "name": "stdout",
     "output_type": "stream",
     "text": [
      "x_t =  tensor([1, 1, 1, 0, 1])\n",
      "Non zero indices -  tensor([[0],\n",
      "        [1],\n",
      "        [2],\n",
      "        [4]])\n"
     ]
    }
   ],
   "source": [
    "# NonZero\n",
    "\n",
    "'''\n",
    "5.3. torch.nonzero - Returns a tensor containing the indices of all non-zero elements of input. \n",
    "    Each row in the result contains the indices of a non-zero element in input\n",
    "        - input (Tensor) – the input tensor\n",
    "        - out (LongTensor, optional) – the output tensor containing indices\n",
    "'''\n",
    "\n",
    "x_t = torch.tensor([1, 1, 1, 0, 1])\n",
    "x_nonzero = torch.nonzero(x_t)\n",
    "print(\"x_t = \", x_t)\n",
    "print(\"Non zero indices - \", x_nonzero)"
   ]
  },
  {
   "cell_type": "code",
   "execution_count": 16,
   "metadata": {
    "id": "lsKjMCTIrMvT"
   },
   "outputs": [],
   "source": []
  },
  {
   "cell_type": "code",
   "execution_count": 17,
   "metadata": {
    "colab": {
     "base_uri": "https://localhost:8080/"
    },
    "id": "xDBbRcXhrMvU",
    "outputId": "7fc87341-d09e-4be7-9d78-c421ba95b809"
   },
   "outputs": [
    {
     "name": "stdout",
     "output_type": "stream",
     "text": [
      "x =  tensor([[ 2.0736, -1.1759],\n",
      "        [-0.6554,  0.4458],\n",
      "        [ 0.0365, -1.3138]])\n",
      "y =  tensor([[1., 1.],\n",
      "        [1., 1.],\n",
      "        [1., 1.]])\n",
      "z =  tensor([[2.0736, 1.0000],\n",
      "        [1.0000, 0.4458],\n",
      "        [0.0365, 1.0000]])\n"
     ]
    }
   ],
   "source": [
    "# Conditioned output\n",
    "\n",
    "'''\n",
    "5.4. torch.where - Return a tensor of elements selected from either x or y, depending on condition\n",
    "        - condition (ByteTensor) – When True (nonzero), yield x, otherwise yield y\n",
    "        - x (Tensor) – values selected at indices where condition is True\n",
    "        - y (Tensor) – values selected at indices where condition is False\n",
    "'''\n",
    "\n",
    "x = torch.randn(3, 2)\n",
    "y = torch.ones(3, 2)\n",
    "\n",
    "z = torch.where(x > 0, x, y)\n",
    "\n",
    "print(\"x = \", x)\n",
    "print(\"y = \", y)\n",
    "print(\"z = \", z)"
   ]
  },
  {
   "cell_type": "code",
   "execution_count": 17,
   "metadata": {
    "id": "a24Mb6aZrMvV"
   },
   "outputs": [],
   "source": []
  },
  {
   "cell_type": "code",
   "execution_count": 17,
   "metadata": {
    "id": "vJqt6B4brMvV"
   },
   "outputs": [],
   "source": []
  },
  {
   "cell_type": "code",
   "execution_count": 17,
   "metadata": {
    "id": "GqhwGSFZrMvV"
   },
   "outputs": [],
   "source": []
  },
  {
   "cell_type": "code",
   "execution_count": null,
   "metadata": {
    "id": "9I_ka7EhrMvV"
   },
   "outputs": [],
   "source": []
  },
  {
   "cell_type": "code",
   "execution_count": null,
   "metadata": {
    "id": "fDYMg4qzrMvW"
   },
   "outputs": [],
   "source": []
  },
  {
   "cell_type": "code",
   "execution_count": null,
   "metadata": {
    "id": "A0Y_ZWxprMvW"
   },
   "outputs": [],
   "source": []
  },
  {
   "cell_type": "code",
   "execution_count": null,
   "metadata": {
    "id": "SMTI85HbrMvW"
   },
   "outputs": [],
   "source": []
  },
  {
   "cell_type": "code",
   "execution_count": 18,
   "metadata": {
    "colab": {
     "base_uri": "https://localhost:8080/"
    },
    "id": "I3paaurhrMvW",
    "outputId": "d23bf8ca-ec40-4d12-d837-fccfd960a614"
   },
   "outputs": [
    {
     "name": "stdout",
     "output_type": "stream",
     "text": [
      "x_t =  tensor([0, 1, 2, 3, 4, 5])\n",
      "x_t_reshaped =  tensor([[0, 1, 2],\n",
      "        [3, 4, 5]])\n"
     ]
    }
   ],
   "source": [
    "# Reshape\n",
    "\n",
    "'''\n",
    "6.1. torch.reshape - Returns a tensor with the same data and number of elements as input, \n",
    "                but with the specified shape.\n",
    "        - input (Tensor) – the tensor to be reshaped\n",
    "        - shape (tuple of python:ints) – the new shape\n",
    "'''\n",
    "\n",
    "x_t = torch.arange(6)\n",
    "x_t_reshaped = torch.reshape(x_t, (2,3))\n",
    "\n",
    "print(\"x_t = \", x_t)\n",
    "print(\"x_t_reshaped = \", x_t_reshaped)"
   ]
  },
  {
   "cell_type": "code",
   "execution_count": null,
   "metadata": {
    "id": "I6lWb5ZrrMvX"
   },
   "outputs": [],
   "source": []
  },
  {
   "cell_type": "code",
   "execution_count": 19,
   "metadata": {
    "colab": {
     "base_uri": "https://localhost:8080/"
    },
    "id": "rT8e_v35rMvX",
    "outputId": "fc74fa04-3d43-42f7-df7a-25ee9be294eb"
   },
   "outputs": [
    {
     "name": "stdout",
     "output_type": "stream",
     "text": [
      "Initial shape -  torch.Size([2, 1, 2, 1, 2])\n",
      "Final shape -  torch.Size([2, 2, 2])\n"
     ]
    }
   ],
   "source": [
    "# Squeeze\n",
    "\n",
    "'''\n",
    "6.2. torch.squeeze - Returns a tensor with all the dimensions of input of size 1 removed.\n",
    "        - For example, if input is of shape: (A×1×B×C×1×D) then the out tensor will be of shape: (A×B×C×D)\n",
    "        - input (Tensor) – the input tensor\n",
    "        - dim (int, optional) – if given, the input will be squeezed only in this dimension\n",
    "        - out (Tensor, optional) – the output tensor\n",
    "'''\n",
    "\n",
    "x_t = torch.zeros(2, 1, 2, 1, 2)\n",
    "print(\"Initial shape - \", x_t.size())\n",
    "\n",
    "x_t_squeezed = torch.squeeze(x_t)\n",
    "print(\"Final shape - \", x_t_squeezed.size())\n"
   ]
  },
  {
   "cell_type": "code",
   "execution_count": null,
   "metadata": {
    "id": "Gn_HJ0gMrMvX"
   },
   "outputs": [],
   "source": []
  },
  {
   "cell_type": "code",
   "execution_count": 20,
   "metadata": {
    "colab": {
     "base_uri": "https://localhost:8080/"
    },
    "id": "NBqM-jrIrMvY",
    "outputId": "8ad743ce-8a48-44ce-b460-5a8c4db684c1"
   },
   "outputs": [
    {
     "name": "stdout",
     "output_type": "stream",
     "text": [
      "x_t =  tensor([[-1.3481, -1.2152, -0.4922],\n",
      "        [-0.4236,  0.2942, -1.0024]])\n",
      "x_t_transposed =  tensor([[ 2.0736, -0.6554,  0.0365],\n",
      "        [-1.1759,  0.4458, -1.3138]])\n"
     ]
    }
   ],
   "source": [
    "# 2D Transpose\n",
    "\n",
    "'''\n",
    "6.3. torch.t - Expects input to be a matrix (2-D tensor) and transposes dimensions 0 and 1.\n",
    "        - input (Tensor) – the input tensor\n",
    "'''\n",
    "\n",
    "x_t = torch.randn(2, 3)\n",
    "x_t_transposed = torch.t(x)\n",
    "\n",
    "print(\"x_t = \", x_t)\n",
    "print(\"x_t_transposed = \", x_t_transposed)"
   ]
  },
  {
   "cell_type": "code",
   "execution_count": null,
   "metadata": {
    "id": "yJnLZ6AqrMvY"
   },
   "outputs": [],
   "source": []
  },
  {
   "cell_type": "code",
   "execution_count": 21,
   "metadata": {
    "colab": {
     "base_uri": "https://localhost:8080/"
    },
    "id": "rcaeZZZfrMvY",
    "outputId": "581f68a9-2a92-4ce9-e1de-a43bc2f61d8d"
   },
   "outputs": [
    {
     "name": "stdout",
     "output_type": "stream",
     "text": [
      "Extracted element =  tensor([4, 5, 8])\n"
     ]
    }
   ],
   "source": [
    "# Take\n",
    "\n",
    "'''\n",
    "6.4. torch.take - Returns a new tensor with the elements of input at the given indices. \n",
    "    The input tensor is treated as if it were viewed as a 1-D tensor. \n",
    "    The result takes the same shape as the indices.\n",
    "        - input (Tensor) – the input tensor\n",
    "        - indices (LongTensor) – the indices into tensor\n",
    "'''\n",
    "\n",
    "src = torch.tensor([4, 3, 5, 6, 7, 8])\n",
    "taken_indexes = torch.take(src, torch.tensor([0, 2, 5]))\n",
    "\n",
    "print(\"Extracted element = \", taken_indexes)"
   ]
  },
  {
   "cell_type": "code",
   "execution_count": 21,
   "metadata": {
    "id": "5iPXjJ9urMvY"
   },
   "outputs": [],
   "source": []
  },
  {
   "cell_type": "code",
   "execution_count": 22,
   "metadata": {
    "colab": {
     "base_uri": "https://localhost:8080/"
    },
    "id": "5RKQyxpGrMvZ",
    "outputId": "7bebd8d8-b3cd-4300-d098-ef4c0180ff54"
   },
   "outputs": [
    {
     "name": "stdout",
     "output_type": "stream",
     "text": [
      "x_t =  tensor([[[-1.3268, -1.7365],\n",
      "         [ 0.9777,  0.2308]],\n",
      "\n",
      "        [[ 0.3958, -0.2638],\n",
      "         [ 1.9657,  0.2095]],\n",
      "\n",
      "        [[ 0.6732, -0.4594],\n",
      "         [ 0.3051,  2.0471]]])\n"
     ]
    }
   ],
   "source": [
    "# N-D Transpose\n",
    "\n",
    "'''\n",
    "6.5. torch.transpose - Returns a tensor that is a transposed version of input. \n",
    "    The given dimensions dim0 and dim1 are swapped.\n",
    "        - input (Tensor) – the input tensor\n",
    "        - dim0 (int) – the first dimension to be transposed\n",
    "        - dim1 (int) – the second dimension to be transposed\n",
    "'''\n",
    "\n",
    "x = torch.randn(2, 3, 2)\n",
    "x_t = torch.transpose(x, 0, 1)\n",
    "\n",
    "print(\"x_t = \", x_t)"
   ]
  },
  {
   "cell_type": "code",
   "execution_count": null,
   "metadata": {
    "id": "G3t82j_TrMva"
   },
   "outputs": [],
   "source": []
  },
  {
   "cell_type": "code",
   "execution_count": 23,
   "metadata": {
    "colab": {
     "base_uri": "https://localhost:8080/"
    },
    "id": "zhIjC7ynrMva",
    "outputId": "116847c1-b11f-4e88-e903-2ac4a5aa461c"
   },
   "outputs": [
    {
     "name": "stdout",
     "output_type": "stream",
     "text": [
      "Initial size:  torch.Size([4])\n",
      "Final size:  torch.Size([1, 4])\n"
     ]
    }
   ],
   "source": [
    "# Unsqueeze\n",
    "\n",
    "'''\n",
    "6.6. torch.unsqueeze - Returns a new tensor with a dimension of size one inserted at the specified position.\n",
    "        - input (Tensor) – the input tensor\n",
    "        - dim (int) – the index at which to insert the singleton dimension\n",
    "        - out (Tensor, optional) – the output tensor\n",
    "'''\n",
    "\n",
    "x_t = torch.tensor([1, 2, 3, 4])\n",
    "x_t_unsqueezed = torch.unsqueeze(x_t, 0)\n",
    "\n",
    "print(\"Initial size: \", x_t.size())\n",
    "print(\"Final size: \", x_t_unsqueezed.size())"
   ]
  },
  {
   "cell_type": "code",
   "execution_count": null,
   "metadata": {
    "id": "FwCNltNnrMva"
   },
   "outputs": [],
   "source": []
  },
  {
   "cell_type": "code",
   "execution_count": null,
   "metadata": {
    "id": "n-S_2BKNrMvb"
   },
   "outputs": [],
   "source": []
  },
  {
   "cell_type": "code",
   "execution_count": null,
   "metadata": {
    "id": "5sl9-0ySrMvb"
   },
   "outputs": [],
   "source": []
  },
  {
   "cell_type": "code",
   "execution_count": null,
   "metadata": {
    "id": "mOgH2_NurMvb"
   },
   "outputs": [],
   "source": []
  },
  {
   "cell_type": "code",
   "execution_count": null,
   "metadata": {
    "id": "2DGgsdjqrMvb"
   },
   "outputs": [],
   "source": []
  },
  {
   "cell_type": "code",
   "execution_count": null,
   "metadata": {
    "id": "zgtiGpWTrMvc"
   },
   "outputs": [],
   "source": []
  },
  {
   "cell_type": "code",
   "execution_count": null,
   "metadata": {
    "id": "Ri91zQPgrMvc"
   },
   "outputs": [],
   "source": []
  },
  {
   "cell_type": "code",
   "execution_count": 24,
   "metadata": {
    "colab": {
     "base_uri": "https://localhost:8080/"
    },
    "id": "inOhBmiJrMvc",
    "outputId": "7df98e7c-6fd5-4397-deae-67804dff71f1"
   },
   "outputs": [
    {
     "name": "stdout",
     "output_type": "stream",
     "text": [
      "normal_random_tensor =  tensor([-1.4301,  2.8444,  4.6431,  4.2183,  5.7488,  6.1440,  7.2134,  8.3103,\n",
      "         8.9008,  9.8603])\n"
     ]
    }
   ],
   "source": [
    "# Normal random number\n",
    "\n",
    "'''\n",
    "7.1. torch.normal - Returns a tensor of random numbers drawn from separate normal distributions \n",
    "        whose mean and standard deviation are given.\n",
    "            - mean (Tensor) – the tensor of per-element means\n",
    "            - std (Tensor) – the tensor of per-element standard deviations\n",
    "            - out (Tensor, optional) – the output tensor\n",
    "\n",
    "'''\n",
    "\n",
    "normal_random_tensor = torch.normal(mean=torch.arange(1., 11.), std=torch.arange(1, 0, -0.1))\n",
    "print(\"normal_random_tensor = \", normal_random_tensor)"
   ]
  },
  {
   "cell_type": "code",
   "execution_count": null,
   "metadata": {
    "id": "ySS_JVXjrMvd"
   },
   "outputs": [],
   "source": []
  },
  {
   "cell_type": "code",
   "execution_count": 25,
   "metadata": {
    "colab": {
     "base_uri": "https://localhost:8080/"
    },
    "id": "Ce2N035JrMve",
    "outputId": "90bc2d79-81e4-4883-ea60-93405de20232"
   },
   "outputs": [
    {
     "name": "stdout",
     "output_type": "stream",
     "text": [
      "x_rand =  tensor([[0.4469, 0.4506, 0.1799],\n",
      "        [0.0681, 0.2474, 0.3505]])\n"
     ]
    }
   ],
   "source": [
    "# Random num\n",
    "\n",
    "'''\n",
    "7.2. torch.rand - Returns a tensor filled with random numbers from a uniform distribution on the interval [0,1)\n",
    "        - sizes (int...) – a sequence of integers defining the shape of the output tensor. \n",
    "            Can be a variable number of arguments or a collection like a list or tuple.\n",
    "'''\n",
    "\n",
    "x_rand = torch.rand(2, 3)\n",
    "print(\"x_rand = \", x_rand)"
   ]
  },
  {
   "cell_type": "code",
   "execution_count": null,
   "metadata": {
    "id": "dDf57CMorMve"
   },
   "outputs": [],
   "source": []
  },
  {
   "cell_type": "code",
   "execution_count": 26,
   "metadata": {
    "colab": {
     "base_uri": "https://localhost:8080/"
    },
    "id": "KDZUYfRArMve",
    "outputId": "d0756b62-3d70-467c-c2e1-4dcee219c206"
   },
   "outputs": [
    {
     "name": "stdout",
     "output_type": "stream",
     "text": [
      "x_randint =  tensor([[-1,  5],\n",
      "        [-5, -6]])\n"
     ]
    }
   ],
   "source": [
    "# Random Integer\n",
    "\n",
    "'''\n",
    "7.3. torch.randint - Returns a tensor filled with random integers generated uniformly between low \n",
    "    (inclusive) and high (exclusive).\n",
    "        - low (int, optional) – Lowest integer to be drawn from the distribution. Default: 0.\n",
    "        - high (int) – One above the highest integer to be drawn from the distribution.\n",
    "        - size (tuple) – a tuple defining the shape of the output tensor.\n",
    "        - out (Tensor, optional) – the output tensor\n",
    "        - dtype - Data type.\n",
    "'''\n",
    "\n",
    "x_randint = torch.randint(low=-10, high=10, size=(2,2))\n",
    "print(\"x_randint = \", x_randint)"
   ]
  },
  {
   "cell_type": "code",
   "execution_count": 26,
   "metadata": {
    "id": "2j0vCP71rMve"
   },
   "outputs": [],
   "source": []
  },
  {
   "cell_type": "code",
   "execution_count": 27,
   "metadata": {
    "colab": {
     "base_uri": "https://localhost:8080/"
    },
    "id": "Yv93Qm3lrMve",
    "outputId": "4809d964-d681-4b50-dc54-6dddd50b215b"
   },
   "outputs": [
    {
     "name": "stdout",
     "output_type": "stream",
     "text": [
      "x_randn =  tensor([[ 0.0080,  1.6340, -0.2819],\n",
      "        [ 0.6402,  0.8678, -0.2685]])\n"
     ]
    }
   ],
   "source": [
    "# Random normal\n",
    "\n",
    "'''\n",
    "7.4. torch.randn - Returns a tensor filled with random numbers from a normal distribution with \n",
    "    mean 0 and variance 1 (also called the standard normal distribution).\n",
    "        - sizes (int...) – a sequence of integers defining the shape of the output tensor. Can be a variable number of arguments or a collection like a list or tuple.\n",
    "        - out (Tensor, optional) – the output tensor\n",
    "        - dtype - Data type.\n",
    "'''\n",
    "\n",
    "x_randn = torch.randn(2, 3)\n",
    "print(\"x_randn = \", x_randn)"
   ]
  },
  {
   "cell_type": "code",
   "execution_count": 27,
   "metadata": {
    "id": "5s2Xtd4DrMve"
   },
   "outputs": [],
   "source": []
  },
  {
   "cell_type": "code",
   "execution_count": 27,
   "metadata": {
    "id": "7GjohO4vrMvf"
   },
   "outputs": [],
   "source": []
  },
  {
   "cell_type": "code",
   "execution_count": 27,
   "metadata": {
    "id": "MaYCEYDKrMvf"
   },
   "outputs": [],
   "source": []
  },
  {
   "cell_type": "code",
   "execution_count": 27,
   "metadata": {
    "id": "Ku8fAwgxrMvf"
   },
   "outputs": [],
   "source": []
  },
  {
   "cell_type": "code",
   "execution_count": null,
   "metadata": {
    "id": "n_CPGiDirMvf"
   },
   "outputs": [],
   "source": []
  },
  {
   "cell_type": "code",
   "execution_count": null,
   "metadata": {
    "id": "nnUyGmeDrMvg"
   },
   "outputs": [],
   "source": []
  },
  {
   "cell_type": "code",
   "execution_count": null,
   "metadata": {
    "id": "GVaOmXFrrMvg"
   },
   "outputs": [],
   "source": []
  },
  {
   "cell_type": "code",
   "execution_count": 28,
   "metadata": {
    "id": "VLxSRRJMrMvg"
   },
   "outputs": [],
   "source": [
    "# Saving a tensor\n",
    "\n",
    "'''\n",
    "8.1. torch.save - Saves an object to a disk file.\n",
    "        - obj – saved object\n",
    "        - f – a file-like object (has to implement write and flush) or a string containing a file name\n",
    "        - pickle_module – module used for pickling metadata and objects\n",
    "        - pickle_protocol – can be specified to override the default protocol\n",
    "\n",
    "'''\n",
    "\n",
    "x = torch.tensor([0, 1, 2, 3, 4])\n",
    "torch.save(x, 'tensor.pt')"
   ]
  },
  {
   "cell_type": "code",
   "execution_count": 28,
   "metadata": {
    "id": "mqC4tODnrMvg"
   },
   "outputs": [],
   "source": []
  },
  {
   "cell_type": "code",
   "execution_count": 29,
   "metadata": {
    "colab": {
     "base_uri": "https://localhost:8080/"
    },
    "id": "j2MUAPoprMvh",
    "outputId": "8effc894-eaa6-4f66-e191-8e4cb6794cf2"
   },
   "outputs": [
    {
     "name": "stdout",
     "output_type": "stream",
     "text": [
      "<class 'torch.Tensor'>\n",
      "tensor([0, 1, 2, 3, 4])\n"
     ]
    }
   ],
   "source": [
    "# Loading a saved tensor\n",
    "\n",
    "'''\n",
    "8.2. tensor.load - Loads an object saved with torch.save() from a file.\n",
    "'''\n",
    "\n",
    "x = torch.load('tensor.pt')\n",
    "print(type(x))\n",
    "print(x)"
   ]
  },
  {
   "cell_type": "code",
   "execution_count": 29,
   "metadata": {
    "id": "d7LVrxt4rMvi"
   },
   "outputs": [],
   "source": []
  },
  {
   "cell_type": "code",
   "execution_count": 30,
   "metadata": {
    "colab": {
     "base_uri": "https://localhost:8080/"
    },
    "id": "mHEt7g3BrMvi",
    "outputId": "1fa012a4-6dac-4369-90f3-5a799d2b6318"
   },
   "outputs": [
    {
     "name": "stdout",
     "output_type": "stream",
     "text": [
      "x requires grad =  True\n",
      "y requires grad =  True\n",
      "z requires grad =  False\n"
     ]
    }
   ],
   "source": [
    "# Adding and disabling gradient\n",
    "\n",
    "'''\n",
    "8.3. torch.no_grad()      - Disable grad\n",
    "    torch.enable_grad()  - Enable grad\n",
    "'''\n",
    "\n",
    "x = torch.zeros(1, requires_grad=True)\n",
    "print(\"x requires grad = \", x.requires_grad)\n",
    "\n",
    "y = x*3\n",
    "print(\"y requires grad = \", y.requires_grad)\n",
    "\n",
    "with torch.no_grad():\n",
    "    z = x * 2\n",
    "print(\"z requires grad = \", z.requires_grad)"
   ]
  },
  {
   "cell_type": "code",
   "execution_count": 30,
   "metadata": {
    "id": "XBreIng0rMvi"
   },
   "outputs": [],
   "source": []
  },
  {
   "cell_type": "code",
   "execution_count": 31,
   "metadata": {
    "colab": {
     "base_uri": "https://localhost:8080/"
    },
    "id": "k3kovQgTrMvj",
    "outputId": "dee9f2a6-e869-4e92-a304-95c4246427a4"
   },
   "outputs": [
    {
     "name": "stdout",
     "output_type": "stream",
     "text": [
      "x_in =  tensor([1., nan, 2.])\n",
      "x_out =  tensor([False,  True, False])\n"
     ]
    }
   ],
   "source": [
    "# Checking if NAN value is there in tensor\n",
    "\n",
    "'''\n",
    "8.4. torch.is_nan - Returns a new tensor with boolean elements representing if each element is NaN or not.\n",
    "'''\n",
    "\n",
    "x_in = torch.tensor([1, float('nan'), 2])\n",
    "x_out = torch.isnan(x_in)\n",
    "\n",
    "print(\"x_in = \", x_in)\n",
    "print(\"x_out = \", x_out)"
   ]
  },
  {
   "cell_type": "code",
   "execution_count": 31,
   "metadata": {
    "id": "oV5je86XrMvj"
   },
   "outputs": [],
   "source": []
  },
  {
   "cell_type": "code",
   "execution_count": 32,
   "metadata": {
    "colab": {
     "base_uri": "https://localhost:8080/"
    },
    "id": "JivfmLHJrMvl",
    "outputId": "60b82feb-afac-4cf8-d5ce-9fd17cfc45f6"
   },
   "outputs": [
    {
     "data": {
      "text/plain": [
       "device(type='cpu')"
      ]
     },
     "execution_count": 32,
     "metadata": {
      "tags": []
     },
     "output_type": "execute_result"
    }
   ],
   "source": [
    "# Set computation device\n",
    "\n",
    "'''\n",
    "8.5. torch.device\n",
    "\n",
    "\n",
    "Ex\n",
    ">>> torch.device('cuda:0')\n",
    "device(type='cuda', index=0)\n",
    "\n",
    ">>> torch.device('cpu')\n",
    "device(type='cpu')\n",
    "\n",
    ">>> torch.device('cuda')  # current cuda device\n",
    "device(type='cuda')\n",
    "'''\n",
    "\n",
    "torch.device('cpu')"
   ]
  },
  {
   "cell_type": "code",
   "execution_count": 32,
   "metadata": {
    "id": "qwyYp_vCrMvl"
   },
   "outputs": [],
   "source": []
  },
  {
   "cell_type": "code",
   "execution_count": 33,
   "metadata": {
    "colab": {
     "base_uri": "https://localhost:8080/"
    },
    "id": "8pefthDBrMvm",
    "outputId": "dd0534a9-9298-493b-f1cf-137f8414e9ca"
   },
   "outputs": [
    {
     "name": "stdout",
     "output_type": "stream",
     "text": [
      "-----------------------------------  ------------  ------------  ------------  ------------  ------------  ------------  \n",
      "                               Name    Self CPU %      Self CPU   CPU total %     CPU total  CPU time avg    # of Calls  \n",
      "-----------------------------------  ------------  ------------  ------------  ------------  ------------  ------------  \n",
      "                          aten::pow        29.73%     901.959us        30.95%     938.926us     938.926us             1  \n",
      "                  aten::result_type         0.61%      18.607us         0.61%      18.607us      18.607us             1  \n",
      "                   aten::empty_like         0.23%       6.845us         0.38%      11.537us      11.537us             1  \n",
      "                aten::empty_strided         0.15%       4.692us         0.15%       4.692us       4.692us             1  \n",
      "                  aten::result_type         0.11%       3.293us         0.11%       3.293us       3.293us             1  \n",
      "                     aten::can_cast         0.05%       1.596us         0.05%       1.596us       1.596us             1  \n",
      "                           aten::to         0.06%       1.934us         0.06%       1.934us       1.934us             1  \n",
      "                    aten::ones_like         0.22%       6.614us         0.93%      28.295us      28.295us             1  \n",
      "                   aten::empty_like         0.18%       5.483us         0.40%      12.122us      12.122us             1  \n",
      "                aten::empty_strided         0.22%       6.639us         0.22%       6.639us       6.639us             1  \n",
      "                        aten::fill_         0.32%       9.559us         0.32%       9.559us       9.559us             1  \n",
      "         torch::autograd::GraphRoot         0.14%       4.200us         0.14%       4.200us       4.200us             1  \n",
      "                       PowBackward0        59.97%       1.820ms        67.56%       2.050ms       2.050ms             1  \n",
      "                          aten::pow         0.86%      25.989us         3.43%     103.920us     103.920us             1  \n",
      "                  aten::result_type         0.89%      26.893us         0.89%      26.893us      26.893us             1  \n",
      "                   aten::empty_like         0.19%       5.663us         0.31%       9.459us       9.459us             1  \n",
      "                aten::empty_strided         0.13%       3.796us         0.13%       3.796us       3.796us             1  \n",
      "                  aten::result_type         0.07%       2.082us         0.07%       2.082us       2.082us             1  \n",
      "                     aten::can_cast         0.03%       0.801us         0.03%       0.801us       0.801us             1  \n",
      "                   aten::resize_as_         0.15%       4.643us         0.20%       5.921us       5.921us             1  \n",
      "                      aten::resize_         0.04%       1.278us         0.04%       1.278us       1.278us             1  \n",
      "                        aten::copy_         1.03%      31.335us         1.08%      32.775us      32.775us             1  \n",
      "                       aten::stride         0.04%       1.094us         0.04%       1.094us       1.094us             1  \n",
      "                       aten::stride         0.01%       0.346us         0.01%       0.346us       0.346us             1  \n",
      "                          aten::mul         3.42%     103.630us         3.85%     116.902us     116.902us             1  \n",
      "                           aten::to         0.14%       4.105us         0.40%      12.212us      12.212us             1  \n",
      "                aten::empty_strided         0.07%       2.002us         0.07%       2.002us       2.002us             1  \n",
      "                        aten::copy_         0.20%       6.105us         0.20%       6.105us       6.105us             1  \n",
      "                        aten::empty         0.03%       1.060us         0.03%       1.060us       1.060us             1  \n",
      "                          aten::mul         0.19%       5.855us         0.31%       9.348us       9.348us             1  \n",
      "                        aten::empty         0.12%       3.493us         0.12%       3.493us       3.493us             1  \n",
      "    torch::autograd::AccumulateGrad         0.33%       9.957us         0.42%      12.795us      12.795us             1  \n",
      "                       aten::detach         0.04%       1.079us         0.09%       2.838us       2.838us             1  \n",
      "                             detach         0.06%       1.759us         0.06%       1.759us       1.759us             1  \n",
      "-----------------------------------  ------------  ------------  ------------  ------------  ------------  ------------  \n",
      "Self CPU time total: 3.034ms\n",
      "\n"
     ]
    }
   ],
   "source": [
    "# Profiling - 1\n",
    "\n",
    "'''\n",
    "8.6. torch.autograd.profiler.profile - Context manager that manages autograd profiler state and holds a summary of results.\n",
    "        - enabled (bool, optional) – Setting this to False makes this context manager a no-op. Default: True.\n",
    "        - use_cuda (bool, optional) – Enables timing of CUDA events as well using the cudaEvent API. \n",
    "            Adds approximately 4us of overhead to each tensor operation. \n",
    "'''\n",
    "\n",
    "x = torch.randn((1, 1), requires_grad=True)\n",
    "with torch.autograd.profiler.profile() as prof:\n",
    "    y = x ** 2\n",
    "    y.backward()\n",
    "\n",
    "print(prof)"
   ]
  },
  {
   "cell_type": "code",
   "execution_count": 33,
   "metadata": {
    "id": "N_-q6BavrMvm"
   },
   "outputs": [],
   "source": []
  },
  {
   "cell_type": "code",
   "execution_count": null,
   "metadata": {
    "id": "nfI6p5klrMvm"
   },
   "outputs": [],
   "source": []
  },
  {
   "cell_type": "code",
   "execution_count": null,
   "metadata": {
    "id": "Vn3JbY8nrMvn"
   },
   "outputs": [],
   "source": []
  },
  {
   "cell_type": "code",
   "execution_count": null,
   "metadata": {
    "id": "ZWZwZCaIrMvn"
   },
   "outputs": [],
   "source": []
  },
  {
   "cell_type": "markdown",
   "metadata": {
    "id": "kXXGOUvVrMvn"
   },
   "source": [
    "# Roadmap 2 - Mathematical operations\n",
    "\n",
    "\n",
    "    1.1.   torch.add     - Adds the scalar value to each element of the input input\n",
    "    1.2.   torch.addcdiv - out_i= tensor_i + value × [tensor_1]/[tensor_2]\n",
    "    1.3.   torch.addcmul - out_i= tensor_i + value × [tensor_1]*[tensor_2]\n",
    "    1.4.   torch.div     - Divides each element of the input input with the scalar value\n",
    "    1.5.   torch.mul     - Multiples each element of the input input with the scalar value\n",
    "    \n",
    "    \n",
    "    2.1.   torch.ceil    - Returns a new tensor with the ceil of the elements of input, the smallest integer\n",
    "                              greater than or equal to each element.\n",
    "    2.2.   torch.clamp   - Clamp all elements in input into the range [ min, max ] and return a resulting tensor\n",
    "    2.3.   torch.floor   - Returns a new tensor with the floor of the elements of input, the largest integer less \n",
    "                              than or equal to each element.\n",
    "    2.4.   torch.round   - Returns a new tensor with each of the elements of input rounded to the closest integer.\n",
    "    2.5.   torch.trunc   - Returns a new tensor with the truncated integer values of the elements of input\n",
    "\n",
    "    \n",
    "    3.1.   torch.asin    - Returns a new tensor with the arcsine of the elements of input\n",
    "    3.2.   torch.acos    - Returns a new tensor with the arccosine of the elements of input\n",
    "    3.3.   torch.atan    - Returns a new tensor with the arctangent of the elements of input\n",
    "    3.4.   torch.atan2   - Returns a new tensor with the arctangent of the elements of input1 and input2.\n",
    "    3.5.   torch.cos     - Returns a new tensor with the cosine of the elements of input\n",
    "    3.6.   torch.sin     - Returns a new tensor with the Sine of the elements of input\n",
    "    3.7.   torch.tan     - Returns a new tensor with the Tangent of the elements of input\n",
    "    3.8.   torch.cosh    - Returns a new tensor with the hyperbolic cosine of the elements of input\n",
    "    3.9.   torch.sinh    - Returns a new tensor with the hyperbolic sine of the elements of input\n",
    "    3.10.  torch.tanh    - Returns a new tensor with the Hyperbolic Tangent of the elements of input\n",
    "\n",
    "\n",
    "    4.1.   torch.argmax   - Returns the indices of the maximum values of a tensor across a dimension.\n",
    "    4.2.   torch.argmin   - Returns the indices of the minimum values of a tensor across a dimension.\n",
    "    4.3.   torch.mean     - Returns the mean value of all elements in the input tensor.\n",
    "    4.4.   torch.median   - Returns the median value of all elements in the input tensor.\n",
    "    4.5.   torch.mode     - Returns the mode value of all elements in the input tensor.\n",
    "    4.6.   torch.prod     - Returns the product of all elements in the input tensor.\n",
    "    4.7.   torch.std      - Returns the standard deviation value of all elements in the input tensor.\n",
    "    4.8.   torch.sum      - Returns the sum of all elements in the input tensor.\n",
    "    4.9.   torch.var      - Returns the variance of all elements in the input tensor.\n",
    "\n",
    "    \n",
    "    5.1.   torch.erf      - Computes the error function of each element.\n",
    "    5.2.   torch.erfc     - Computes the complementary error function of each element. \n",
    "    5.3.   torch.erfinv   - Computes the inverse error function of each element.\n",
    "    5.4.   torch.exp      - Returns a new tensor with the exponential of the elements of input\n",
    "    5.5.   torch.expm1    - Returns a new tensor with the exponential of the elements minus 1 of input\n",
    "    5.6.   torch.fmod     - Computes the element-wise remainder of division.\n",
    "    5.7.   torch.abs      - Computes the element-wise absolute value of the given input tensor.\n",
    "    5.8.   torch.frac     - Computes the fractional portion of each element in tensor\n",
    "    5.9.   torch.log      - Returns a new tensor with the logarithm of the elements. Base of log - e\n",
    "    5.10.  torch.log10    - Returns a new tensor with the logarithm of the elements. Base of log - 10\n",
    "    5.11.  torch.log1p    - Returns a new tensor with the logarithm of the elements (1 + input).\n",
    "    5.12.  torch.log2     - Returns a new tensor with the logarithm of the elements of input. Base of log - 2\n",
    "    5.13.  torch.neg      - Returns a new tensor with the negative of the elements of input\n",
    "    5.14.  torch.pow      - Takes the power of each element in input with exponent.\n",
    "    5.15.  torch.reciprocal - Returns a new tensor with the reciprocal of the elements of input\n",
    "    5.16.  torch.rsqrt    - Returns a new tensor with the reciprocal of the square-root of each element.\n",
    "    5.17.  torch.sigmoid  - Returns a new tensor with the sigmoid of the elements of input\n",
    "    5.18.  torch.sign     - Returns a new tensor with the sign of the elements of input.\n",
    "    5.19.  torch.sqrt     - Returns a new tensor with the square-root of each of the elements of input.\n",
    "    5.20.  torch.norm     - Returns the normalized value of all elements in the input tensor.\n",
    "           \n",
    "\n",
    "    6.1.   torch.eq      - Computes element-wise equality\n",
    "    6.2.   torch.ge      - Computes element-wise greater-than-equality\n",
    "    6.3.   torch.gt      - Computes element-wise greater-than function\n",
    "    6.4.   torch.le      - Computes element-wise less-than-equality\n",
    "    6.5.   torch.lt      - Computes element-wise less-than function\n",
    "    6.6.   torch.max     - Returns the maximum value of all elements in the input tensor.\n",
    "    6.7.   torch.min     - Returns the minimum value of all elements in the input tensor.\n",
    "    \n",
    "    \n",
    "    7.1.   torch.cumprod   - Returns the cumulative product of elements of input in the dimension dim.\n",
    "    7.2.   torch.cumsum    - Returns the cumulative sum of elements of input in the dimension dim.\n",
    "    7.3.   torch.logsumexp - Returns the log of summed exponentials of each row of the input tensor in the \n",
    "                                given dimension dim\n",
    "    7.4.   torch.einsum    - This function provides a way of computing multilinear expressions using the Einstein  \n",
    "                                summation convention.\n",
    "    7.5.   torch.histc     - Computes the histogram of a tensor.\n",
    "\n",
    "\n",
    "    8.1.   torch.unique    - Returns the unique scalar elements of the input tensor as a 1-D tensor.\n",
    "    8.2.   torch.sort      - Sorts the elements of the input tensor.\n",
    "    8.3.   torch.topk      - Returns the k largest elements of the given input tensor along a given dimension.\n",
    "    8.4.   torch.bincount  - Count the frequency of each value in an array of non-negative ints.\n",
    "    8.5.   torch.trace     - Returns the sum of the elements of the diagonal of the input 2-D matrix.\n",
    "    8.6.   torch.tril      - Returns the lower triangular part of the matrix (2-D tensor) input\n",
    "    8.7.   torch.triu      - Returns the upper triangular part of the matrix (2-D tensor) input\n",
    "           \n",
    "           \n",
    "    9.1.   torch.lerp      - Does a linear interpolation of two tensors start and end based on a scalar weight and \n",
    "                               returns the resulting out tensor.              \n",
    "    9.2.   torch.dist      - Returns the lp-norm of (input - other)\n",
    "    9.3.   torch.fft       - Complex-to-complex Discrete Fourier Transform\n",
    "    9.4.   torch.ifft      - Complex-to-complex Inverse Discrete Fourier Transform\n",
    "    9.5.   torch.stft      - Short time fourier transform \n",
    "    9.6.   torch.cross     - Returns the cross product of vectors in dimension dim of input and other\n",
    "    9.7.   torch.diag      - If input is a vector (1-D tensor), then returns a 2-D square tensor with the elements \n",
    "                              of input as the diagonal. If input is a matrix (2-D tensor), then returns a 1-D tensor \n",
    "                              with the diagonal elements of input.\n",
    "\n",
    " \n",
    "    10.1.  torch.bartlett_window \n",
    "    10.2.  torch.blacman_window\n",
    "    10.3.  torch.hamming_window\n",
    "    10.4.  torch.hann_window\n"
   ]
  },
  {
   "cell_type": "code",
   "execution_count": 34,
   "metadata": {
    "id": "sBySQKkmrMvn"
   },
   "outputs": [],
   "source": [
    "import os\n",
    "import sys\n",
    "import torch\n",
    "import numpy as np"
   ]
  },
  {
   "cell_type": "code",
   "execution_count": 34,
   "metadata": {
    "id": "6eRtQAUDrMvn"
   },
   "outputs": [],
   "source": []
  },
  {
   "cell_type": "code",
   "execution_count": null,
   "metadata": {
    "id": "lqe_iGAZrMvn",
    "outputId": "57f3e4a0-6d97-423b-ebd8-f6cf97440bd7"
   },
   "outputs": [
    {
     "name": "stdout",
     "output_type": "stream",
     "text": [
      "Way - 1\n",
      "x_in =  tensor([-0.2313, -0.3780, -0.6219, -0.7886])\n",
      "x_out =  tensor([29.7687, 29.6220, 29.3781, 29.2114])\n",
      "\n",
      "\n",
      "Way - 2\n",
      "x_in =  tensor([ 0.5229, -0.6687,  0.8674,  0.7196])\n",
      "x_other =  tensor([-0.0500,  0.7724, -2.0346,  1.0681])\n",
      "x_out =  tensor([  0.0231,   7.0552, -19.4790,  11.4010])\n"
     ]
    }
   ],
   "source": [
    "# Add\n",
    "\n",
    "'''\n",
    "1.1 torch.add - Adds the scalar value to each element of the input input and returns a new resulting tensor.\n",
    "'''\n",
    "\n",
    "x_in = torch.randn(4)\n",
    "scalar = 30\n",
    "\n",
    "x_out = torch.add(x_in, scalar)\n",
    "\n",
    "print(\"Way - 1\")\n",
    "print(\"x_in = \", x_in)\n",
    "print(\"x_out = \", x_out)\n",
    "print(\"\\n\")\n",
    "\n",
    "\n",
    "'''\n",
    "1.2. torch.add - Each element of the tensor other is multiplied by the scalar value and added to each element \n",
    "    of the tensor input. The resulting tensor is returned.\n",
    "    out=input+value×other\n",
    "        - input (Tensor) – the first input tensor\n",
    "        - value (Number) – the scalar multiplier for other\n",
    "        - other (Tensor) – the second input tensor\n",
    "    \n",
    "'''\n",
    "\n",
    "x_in = torch.randn(4)\n",
    "x_other = torch.randn(4)\n",
    "value = 10\n",
    "\n",
    "x_out = torch.add(x_in, value, x_other)\n",
    "\n",
    "print(\"Way - 2\")\n",
    "print(\"x_in = \", x_in)\n",
    "print(\"x_other = \", x_other)\n",
    "print(\"x_out = \", x_out)"
   ]
  },
  {
   "cell_type": "code",
   "execution_count": null,
   "metadata": {
    "id": "sQTwnp0brMvo"
   },
   "outputs": [],
   "source": []
  },
  {
   "cell_type": "code",
   "execution_count": null,
   "metadata": {
    "id": "U7AkDVWTrMvp",
    "outputId": "3c50ec97-e22f-4ce4-a180-9c4a50f5eb23"
   },
   "outputs": [
    {
     "name": "stdout",
     "output_type": "stream",
     "text": [
      "x_in =  tensor([[-0.8749, -1.7497,  0.4427]])\n",
      "x_1 =  tensor([[-0.8120],\n",
      "        [-1.1762],\n",
      "        [-0.1106]])\n",
      "x_2 =  tensor([[-1.8205,  0.7799,  1.1930]])\n",
      "x_out =  tensor([[-0.8303, -1.8538,  0.3746],\n",
      "        [-0.8103, -1.9005,  0.3441],\n",
      "        [-0.8688, -1.7639,  0.4334]])\n"
     ]
    }
   ],
   "source": [
    "# AddCDivide\n",
    "\n",
    "'''\n",
    "1.2. torch.addcdiv - out_i= tensor_i + value × [tensor_1]/[tensor_2]\n",
    "    - tensor (Tensor) – the tensor to be added\n",
    "    - value (Number, optional) – multiplier for tensor1./tensor2\n",
    "    - tensor1 (Tensor) – the numerator tensor\n",
    "    - tensor2 (Tensor) – the denominator tensor\n",
    "    - out (Tensor, optional) – the output tensor\n",
    "'''\n",
    "\n",
    "x_in = torch.randn(1, 3)\n",
    "x_1 = torch.randn(3, 1)\n",
    "x_2 = torch.randn(1, 3)\n",
    "x_out = torch.addcdiv(x_in, 0.1, x_1, x_2)\n",
    "\n",
    "print(\"x_in = \", x_in)\n",
    "print(\"x_1 = \", x_1)\n",
    "print(\"x_2 = \", x_2)\n",
    "print(\"x_out = \", x_out)"
   ]
  },
  {
   "cell_type": "code",
   "execution_count": null,
   "metadata": {
    "id": "rP8-_PPFrMvp"
   },
   "outputs": [],
   "source": []
  },
  {
   "cell_type": "code",
   "execution_count": 35,
   "metadata": {
    "colab": {
     "base_uri": "https://localhost:8080/"
    },
    "id": "gCopEJrRrMvp",
    "outputId": "90da7bfa-1647-485e-d041-7bbceca14e79"
   },
   "outputs": [
    {
     "name": "stdout",
     "output_type": "stream",
     "text": [
      "x_in =  tensor([[0.1130, 1.0513, 1.3747]])\n",
      "x_1 =  tensor([[-1.1099],\n",
      "        [ 1.5736],\n",
      "        [-0.2551]])\n",
      "x_2 =  tensor([[ 2.7869, -0.8397,  0.2002]])\n",
      "x_out =  tensor([[-0.1963,  1.1445,  1.3525],\n",
      "        [ 0.5515,  0.9191,  1.4062],\n",
      "        [ 0.0419,  1.0727,  1.3696]])\n"
     ]
    },
    {
     "name": "stderr",
     "output_type": "stream",
     "text": [
      "/usr/local/lib/python3.7/dist-packages/ipykernel_launcher.py:10: UserWarning: This overload of addcmul is deprecated:\n",
      "\taddcmul(Tensor input, Number value, Tensor tensor1, Tensor tensor2, *, Tensor out)\n",
      "Consider using one of the following signatures instead:\n",
      "\taddcmul(Tensor input, Tensor tensor1, Tensor tensor2, *, Number value, Tensor out) (Triggered internally at  /pytorch/torch/csrc/utils/python_arg_parser.cpp:882.)\n",
      "  # Remove the CWD from sys.path while we load stuff.\n"
     ]
    }
   ],
   "source": [
    "# AddCMul\n",
    "\n",
    "'''\n",
    "1.3. torch.addcmul - out_i= tensor_i + value × [tensor_1]*[tensor_2]\n",
    "'''\n",
    "\n",
    "x_in = torch.randn(1, 3)\n",
    "x_1 = torch.randn(3, 1)\n",
    "x_2 = torch.randn(1, 3)\n",
    "x_out = torch.addcmul(x_in, 0.1, x_1, x_2)\n",
    "\n",
    "print(\"x_in = \", x_in)\n",
    "print(\"x_1 = \", x_1)\n",
    "print(\"x_2 = \", x_2)\n",
    "print(\"x_out = \", x_out)"
   ]
  },
  {
   "cell_type": "code",
   "execution_count": 35,
   "metadata": {
    "id": "HbCvGqnFrMvp"
   },
   "outputs": [],
   "source": []
  },
  {
   "cell_type": "code",
   "execution_count": 36,
   "metadata": {
    "colab": {
     "base_uri": "https://localhost:8080/"
    },
    "id": "yGCKto2urMvp",
    "outputId": "3c230332-2807-4430-8ecc-1652cdcd77b8"
   },
   "outputs": [
    {
     "name": "stdout",
     "output_type": "stream",
     "text": [
      "Way - 1\n",
      "x_in =  tensor([1.8056, 0.5216, 0.9182, 0.6896])\n",
      "x_out =  tensor([0.4514, 0.1304, 0.2296, 0.1724])\n",
      "\n",
      "\n",
      "Way - 2\n",
      "x_in =  tensor([ 0.6864, -0.2811, -0.7635,  0.7820])\n",
      "x_other =  tensor([-0.5333, -0.9334, -1.6869,  1.6635])\n",
      "x_out =  tensor([-1.2869,  0.3012,  0.4526,  0.4701])\n"
     ]
    }
   ],
   "source": [
    "# Div\n",
    "\n",
    "'''\n",
    "1.4 torch.div - Divides each element of the input input with the scalar value and returns a new resulting tensor.\n",
    "'''\n",
    "\n",
    "x_in = torch.randn(4)\n",
    "scalar = 4\n",
    "\n",
    "x_out = torch.div(x_in, scalar)\n",
    "\n",
    "print(\"Way - 1\")\n",
    "print(\"x_in = \", x_in)\n",
    "print(\"x_out = \", x_out)\n",
    "print(\"\\n\")\n",
    "\n",
    "\n",
    "'''\n",
    "1.4. torch.div - Each element of the tensor input is divided by each element of the tensor other. \n",
    "        The resulting tensor is returned. The shapes of input and other must be broadcastable..\n",
    "        out = [input_1]/[input_2]\n",
    "        - nput (Tensor) – the numerator tensor\n",
    "        - other (Tensor) – the denominator tensor\n",
    "        - out (Tensor, optional) – the output tensor\n",
    "    \n",
    "'''\n",
    "\n",
    "x_in = torch.randn(4)\n",
    "x_other = torch.randn(4)\n",
    "value = 10\n",
    "\n",
    "x_out = torch.div(x_in, x_other)\n",
    "\n",
    "print(\"Way - 2\")\n",
    "print(\"x_in = \", x_in)\n",
    "print(\"x_other = \", x_other)\n",
    "print(\"x_out = \", x_out)"
   ]
  },
  {
   "cell_type": "code",
   "execution_count": 36,
   "metadata": {
    "id": "LMHH3L55rMvq"
   },
   "outputs": [],
   "source": []
  },
  {
   "cell_type": "code",
   "execution_count": 37,
   "metadata": {
    "colab": {
     "base_uri": "https://localhost:8080/"
    },
    "id": "r1Kp44MLrMvq",
    "outputId": "985b8267-a57d-4ba3-d306-efc706987799"
   },
   "outputs": [
    {
     "name": "stdout",
     "output_type": "stream",
     "text": [
      "Way - 1\n",
      "x_in =  tensor([-0.2814,  1.8037, -0.2529,  0.3565])\n",
      "x_out =  tensor([-1.1254,  7.2148, -1.0118,  1.4258])\n",
      "\n",
      "\n",
      "Way - 2\n",
      "x_in =  tensor([-0.9371, -0.9716, -0.9913, -0.8220])\n",
      "x_other =  tensor([-1.5466, -0.0873, -0.1406, -0.2357])\n",
      "x_out =  tensor([1.4492, 0.0849, 0.1394, 0.1937])\n"
     ]
    }
   ],
   "source": [
    "# Mul\n",
    "\n",
    "'''\n",
    "1.5 torch.mul - Multiples each element of the input input with the scalar value and returns a new resulting tensor.\n",
    "'''\n",
    "\n",
    "x_in = torch.randn(4)\n",
    "scalar = 4\n",
    "\n",
    "x_out = torch.mul(x_in, scalar)\n",
    "\n",
    "print(\"Way - 1\")\n",
    "print(\"x_in = \", x_in)\n",
    "print(\"x_out = \", x_out)\n",
    "print(\"\\n\")\n",
    "\n",
    "\n",
    "'''\n",
    "1.5. torch.mul - Each element of the tensor input is multiplied by each element of the Tensor other. \n",
    "        The resulting tensor is returned.\n",
    "    \n",
    "'''\n",
    "\n",
    "x_in = torch.randn(4)\n",
    "x_other = torch.randn(4)\n",
    "value = 10\n",
    "\n",
    "x_out = torch.mul(x_in, x_other)\n",
    "\n",
    "print(\"Way - 2\")\n",
    "print(\"x_in = \", x_in)\n",
    "print(\"x_other = \", x_other)\n",
    "print(\"x_out = \", x_out)"
   ]
  },
  {
   "cell_type": "code",
   "execution_count": null,
   "metadata": {
    "id": "Tk0H1o3erMvq"
   },
   "outputs": [],
   "source": []
  },
  {
   "cell_type": "code",
   "execution_count": null,
   "metadata": {
    "id": "B77Q5ECKrMvq"
   },
   "outputs": [],
   "source": []
  },
  {
   "cell_type": "code",
   "execution_count": null,
   "metadata": {
    "id": "WQr3IKBOrMvr"
   },
   "outputs": [],
   "source": []
  },
  {
   "cell_type": "code",
   "execution_count": null,
   "metadata": {
    "id": "E4bk5MgirMvr"
   },
   "outputs": [],
   "source": []
  },
  {
   "cell_type": "code",
   "execution_count": null,
   "metadata": {
    "id": "gCV9atP7rMvr"
   },
   "outputs": [],
   "source": []
  },
  {
   "cell_type": "code",
   "execution_count": 38,
   "metadata": {
    "colab": {
     "base_uri": "https://localhost:8080/"
    },
    "id": "-OdJicvDrMvs",
    "outputId": "06519e22-5ed4-4622-a43e-a98cd5c07d28"
   },
   "outputs": [
    {
     "name": "stdout",
     "output_type": "stream",
     "text": [
      "x_in =  tensor([ 0.1952, -0.0027, -0.8117,  0.1538, -0.2471])\n",
      "x_out =  tensor([1., -0., -0., 1., -0.])\n"
     ]
    }
   ],
   "source": [
    "# CEIL\n",
    "\n",
    "'''\n",
    "2.1. torch.ceil - Returns a new tensor with the ceil of the elements of input, \n",
    "    the smallest integer greater than or equal to each element.\n",
    "'''\n",
    "\n",
    "x_in = torch.randn(5)\n",
    "x_out = torch.ceil(x_in)\n",
    "\n",
    "print(\"x_in = \", x_in)\n",
    "print(\"x_out = \", x_out)"
   ]
  },
  {
   "cell_type": "code",
   "execution_count": 38,
   "metadata": {
    "id": "BPfi-BWlrMvs"
   },
   "outputs": [],
   "source": []
  },
  {
   "cell_type": "code",
   "execution_count": 39,
   "metadata": {
    "colab": {
     "base_uri": "https://localhost:8080/"
    },
    "id": "9eNeWhSirMvt",
    "outputId": "60ba52da-a7ef-41c6-a6c7-5352b2772015"
   },
   "outputs": [
    {
     "name": "stdout",
     "output_type": "stream",
     "text": [
      "x_in =  tensor([-0.3653, -1.7355, -0.1765, -2.4397,  0.6589, -0.2005, -0.0455, -1.2707])\n",
      "x_out =  tensor([-0.3653, -0.5000, -0.1765, -0.5000,  0.5000, -0.2005, -0.0455, -0.5000])\n"
     ]
    }
   ],
   "source": [
    "# CLAMP\n",
    "\n",
    "'''\n",
    "2.2. torch.clamp - Clamp all elements in input into the range [ min, max ] and return a resulting tensor\n",
    "        - input (Tensor) – the input tensor\n",
    "        - min (Number) – lower-bound of the range to be clamped to\n",
    "        - max (Number) – upper-bound of the range to be clamped to\n",
    "        - out (Tensor, optional) – the output tensor\n",
    "'''\n",
    "\n",
    "x_in = torch.randn(8)\n",
    "x_out = torch.clamp(x_in, min=-0.5, max=0.5)\n",
    "\n",
    "print(\"x_in = \", x_in)\n",
    "print(\"x_out = \", x_out)\n"
   ]
  },
  {
   "cell_type": "code",
   "execution_count": null,
   "metadata": {
    "id": "4wI_97mrrMvt"
   },
   "outputs": [],
   "source": []
  },
  {
   "cell_type": "code",
   "execution_count": 40,
   "metadata": {
    "colab": {
     "base_uri": "https://localhost:8080/"
    },
    "id": "AVyJ6tDLrMvt",
    "outputId": "34c01927-b77d-4c3c-acb5-85e07c701d97"
   },
   "outputs": [
    {
     "name": "stdout",
     "output_type": "stream",
     "text": [
      "x_in =  tensor([-0.9875, -0.9874, -0.7388, -0.9240,  0.9374])\n",
      "x_out =  tensor([-1., -1., -1., -1.,  0.])\n"
     ]
    }
   ],
   "source": [
    "# FLOOR\n",
    "\n",
    "'''\n",
    "2.3. torch.floor - Returns a new tensor with the floor of the elements of input, \n",
    "        the largest integer less than or equal to each element.\n",
    "'''\n",
    "\n",
    "x_in = torch.randn(5)\n",
    "x_out = torch.floor(x_in)\n",
    "\n",
    "print(\"x_in = \", x_in)\n",
    "print(\"x_out = \", x_out)"
   ]
  },
  {
   "cell_type": "code",
   "execution_count": 40,
   "metadata": {
    "id": "616tDWthrMvt"
   },
   "outputs": [],
   "source": []
  },
  {
   "cell_type": "code",
   "execution_count": 41,
   "metadata": {
    "colab": {
     "base_uri": "https://localhost:8080/"
    },
    "id": "S-2llMNorMvt",
    "outputId": "c4cf302c-a5df-44a2-99f4-d386ca834838"
   },
   "outputs": [
    {
     "name": "stdout",
     "output_type": "stream",
     "text": [
      "x_in =  tensor([-1.6208, -0.1134,  0.9137, -0.9301, -1.1972])\n",
      "x_out =  tensor([-2., -1.,  0., -1., -2.])\n"
     ]
    }
   ],
   "source": [
    "# Round\n",
    "\n",
    "'''\n",
    "2.4. torch.round - Returns a new tensor with each of the elements of input rounded to the closest integer.\n",
    "'''\n",
    "\n",
    "x_in = torch.randn(5)\n",
    "x_out = torch.floor(x_in)\n",
    "\n",
    "print(\"x_in = \", x_in)\n",
    "print(\"x_out = \", x_out)"
   ]
  },
  {
   "cell_type": "code",
   "execution_count": 41,
   "metadata": {
    "id": "6vdqNxI8rMvu"
   },
   "outputs": [],
   "source": []
  },
  {
   "cell_type": "code",
   "execution_count": 42,
   "metadata": {
    "colab": {
     "base_uri": "https://localhost:8080/"
    },
    "id": "_95eC2IlrMvu",
    "outputId": "7a3867d8-4375-42f0-8f76-e36479aebda2"
   },
   "outputs": [
    {
     "name": "stdout",
     "output_type": "stream",
     "text": [
      "x_in =  tensor([ 2.0191,  0.8993, -0.8097, -1.4913])\n",
      "x_out =  tensor([ 2.,  0., -0., -1.])\n"
     ]
    }
   ],
   "source": [
    "# Truncating\n",
    "\n",
    "'''\n",
    "2.5. torch.trunc - Returns a new tensor with the truncated integer values of the elements of input\n",
    "'''\n",
    "\n",
    "x_in = torch.randn(4)\n",
    "x_out = torch.trunc(x_in)\n",
    "\n",
    "print(\"x_in = \", x_in)\n",
    "print(\"x_out = \", x_out)"
   ]
  },
  {
   "cell_type": "code",
   "execution_count": 42,
   "metadata": {
    "id": "6vFlLSclrMvv"
   },
   "outputs": [],
   "source": []
  },
  {
   "cell_type": "code",
   "execution_count": null,
   "metadata": {
    "id": "r8zCH-zRrMvv"
   },
   "outputs": [],
   "source": []
  },
  {
   "cell_type": "code",
   "execution_count": null,
   "metadata": {
    "id": "RIEAORNvrMvv"
   },
   "outputs": [],
   "source": []
  },
  {
   "cell_type": "code",
   "execution_count": null,
   "metadata": {
    "id": "-Iz80R77rMvv"
   },
   "outputs": [],
   "source": []
  },
  {
   "cell_type": "code",
   "execution_count": null,
   "metadata": {
    "id": "16gE96zlrMvv"
   },
   "outputs": [],
   "source": []
  },
  {
   "cell_type": "code",
   "execution_count": null,
   "metadata": {
    "id": "M8sVGw62rMvw"
   },
   "outputs": [],
   "source": []
  },
  {
   "cell_type": "code",
   "execution_count": null,
   "metadata": {
    "id": "gvZFbs_wrMvw"
   },
   "outputs": [],
   "source": []
  },
  {
   "cell_type": "code",
   "execution_count": 43,
   "metadata": {
    "colab": {
     "base_uri": "https://localhost:8080/"
    },
    "id": "8WZ0pGo5rMvw",
    "outputId": "b720b2ca-c925-45e9-e912-48ff6355eff0"
   },
   "outputs": [
    {
     "name": "stdout",
     "output_type": "stream",
     "text": [
      "x_in =  tensor([-0.1027,  0.4325,  1.1456, -0.1219])\n",
      "x_out =  tensor([-0.1028,  0.4473,     nan, -0.1222])\n"
     ]
    }
   ],
   "source": [
    "# Arc-Sine\n",
    "\n",
    "'''\n",
    "3.1. torch.asin - Returns a new tensor with the arcsine of the elements of input\n",
    "'''\n",
    "\n",
    "x_in = torch.randn(4)\n",
    "x_out = torch.asin(x_in)\n",
    "\n",
    "print(\"x_in = \", x_in)\n",
    "print(\"x_out = \", x_out)"
   ]
  },
  {
   "cell_type": "code",
   "execution_count": 43,
   "metadata": {
    "id": "za5bUqgRrMvw"
   },
   "outputs": [],
   "source": []
  },
  {
   "cell_type": "code",
   "execution_count": 44,
   "metadata": {
    "colab": {
     "base_uri": "https://localhost:8080/"
    },
    "id": "J7EtpYSVrMvx",
    "outputId": "2f641657-3602-40d1-9df2-74ab3d8086b9"
   },
   "outputs": [
    {
     "name": "stdout",
     "output_type": "stream",
     "text": [
      "x_in =  tensor([ 0.6061, -1.7215, -1.8639, -0.3537])\n",
      "x_out =  tensor([0.9196,    nan,    nan, 1.9324])\n"
     ]
    }
   ],
   "source": [
    "# Arc-Cosine\n",
    "\n",
    "'''\n",
    "3.2. torch.acos - Returns a new tensor with the arccosine of the elements of input\n",
    "'''\n",
    "\n",
    "x_in = torch.randn(4)\n",
    "x_out = torch.acos(x_in)\n",
    "\n",
    "print(\"x_in = \", x_in)\n",
    "print(\"x_out = \", x_out)"
   ]
  },
  {
   "cell_type": "code",
   "execution_count": 44,
   "metadata": {
    "id": "NRsHuvXerMvx"
   },
   "outputs": [],
   "source": []
  },
  {
   "cell_type": "code",
   "execution_count": 45,
   "metadata": {
    "colab": {
     "base_uri": "https://localhost:8080/"
    },
    "id": "QGty8ey-rMvx",
    "outputId": "1963197e-ba35-49d0-e1c2-4ad4a77c49ab"
   },
   "outputs": [
    {
     "name": "stdout",
     "output_type": "stream",
     "text": [
      "x_in =  tensor([ 0.0532, -0.8275, -0.0228, -0.1993])\n",
      "x_out =  tensor([ 0.0531, -0.6913, -0.0228, -0.1968])\n"
     ]
    }
   ],
   "source": [
    "# Arc-Tan\n",
    "\n",
    "'''\n",
    "3.3. torch.atan - Returns a new tensor with the arctangent of the elements of input\n",
    "'''\n",
    "\n",
    "x_in = torch.randn(4)\n",
    "x_out = torch.atan(x_in)\n",
    "\n",
    "print(\"x_in = \", x_in)\n",
    "print(\"x_out = \", x_out)"
   ]
  },
  {
   "cell_type": "code",
   "execution_count": 45,
   "metadata": {
    "id": "gkFd7IMVrMvy"
   },
   "outputs": [],
   "source": []
  },
  {
   "cell_type": "code",
   "execution_count": 46,
   "metadata": {
    "colab": {
     "base_uri": "https://localhost:8080/"
    },
    "id": "uKP75gMyrMvy",
    "outputId": "61019dcb-8101-4205-a564-9c8e5319d1e9"
   },
   "outputs": [
    {
     "name": "stdout",
     "output_type": "stream",
     "text": [
      "x_1 =  tensor([ 0.8458, -0.5862, -0.2549])\n",
      "x_2 =  tensor([ 1.5861,  0.1907, -0.4511])\n",
      "x_out =  tensor([ 0.4899, -1.2563, -2.6273])\n"
     ]
    }
   ],
   "source": [
    "# Arc-Tan2\n",
    "\n",
    "'''\n",
    "3.4. torch.atan2 - Returns a new tensor with the arctangent of the elements of input1 and input2.\n",
    "        - input1 (Tensor) – the first input tensor\n",
    "        - input2 (Tensor) – the second input tensor\n",
    "        - out (Tensor, optional) – the output tensor\n",
    "'''\n",
    "\n",
    "\n",
    "x_1 = torch.randn(3)\n",
    "x_2 = torch.randn(3)\n",
    "x_out = torch.atan2(x_1, x_2)\n",
    "\n",
    "print(\"x_1 = \", x_1)\n",
    "print(\"x_2 = \", x_2)\n",
    "print(\"x_out = \", x_out)"
   ]
  },
  {
   "cell_type": "code",
   "execution_count": 46,
   "metadata": {
    "id": "j_uXLCf-rMvy"
   },
   "outputs": [],
   "source": []
  },
  {
   "cell_type": "code",
   "execution_count": 47,
   "metadata": {
    "colab": {
     "base_uri": "https://localhost:8080/"
    },
    "id": "wvVd8rOxrMvz",
    "outputId": "68ac9007-f381-4fed-ea34-db70fbef31d9"
   },
   "outputs": [
    {
     "name": "stdout",
     "output_type": "stream",
     "text": [
      "x_in =  tensor([-0.9532,  0.1334,  0.8086, -0.2011])\n",
      "x_out =  tensor([0.5791, 0.9911, 0.6905, 0.9798])\n"
     ]
    }
   ],
   "source": [
    "# Cosine\n",
    "\n",
    "'''\n",
    "3.5. torch.cos - Returns a new tensor with the cosine of the elements of input\n",
    "'''\n",
    "\n",
    "x_in = torch.randn(4)\n",
    "x_out = torch.cos(x_in)\n",
    "\n",
    "print(\"x_in = \", x_in)\n",
    "print(\"x_out = \", x_out)"
   ]
  },
  {
   "cell_type": "code",
   "execution_count": 47,
   "metadata": {
    "id": "0r3bjeVBrMvz"
   },
   "outputs": [],
   "source": []
  },
  {
   "cell_type": "code",
   "execution_count": 48,
   "metadata": {
    "colab": {
     "base_uri": "https://localhost:8080/"
    },
    "id": "fqsLpxJvrMvz",
    "outputId": "9c947a6c-d620-4f29-8500-709a0b452661"
   },
   "outputs": [
    {
     "name": "stdout",
     "output_type": "stream",
     "text": [
      "x_in =  tensor([ 0.5397, -1.6351, -0.8135,  0.1198])\n",
      "x_out =  tensor([ 0.5139, -0.9979, -0.7267,  0.1195])\n"
     ]
    }
   ],
   "source": [
    "# Sine\n",
    "\n",
    "'''\n",
    "3.6. torch.sin - Returns a new tensor with the Sine of the elements of input\n",
    "'''\n",
    "\n",
    "x_in = torch.randn(4)\n",
    "x_out = torch.sin(x_in)\n",
    "\n",
    "print(\"x_in = \", x_in)\n",
    "print(\"x_out = \", x_out)"
   ]
  },
  {
   "cell_type": "code",
   "execution_count": 48,
   "metadata": {
    "id": "sLTEig3trMv1"
   },
   "outputs": [],
   "source": []
  },
  {
   "cell_type": "code",
   "execution_count": 49,
   "metadata": {
    "colab": {
     "base_uri": "https://localhost:8080/"
    },
    "id": "GhGUrf3zrMv1",
    "outputId": "d8657fd0-db5d-4c3f-a646-1c710a961003"
   },
   "outputs": [
    {
     "name": "stdout",
     "output_type": "stream",
     "text": [
      "x_in =  tensor([0.9603, 0.8589, 2.0552, 1.0463])\n",
      "x_out =  tensor([ 1.4294,  1.1589, -1.9002,  1.7286])\n"
     ]
    }
   ],
   "source": [
    "# Tan\n",
    "\n",
    "'''\n",
    "3.7. torch.tan - Returns a new tensor with the Tangent of the elements of input\n",
    "'''\n",
    "\n",
    "x_in = torch.randn(4)\n",
    "x_out = torch.tan(x_in)\n",
    "\n",
    "print(\"x_in = \", x_in)\n",
    "print(\"x_out = \", x_out)"
   ]
  },
  {
   "cell_type": "code",
   "execution_count": 49,
   "metadata": {
    "id": "OjGLbuMHrMv2"
   },
   "outputs": [],
   "source": []
  },
  {
   "cell_type": "code",
   "execution_count": 50,
   "metadata": {
    "colab": {
     "base_uri": "https://localhost:8080/"
    },
    "id": "wLn65NmErMwB",
    "outputId": "cd3f382a-b8e6-4d31-ccdd-eda2dff3ff84"
   },
   "outputs": [
    {
     "name": "stdout",
     "output_type": "stream",
     "text": [
      "x_in =  tensor([ 0.2027, -0.5121, -0.9836, -0.2019])\n",
      "x_out =  tensor([1.0206, 1.1340, 1.5240, 1.0205])\n"
     ]
    }
   ],
   "source": [
    "# Hyperbolic Cosine\n",
    "\n",
    "'''\n",
    "3.8. torch.cosh - Returns a new tensor with the hyperbolic cosine of the elements of input\n",
    "'''\n",
    "\n",
    "x_in = torch.randn(4)\n",
    "x_out = torch.cosh(x_in)\n",
    "\n",
    "print(\"x_in = \", x_in)\n",
    "print(\"x_out = \", x_out)"
   ]
  },
  {
   "cell_type": "code",
   "execution_count": 50,
   "metadata": {
    "id": "t3r5Op6qrMwC"
   },
   "outputs": [],
   "source": []
  },
  {
   "cell_type": "code",
   "execution_count": 51,
   "metadata": {
    "colab": {
     "base_uri": "https://localhost:8080/"
    },
    "id": "Abc6SZa6rMwC",
    "outputId": "edf56bc2-c5a1-4073-b141-ed8faef09f48"
   },
   "outputs": [
    {
     "name": "stdout",
     "output_type": "stream",
     "text": [
      "x_in =  tensor([ 0.8030, -0.0759, -0.5945,  1.6288])\n",
      "x_out =  tensor([ 0.8922, -0.0760, -0.6301,  2.4509])\n"
     ]
    }
   ],
   "source": [
    "# Hyperbolic Sine\n",
    "\n",
    "'''\n",
    "3.9. torch.sin - Returns a new tensor with the hyperbolic sine of the elements of input\n",
    "'''\n",
    "\n",
    "x_in = torch.randn(4)\n",
    "x_out = torch.sinh(x_in)\n",
    "\n",
    "print(\"x_in = \", x_in)\n",
    "print(\"x_out = \", x_out)"
   ]
  },
  {
   "cell_type": "code",
   "execution_count": 51,
   "metadata": {
    "id": "Ftb_4OT_rMwC"
   },
   "outputs": [],
   "source": []
  },
  {
   "cell_type": "code",
   "execution_count": 52,
   "metadata": {
    "colab": {
     "base_uri": "https://localhost:8080/"
    },
    "id": "mGF6KXmorMwD",
    "outputId": "34927aae-0426-483a-e6e6-14d064160f78"
   },
   "outputs": [
    {
     "name": "stdout",
     "output_type": "stream",
     "text": [
      "x_in =  tensor([-1.4653,  0.6896, -2.3630,  0.5288])\n",
      "x_out =  tensor([-0.8987,  0.5977, -0.9824,  0.4845])\n"
     ]
    }
   ],
   "source": [
    "# Hyperbolic tangent\n",
    "\n",
    "'''\n",
    "3.10. torch.tanh - Returns a new tensor with the Hyperbolic Tangent of the elements of input\n",
    "'''\n",
    "\n",
    "x_in = torch.randn(4)\n",
    "x_out = torch.tanh(x_in)\n",
    "\n",
    "print(\"x_in = \", x_in)\n",
    "print(\"x_out = \", x_out)"
   ]
  },
  {
   "cell_type": "code",
   "execution_count": 52,
   "metadata": {
    "id": "DHrq6QZxrMwD"
   },
   "outputs": [],
   "source": []
  },
  {
   "cell_type": "code",
   "execution_count": null,
   "metadata": {
    "id": "s0AkiFnMrMwD"
   },
   "outputs": [],
   "source": []
  },
  {
   "cell_type": "code",
   "execution_count": null,
   "metadata": {
    "id": "r9jBrFgCrMwD"
   },
   "outputs": [],
   "source": []
  },
  {
   "cell_type": "code",
   "execution_count": null,
   "metadata": {
    "id": "x0ovbge_rMwD"
   },
   "outputs": [],
   "source": []
  },
  {
   "cell_type": "code",
   "execution_count": null,
   "metadata": {
    "id": "iKsv49rPrMwE"
   },
   "outputs": [],
   "source": []
  },
  {
   "cell_type": "code",
   "execution_count": null,
   "metadata": {
    "id": "SwNAMNlbrMwE"
   },
   "outputs": [],
   "source": []
  },
  {
   "cell_type": "code",
   "execution_count": null,
   "metadata": {
    "id": "MZXV-6_grMwE"
   },
   "outputs": [],
   "source": []
  },
  {
   "cell_type": "code",
   "execution_count": 52,
   "metadata": {
    "id": "IfSfnJharMwF"
   },
   "outputs": [],
   "source": []
  },
  {
   "cell_type": "code",
   "execution_count": 53,
   "metadata": {
    "colab": {
     "base_uri": "https://localhost:8080/"
    },
    "id": "6tkwNzKcrMwF",
    "outputId": "1e0dda8c-9ba0-4d53-c21a-3b459d3b945a"
   },
   "outputs": [
    {
     "name": "stdout",
     "output_type": "stream",
     "text": [
      "x_in =  tensor([ 0.0999,  0.5421, -1.1261, -0.8011])\n",
      "x_out =  tensor(1)\n"
     ]
    }
   ],
   "source": [
    "# Argmax\n",
    "\n",
    "'''\n",
    "4.1. torch.argmax - Returns the indices of the maximum values of a tensor across a dimension.\n",
    "'''\n",
    "\n",
    "x_in = torch.randn(4)\n",
    "x_out = torch.argmax(x_in)\n",
    "\n",
    "print(\"x_in = \", x_in)\n",
    "print(\"x_out = \", x_out)"
   ]
  },
  {
   "cell_type": "code",
   "execution_count": 53,
   "metadata": {
    "id": "2ZGpReFbrMwF"
   },
   "outputs": [],
   "source": []
  },
  {
   "cell_type": "code",
   "execution_count": 54,
   "metadata": {
    "colab": {
     "base_uri": "https://localhost:8080/"
    },
    "id": "-LWXTRFXrMwG",
    "outputId": "15064bc0-84fb-49fa-b8dd-e16a49b97be4"
   },
   "outputs": [
    {
     "name": "stdout",
     "output_type": "stream",
     "text": [
      "x_in =  tensor([ 0.4509, -0.0706, -0.9381, -0.9376])\n",
      "x_out =  tensor(2)\n"
     ]
    }
   ],
   "source": [
    "# Argmin\n",
    "\n",
    "'''\n",
    "4.2. torch.argmin - Returns the indices of the minimum values of a tensor across a dimension.\n",
    "'''\n",
    "\n",
    "x_in = torch.randn(4)\n",
    "x_out = torch.argmin(x_in)\n",
    "\n",
    "print(\"x_in = \", x_in)\n",
    "print(\"x_out = \", x_out)"
   ]
  },
  {
   "cell_type": "code",
   "execution_count": 54,
   "metadata": {
    "id": "XR56O1pjrMwG"
   },
   "outputs": [],
   "source": []
  },
  {
   "cell_type": "code",
   "execution_count": 55,
   "metadata": {
    "colab": {
     "base_uri": "https://localhost:8080/"
    },
    "id": "3RVhlSBgrMwG",
    "outputId": "544df30e-6263-4276-bb8c-cf717b748f24"
   },
   "outputs": [
    {
     "name": "stdout",
     "output_type": "stream",
     "text": [
      "x_in =  tensor([1., 2., 3., 4., 5.])\n",
      "x_out =  tensor(3.)\n"
     ]
    }
   ],
   "source": [
    "# Compute Mean\n",
    "\n",
    "'''\n",
    "4.3. torch.mean - Returns the mean value of all elements in the input tensor.\n",
    "'''\n",
    "\n",
    "x_in = torch.tensor([1.,2.,3.,4.,5.])\n",
    "x_out = torch.mean(x_in)\n",
    "\n",
    "print(\"x_in = \", x_in)\n",
    "print(\"x_out = \", x_out)"
   ]
  },
  {
   "cell_type": "code",
   "execution_count": 55,
   "metadata": {
    "id": "4o-N6lW1rMwH"
   },
   "outputs": [],
   "source": []
  },
  {
   "cell_type": "code",
   "execution_count": 56,
   "metadata": {
    "colab": {
     "base_uri": "https://localhost:8080/"
    },
    "id": "XFB5gJpdrMwH",
    "outputId": "180372c9-9552-4ab2-f86a-cee07db0f49c"
   },
   "outputs": [
    {
     "name": "stdout",
     "output_type": "stream",
     "text": [
      "x_in =  tensor([1., 2., 3., 4., 5.])\n",
      "x_out =  tensor(3.)\n"
     ]
    }
   ],
   "source": [
    "# Compute Median\n",
    "\n",
    "'''\n",
    "4.4. torch.median - Returns the median value of all elements in the input tensor.\n",
    "'''\n",
    "\n",
    "x_in = torch.tensor([1.,2.,3.,4.,5.])\n",
    "x_out = torch.median(x_in)\n",
    "\n",
    "print(\"x_in = \", x_in)\n",
    "print(\"x_out = \", x_out)"
   ]
  },
  {
   "cell_type": "code",
   "execution_count": 56,
   "metadata": {
    "id": "MFsuXnfDrMwH"
   },
   "outputs": [],
   "source": []
  },
  {
   "cell_type": "code",
   "execution_count": 57,
   "metadata": {
    "colab": {
     "base_uri": "https://localhost:8080/"
    },
    "id": "NxIRjeCCrMwH",
    "outputId": "aa076ecf-29d4-4999-d733-3477a2b4f551"
   },
   "outputs": [
    {
     "name": "stdout",
     "output_type": "stream",
     "text": [
      "x_in =  tensor([1., 2., 3., 4., 5., 1.])\n",
      "x_out =  torch.return_types.mode(\n",
      "values=tensor(1.),\n",
      "indices=tensor(5))\n"
     ]
    }
   ],
   "source": [
    "# Compute Mode\n",
    "\n",
    "'''\n",
    "4.5. torch.mode - Returns the mode value of all elements in the input tensor.\n",
    "'''\n",
    "\n",
    "x_in = torch.tensor([1.,2.,3.,4.,5.,1.0])\n",
    "x_out = torch.mode(x_in)\n",
    "\n",
    "print(\"x_in = \", x_in)\n",
    "print(\"x_out = \", x_out)"
   ]
  },
  {
   "cell_type": "code",
   "execution_count": 57,
   "metadata": {
    "id": "ttFy8r4PrMwH"
   },
   "outputs": [],
   "source": []
  },
  {
   "cell_type": "code",
   "execution_count": 58,
   "metadata": {
    "colab": {
     "base_uri": "https://localhost:8080/"
    },
    "id": "DkTMLy6DrMwH",
    "outputId": "428a8ef9-d10e-4239-90e8-1ff167edf3f1"
   },
   "outputs": [
    {
     "name": "stdout",
     "output_type": "stream",
     "text": [
      "x_in =  tensor([1., 2., 3., 4., 5., 1.])\n",
      "x_out =  tensor(120.)\n"
     ]
    }
   ],
   "source": [
    "# Compute Product of all elements in tensor\n",
    "\n",
    "'''\n",
    "4.6. torch.prod - Returns the product of all elements in the input tensor.\n",
    "'''\n",
    "\n",
    "x_in = torch.tensor([1.,2.,3.,4.,5.,1.0])\n",
    "x_out = torch.prod(x_in)\n",
    "\n",
    "print(\"x_in = \", x_in)\n",
    "print(\"x_out = \", x_out)"
   ]
  },
  {
   "cell_type": "code",
   "execution_count": 58,
   "metadata": {
    "id": "6zJEc6_hrMwI"
   },
   "outputs": [],
   "source": []
  },
  {
   "cell_type": "code",
   "execution_count": 59,
   "metadata": {
    "colab": {
     "base_uri": "https://localhost:8080/"
    },
    "id": "EFSopCQTrMwI",
    "outputId": "7f0fe7b5-4b1c-4501-e44f-95c041818a95"
   },
   "outputs": [
    {
     "name": "stdout",
     "output_type": "stream",
     "text": [
      "x_in =  tensor([1., 2., 3., 4., 5., 1.])\n",
      "x_out =  tensor(1.6330)\n"
     ]
    }
   ],
   "source": [
    "# Compute Std Deviation\n",
    "\n",
    "'''\n",
    "4.7. torch.std - Returns the standard deviation value of all elements in the input tensor.\n",
    "'''\n",
    "\n",
    "x_in = torch.tensor([1.,2.,3.,4.,5.,1.0])\n",
    "x_out = torch.std(x_in)\n",
    "\n",
    "print(\"x_in = \", x_in)\n",
    "print(\"x_out = \", x_out)"
   ]
  },
  {
   "cell_type": "code",
   "execution_count": 59,
   "metadata": {
    "id": "RIHp4eVNrMwJ"
   },
   "outputs": [],
   "source": []
  },
  {
   "cell_type": "code",
   "execution_count": 60,
   "metadata": {
    "colab": {
     "base_uri": "https://localhost:8080/"
    },
    "id": "W7lWxVqArMwJ",
    "outputId": "76678db7-f6c4-42f7-d104-35bdc081f130"
   },
   "outputs": [
    {
     "name": "stdout",
     "output_type": "stream",
     "text": [
      "x_in =  tensor([1., 2., 3., 4., 5., 1.])\n",
      "x_out =  tensor(16.)\n"
     ]
    }
   ],
   "source": [
    "# Compute Sum of all elements in tensor\n",
    "\n",
    "'''\n",
    "4.8. torch.sum - Returns the sum of all elements in the input tensor.\n",
    "'''\n",
    "\n",
    "x_in = torch.tensor([1.,2.,3.,4.,5.,1.0])\n",
    "x_out = torch.sum(x_in)\n",
    "\n",
    "print(\"x_in = \", x_in)\n",
    "print(\"x_out = \", x_out)"
   ]
  },
  {
   "cell_type": "code",
   "execution_count": 60,
   "metadata": {
    "id": "raG-Re7brMwJ"
   },
   "outputs": [],
   "source": []
  },
  {
   "cell_type": "code",
   "execution_count": 61,
   "metadata": {
    "colab": {
     "base_uri": "https://localhost:8080/"
    },
    "id": "jslfyaQ5rMwJ",
    "outputId": "b57dc537-4790-4276-fccb-b0c8291d07a9"
   },
   "outputs": [
    {
     "name": "stdout",
     "output_type": "stream",
     "text": [
      "x_in =  tensor([1., 2., 3., 4., 5., 1.])\n",
      "x_out =  tensor(2.6667)\n"
     ]
    }
   ],
   "source": [
    "# Find variance of all elements from a tensor\n",
    "\n",
    "'''\n",
    "4.9. torch.var - Returns the variance of all elements in the input tensor.\n",
    "'''\n",
    "\n",
    "x_in = torch.tensor([1.,2.,3.,4.,5.,1.0])\n",
    "x_out = torch.var(x_in)\n",
    "\n",
    "print(\"x_in = \", x_in)\n",
    "print(\"x_out = \", x_out)"
   ]
  },
  {
   "cell_type": "code",
   "execution_count": 61,
   "metadata": {
    "id": "pOKwYXdQrMwJ"
   },
   "outputs": [],
   "source": []
  },
  {
   "cell_type": "code",
   "execution_count": null,
   "metadata": {
    "id": "XMmQAR-QrMwJ"
   },
   "outputs": [],
   "source": []
  },
  {
   "cell_type": "code",
   "execution_count": null,
   "metadata": {
    "id": "gvoX9snvrMwK"
   },
   "outputs": [],
   "source": []
  },
  {
   "cell_type": "code",
   "execution_count": null,
   "metadata": {
    "id": "FmRzHNIbrMwK"
   },
   "outputs": [],
   "source": []
  },
  {
   "cell_type": "code",
   "execution_count": null,
   "metadata": {
    "id": "i0pXFeVdrMwK"
   },
   "outputs": [],
   "source": []
  },
  {
   "cell_type": "code",
   "execution_count": null,
   "metadata": {
    "id": "yZiUoQdLrMwK"
   },
   "outputs": [],
   "source": []
  },
  {
   "cell_type": "code",
   "execution_count": null,
   "metadata": {
    "id": "5qfh9-LarMwK"
   },
   "outputs": [],
   "source": []
  },
  {
   "cell_type": "code",
   "execution_count": null,
   "metadata": {
    "id": "F3jM0Ol0rMwK"
   },
   "outputs": [],
   "source": []
  },
  {
   "cell_type": "code",
   "execution_count": null,
   "metadata": {
    "id": "hcvf_RnmrMwL"
   },
   "outputs": [],
   "source": []
  },
  {
   "cell_type": "code",
   "execution_count": null,
   "metadata": {
    "id": "_6i65au7rMwL"
   },
   "outputs": [],
   "source": []
  },
  {
   "cell_type": "code",
   "execution_count": 62,
   "metadata": {
    "colab": {
     "base_uri": "https://localhost:8080/"
    },
    "id": "_RFLeorNrMwM",
    "outputId": "e250ffdc-0f68-486f-b3b5-de0b24b7ddfa"
   },
   "outputs": [
    {
     "name": "stdout",
     "output_type": "stream",
     "text": [
      "Using erf\n",
      "x_in =  tensor([-0.2831, -0.4977,  0.9194,  0.1982, -0.0262])\n",
      "x_out =  tensor([-0.3111, -0.5185,  0.8065,  0.2208, -0.0295])\n",
      "\n",
      "\n",
      "Using erfc\n",
      "x_in =  tensor([-0.5967,  0.6638,  2.0216, -0.7811,  0.6255])\n",
      "x_out =  tensor([1.6012, 0.3478, 0.0043, 1.7307, 0.3763])\n",
      "\n",
      "\n",
      "Using erfinv\n",
      "x_in =  tensor([ 0.1978, -0.9709, -0.8586,  0.3417, -0.2620])\n",
      "x_out =  tensor([ 0.1771, -1.5426, -1.0399,  0.3127, -0.2366])\n",
      "\n",
      "\n"
     ]
    }
   ],
   "source": [
    "# Error Functions\n",
    "\n",
    "'''\n",
    "5.1 torch.erf - Computes the error function of each element. \n",
    "'''\n",
    "\n",
    "x_in = torch.randn(5)\n",
    "x_out = torch.erf(x_in)\n",
    "\n",
    "print(\"Using erf\")\n",
    "print(\"x_in = \", x_in)\n",
    "print(\"x_out = \", x_out)\n",
    "print(\"\\n\")\n",
    "\n",
    "\n",
    "'''\n",
    "5.2 torch.erfc - Computes the complementary error function of each element. \n",
    "'''\n",
    "\n",
    "x_in = torch.randn(5)\n",
    "x_out = torch.erfc(x_in)\n",
    "\n",
    "print(\"Using erfc\")\n",
    "print(\"x_in = \", x_in)\n",
    "print(\"x_out = \", x_out)\n",
    "print(\"\\n\")\n",
    "\n",
    "\n",
    "'''\n",
    "5.3 torch.erfinv - Computes the inverse error function of each element.\n",
    "'''\n",
    "\n",
    "x_in = torch.randn(5)\n",
    "x_out = torch.erfinv(x_in)\n",
    "\n",
    "print(\"Using erfinv\")\n",
    "print(\"x_in = \", x_in)\n",
    "print(\"x_out = \", x_out)\n",
    "print(\"\\n\")"
   ]
  },
  {
   "cell_type": "code",
   "execution_count": 62,
   "metadata": {
    "id": "Ew6zo41lrMwM"
   },
   "outputs": [],
   "source": []
  },
  {
   "cell_type": "code",
   "execution_count": 63,
   "metadata": {
    "colab": {
     "base_uri": "https://localhost:8080/"
    },
    "id": "Vwdfq4VLrMwM",
    "outputId": "afbbac50-e1d7-4a60-b2a9-954eac5a199c"
   },
   "outputs": [
    {
     "name": "stdout",
     "output_type": "stream",
     "text": [
      "Using exp\n",
      "x_in =  tensor([-0.1789,  0.1834, -0.9040, -0.5588,  0.2788])\n",
      "x_out =  tensor([0.8362, 1.2014, 0.4050, 0.5719, 1.3215])\n",
      "\n",
      "\n",
      "Using expm1\n",
      "x_in =  tensor([-0.3814,  0.2663, -0.4113,  0.4276, -1.6955])\n",
      "x_out =  tensor([-0.3171,  0.3051, -0.3372,  0.5335, -0.8165])\n",
      "\n",
      "\n"
     ]
    }
   ],
   "source": [
    "# Exponential\n",
    "\n",
    "'''\n",
    "5.4. torch.exp - Returns a new tensor with the exponential of the elements of input\n",
    "'''\n",
    "\n",
    "x_in = torch.randn(5)\n",
    "x_out = torch.exp(x_in)\n",
    "\n",
    "print(\"Using exp\")\n",
    "print(\"x_in = \", x_in)\n",
    "print(\"x_out = \", x_out)\n",
    "print(\"\\n\")\n",
    "\n",
    "\n",
    "'''\n",
    "5.5. torch.expm1 - Returns a new tensor with the exponential of the elements minus 1 of input\n",
    "'''\n",
    "\n",
    "x_in = torch.randn(5)\n",
    "x_out = torch.expm1(x_in)\n",
    "\n",
    "print(\"Using expm1\")\n",
    "print(\"x_in = \", x_in)\n",
    "print(\"x_out = \", x_out)\n",
    "print(\"\\n\")"
   ]
  },
  {
   "cell_type": "code",
   "execution_count": 63,
   "metadata": {
    "id": "IAbiVZaorMwM"
   },
   "outputs": [],
   "source": []
  },
  {
   "cell_type": "code",
   "execution_count": 64,
   "metadata": {
    "colab": {
     "base_uri": "https://localhost:8080/"
    },
    "id": "mk-XV7IlrMwM",
    "outputId": "60b3174e-58db-4a2b-89b6-52e43ac3aa18"
   },
   "outputs": [
    {
     "name": "stdout",
     "output_type": "stream",
     "text": [
      "x_in =  tensor([20, 14, 15, 17,  8])\n",
      "x_out =  tensor([0, 0, 1, 1, 0])\n"
     ]
    }
   ],
   "source": [
    "# Element wise remainder\n",
    "\n",
    "'''\n",
    "5.6. torch.fmod - Computes the element-wise remainder of division.\n",
    "        - input (Tensor) – the dividend\n",
    "        - divisor (Tensor or float) – the divisor, which may be either a number or a tensor of the same shape as \n",
    "            the dividend\n",
    "        - out (Tensor, optional) – the output tensor\n",
    "'''\n",
    "\n",
    "x_in = torch.tensor([20, 14, 15, 17, 8])\n",
    "x_out = torch.fmod(x_in, 2.0)\n",
    "\n",
    "print(\"x_in = \", x_in)\n",
    "print(\"x_out = \", x_out)"
   ]
  },
  {
   "cell_type": "code",
   "execution_count": 64,
   "metadata": {
    "id": "b2q4vUYurMwN"
   },
   "outputs": [],
   "source": []
  },
  {
   "cell_type": "code",
   "execution_count": 65,
   "metadata": {
    "colab": {
     "base_uri": "https://localhost:8080/"
    },
    "id": "iKeCHa-lrMwN",
    "outputId": "6cc6281c-d1ec-466f-c19b-101f449c6280"
   },
   "outputs": [
    {
     "name": "stdout",
     "output_type": "stream",
     "text": [
      "x_in =  tensor([-1, -2,  3])\n",
      "x_out =  tensor([1, 2, 3])\n"
     ]
    }
   ],
   "source": [
    "# Absolute\n",
    "\n",
    "'''\n",
    "5.7. torch.abs - Computes the element-wise absolute value of the given input tensor.\n",
    "'''\n",
    "\n",
    "x_in = torch.tensor([-1, -2, 3])\n",
    "x_out = torch.abs(x_in)\n",
    "\n",
    "print(\"x_in = \", x_in)\n",
    "print(\"x_out = \", x_out)"
   ]
  },
  {
   "cell_type": "code",
   "execution_count": 65,
   "metadata": {
    "id": "0zhtEM_krMwN"
   },
   "outputs": [],
   "source": []
  },
  {
   "cell_type": "code",
   "execution_count": 66,
   "metadata": {
    "colab": {
     "base_uri": "https://localhost:8080/"
    },
    "id": "dEetyFb7rMwN",
    "outputId": "2d557c85-0d79-4a82-f565-9e78b7bb948b"
   },
   "outputs": [
    {
     "name": "stdout",
     "output_type": "stream",
     "text": [
      "x_in =  tensor([20.4000, 14.3442, 15.0000, 17.1231,  8.0000])\n",
      "x_out =  tensor([0.4000, 0.3442, 0.0000, 0.1231, 0.0000])\n"
     ]
    }
   ],
   "source": [
    "# Element wise fraction portion\n",
    "\n",
    "'''\n",
    "5.8. torch.frac - Computes the fractional portion of each element in tensor\n",
    "'''\n",
    "\n",
    "x_in = torch.tensor([20.4, 14.344243, 15, 17.12312, 8.0])\n",
    "x_out = torch.frac(x_in)\n",
    "\n",
    "print(\"x_in = \", x_in)\n",
    "print(\"x_out = \", x_out)"
   ]
  },
  {
   "cell_type": "code",
   "execution_count": 66,
   "metadata": {
    "id": "TdrxBaj7rMwN"
   },
   "outputs": [],
   "source": []
  },
  {
   "cell_type": "code",
   "execution_count": 67,
   "metadata": {
    "colab": {
     "base_uri": "https://localhost:8080/"
    },
    "id": "n5NPjExkrMwO",
    "outputId": "63a54bd6-6e3c-4d2c-ee39-55a8e9bce4c6"
   },
   "outputs": [
    {
     "name": "stdout",
     "output_type": "stream",
     "text": [
      "Using log\n",
      "x_in =  tensor([20.4000, 14.2000, 15.3000, 17.1000,  8.0000])\n",
      "x_out =  tensor([3.0155, 2.6532, 2.7279, 2.8391, 2.0794])\n",
      "\n",
      "\n",
      "Using log10\n",
      "x_in =  tensor([20.4000, 14.2000, 15.3000, 17.1000,  8.0000])\n",
      "x_out =  tensor([1.3096, 1.1523, 1.1847, 1.2330, 0.9031])\n",
      "\n",
      "\n",
      "Using log1p\n",
      "x_in =  tensor([20.4000, 14.2000, 15.3000, 17.1000,  8.0000])\n",
      "x_out =  tensor([3.0634, 2.7213, 2.7912, 2.8959, 2.1972])\n",
      "\n",
      "\n",
      "Using log2\n",
      "x_in =  tensor([20.4000, 14.2000, 15.3000, 17.1000,  8.0000])\n",
      "x_out =  tensor([4.3505, 3.8278, 3.9355, 4.0959, 3.0000])\n",
      "\n",
      "\n"
     ]
    }
   ],
   "source": [
    "# Logarithmic function\n",
    "\n",
    "'''\n",
    "5.9 torch.log - Returns a new tensor with the natural logarithm of the elements of input. Base of log - e\n",
    "'''\n",
    "\n",
    "x_in = torch.tensor([20.4, 14.2, 15.3, 17.1, 8.0])\n",
    "x_out = torch.log(x_in)\n",
    "\n",
    "print(\"Using log\")\n",
    "print(\"x_in = \", x_in)\n",
    "print(\"x_out = \", x_out)\n",
    "print(\"\\n\")\n",
    "\n",
    "\n",
    "'''.5.10/ torch.log10 - Returns a new tensor with the natural logarithm of the elements of input. Base of log - 10\n",
    "'''\n",
    "\n",
    "x_in = torch.tensor([20.4, 14.2, 15.3, 17.1, 8.0])\n",
    "x_out = torch.log10(x_in)\n",
    "\n",
    "print(\"Using log10\")\n",
    "print(\"x_in = \", x_in)\n",
    "print(\"x_out = \", x_out)\n",
    "print(\"\\n\")\n",
    "\n",
    "\n",
    "'''\n",
    "5.11. torch.log1p - Returns a new tensor with the natural logarithm of (1 + input).\n",
    "'''\n",
    "\n",
    "x_in = torch.tensor([20.4, 14.2, 15.3, 17.1, 8.0])\n",
    "x_out = torch.log1p(x_in)\n",
    "\n",
    "print(\"Using log1p\")\n",
    "print(\"x_in = \", x_in)\n",
    "print(\"x_out = \", x_out)\n",
    "print(\"\\n\")\n",
    "\n",
    "\n",
    "'''\n",
    "5.12. torch.log2 - Returns a new tensor with the natural logarithm of the elements of input. Base of log - 2\n",
    "'''\n",
    "\n",
    "x_in = torch.tensor([20.4, 14.2, 15.3, 17.1, 8.0])\n",
    "x_out = torch.log2(x_in)\n",
    "\n",
    "print(\"Using log2\")\n",
    "print(\"x_in = \", x_in)\n",
    "print(\"x_out = \", x_out)\n",
    "print(\"\\n\")"
   ]
  },
  {
   "cell_type": "code",
   "execution_count": 67,
   "metadata": {
    "id": "sMdIgazHrMwO"
   },
   "outputs": [],
   "source": []
  },
  {
   "cell_type": "code",
   "execution_count": 68,
   "metadata": {
    "colab": {
     "base_uri": "https://localhost:8080/"
    },
    "id": "-6jcRu6OrMwO",
    "outputId": "f3ae2fc2-cf48-4a85-a5c0-c709172df8eb"
   },
   "outputs": [
    {
     "name": "stdout",
     "output_type": "stream",
     "text": [
      "x_in =  tensor([-0.1367, -0.8990,  0.0885, -0.9193,  0.2204])\n",
      "x_out =  tensor([ 0.1367,  0.8990, -0.0885,  0.9193, -0.2204])\n"
     ]
    }
   ],
   "source": [
    "# Element wise negative \n",
    "\n",
    "'''\n",
    "5.13. torch.neg - Returns a new tensor with the negative of the elements of input\n",
    "'''\n",
    "\n",
    "x_in = torch.randn(5)\n",
    "x_out = torch.neg(x_in)\n",
    "\n",
    "print(\"x_in = \", x_in)\n",
    "print(\"x_out = \", x_out)"
   ]
  },
  {
   "cell_type": "code",
   "execution_count": 68,
   "metadata": {
    "id": "Oe_JAFWSrMwO"
   },
   "outputs": [],
   "source": []
  },
  {
   "cell_type": "code",
   "execution_count": 69,
   "metadata": {
    "colab": {
     "base_uri": "https://localhost:8080/"
    },
    "id": "DJsHbdXYrMwO",
    "outputId": "a67819ff-3841-48db-8085-b49be33a361e"
   },
   "outputs": [
    {
     "name": "stdout",
     "output_type": "stream",
     "text": [
      "x_in =  tensor([ 0.0785, -0.0043,  0.3911,  0.2873,  0.2141])\n",
      "x_out =  tensor([ 4.8424e-04, -7.9948e-08,  5.9833e-02,  2.3721e-02,  9.8073e-03])\n"
     ]
    }
   ],
   "source": [
    "# Pow\n",
    "\n",
    "'''\n",
    "5.14. torch.pow - Takes the power of each element in input with exponent and returns a tensor with the result.\n",
    "        - input (Tensor) – the input tensor\n",
    "        - exponent (float or tensor) – the exponent value\n",
    "        - out (Tensor, optional) – the output tensor\n",
    "'''\n",
    "x_in = torch.randn(5)\n",
    "x_out = torch.pow(x_in, 3.0)\n",
    "\n",
    "print(\"x_in = \", x_in)\n",
    "print(\"x_out = \", x_out)"
   ]
  },
  {
   "cell_type": "code",
   "execution_count": 69,
   "metadata": {
    "id": "77KzpgBRrMwO"
   },
   "outputs": [],
   "source": []
  },
  {
   "cell_type": "code",
   "execution_count": 70,
   "metadata": {
    "colab": {
     "base_uri": "https://localhost:8080/"
    },
    "id": "T4zgfLfmrMwP",
    "outputId": "2ab55307-9e39-45ac-8bc1-83f99fe38a4d"
   },
   "outputs": [
    {
     "name": "stdout",
     "output_type": "stream",
     "text": [
      "x_in =  tensor([2.4000, 1.2000, 5.3000, 0.1000, 0.8000])\n",
      "x_out =  tensor([ 0.4167,  0.8333,  0.1887, 10.0000,  1.2500])\n"
     ]
    }
   ],
   "source": [
    "# Reciprocal\n",
    "\n",
    "'''\n",
    "5.15. torch.reciprocal - Returns a new tensor with the reciprocal of the elements of input\n",
    "'''\n",
    "\n",
    "x_in = torch.tensor([2.4, 1.2, 5.3, 0.1, 0.8])\n",
    "x_out = torch.reciprocal(x_in)\n",
    "\n",
    "print(\"x_in = \", x_in)\n",
    "print(\"x_out = \", x_out)"
   ]
  },
  {
   "cell_type": "code",
   "execution_count": 70,
   "metadata": {
    "id": "2JGUUoF7rMwP"
   },
   "outputs": [],
   "source": []
  },
  {
   "cell_type": "code",
   "execution_count": 71,
   "metadata": {
    "colab": {
     "base_uri": "https://localhost:8080/"
    },
    "id": "PrOS0lbLrMwP",
    "outputId": "3136c2dc-8782-43f9-c711-742472e07703"
   },
   "outputs": [
    {
     "name": "stdout",
     "output_type": "stream",
     "text": [
      "x_in =  tensor([2.4000, 1.2000, 5.3000, 0.1000, 0.8000])\n",
      "x_out =  tensor([0.6455, 0.9129, 0.4344, 3.1623, 1.1180])\n"
     ]
    }
   ],
   "source": [
    "# Squareroot-reciprocal\n",
    "\n",
    "'''\n",
    "5.16. torch.rsqrt - Returns a new tensor with the reciprocal of the square-root of each of the elements of input.\n",
    "'''\n",
    "\n",
    "x_in = torch.tensor([2.4, 1.2, 5.3, 0.1, 0.8])\n",
    "x_out = torch.rsqrt(x_in)\n",
    "\n",
    "print(\"x_in = \", x_in)\n",
    "print(\"x_out = \", x_out)"
   ]
  },
  {
   "cell_type": "code",
   "execution_count": 71,
   "metadata": {
    "id": "YYlJY3ONrMwQ"
   },
   "outputs": [],
   "source": []
  },
  {
   "cell_type": "code",
   "execution_count": 72,
   "metadata": {
    "colab": {
     "base_uri": "https://localhost:8080/"
    },
    "id": "qvNP3WWKrMwQ",
    "outputId": "7efd7743-052c-45fa-ef15-f6fbfa0c01cc"
   },
   "outputs": [
    {
     "name": "stdout",
     "output_type": "stream",
     "text": [
      "x_in =  tensor([-0.5497,  0.2736, -0.1463, -0.1614, -0.1892])\n",
      "x_out =  tensor([0.3659, 0.5680, 0.4635, 0.4597, 0.4528])\n"
     ]
    }
   ],
   "source": [
    "# Sigmoid\n",
    "\n",
    "'''\n",
    "5.17. torch.sigmoid - Returns a new tensor with the sigmoid of the elements of input\n",
    "'''\n",
    "\n",
    "x_in = torch.randn(5)\n",
    "x_out = torch.sigmoid(x_in)\n",
    "\n",
    "print(\"x_in = \", x_in)\n",
    "print(\"x_out = \", x_out)"
   ]
  },
  {
   "cell_type": "code",
   "execution_count": 72,
   "metadata": {
    "id": "x4NiNH6orMwQ"
   },
   "outputs": [],
   "source": []
  },
  {
   "cell_type": "code",
   "execution_count": 73,
   "metadata": {
    "colab": {
     "base_uri": "https://localhost:8080/"
    },
    "id": "KPcfS4AtrMwR",
    "outputId": "e8a4e8bb-f1b6-4269-b149-d6747d7a1bb8"
   },
   "outputs": [
    {
     "name": "stdout",
     "output_type": "stream",
     "text": [
      "x_in =  tensor([-0.2209,  0.2501,  0.4339, -0.7242,  0.4231])\n",
      "x_out =  tensor([-1.,  1.,  1., -1.,  1.])\n"
     ]
    }
   ],
   "source": [
    "# Getting sign of element\n",
    "\n",
    "'''\n",
    "5.18. torch.sign - Returns a new tensor with the sign of the elements of input.\n",
    "'''\n",
    "\n",
    "x_in = torch.randn(5)\n",
    "x_out = torch.sign(x_in)\n",
    "\n",
    "print(\"x_in = \", x_in)\n",
    "print(\"x_out = \", x_out)"
   ]
  },
  {
   "cell_type": "code",
   "execution_count": 73,
   "metadata": {
    "id": "30gJxrYxrMwR"
   },
   "outputs": [],
   "source": []
  },
  {
   "cell_type": "code",
   "execution_count": 74,
   "metadata": {
    "colab": {
     "base_uri": "https://localhost:8080/"
    },
    "id": "lHRpMV7srMwR",
    "outputId": "54aab80f-b6e0-43df-892b-3fac458eb417"
   },
   "outputs": [
    {
     "name": "stdout",
     "output_type": "stream",
     "text": [
      "x_in =  tensor([ 2.4000, -1.2000,  5.3000,  0.1000,  0.8000])\n",
      "x_out =  tensor([1.5492,    nan, 2.3022, 0.3162, 0.8944])\n"
     ]
    }
   ],
   "source": [
    "# Square-root\n",
    "\n",
    "'''\n",
    "5.19. torch.sqrt - Returns a new tensor with the square-root of each of the elements of input.\n",
    "'''\n",
    "\n",
    "x_in = torch.tensor([2.4, -1.2, 5.3, 0.1, 0.8])\n",
    "x_out = torch.sqrt(x_in)\n",
    "\n",
    "print(\"x_in = \", x_in)\n",
    "print(\"x_out = \", x_out)"
   ]
  },
  {
   "cell_type": "code",
   "execution_count": 74,
   "metadata": {
    "id": "GFnw3GICrMwS"
   },
   "outputs": [],
   "source": []
  },
  {
   "cell_type": "code",
   "execution_count": 75,
   "metadata": {
    "colab": {
     "base_uri": "https://localhost:8080/"
    },
    "id": "0o3AY3P8rMwS",
    "outputId": "ff1010eb-8b86-40b2-fb01-a55019927014"
   },
   "outputs": [
    {
     "name": "stdout",
     "output_type": "stream",
     "text": [
      "x_in =  tensor([1., 2., 3., 4., 5., 1.])\n",
      "x_out =  tensor(7.4833)\n"
     ]
    }
   ],
   "source": [
    "# Compute Norm\n",
    "\n",
    "'''\n",
    "5.20. torch.norm - Returns the normalized value of all elements in the input tensor.\n",
    "'''\n",
    "\n",
    "x_in = torch.tensor([1.,2.,3.,4.,5.,1.0])\n",
    "x_out = torch.norm(x_in)\n",
    "\n",
    "print(\"x_in = \", x_in)\n",
    "print(\"x_out = \", x_out)"
   ]
  },
  {
   "cell_type": "code",
   "execution_count": 75,
   "metadata": {
    "id": "b-VY--_ErMwS"
   },
   "outputs": [],
   "source": []
  },
  {
   "cell_type": "code",
   "execution_count": 75,
   "metadata": {
    "id": "D97D3uahrMwS"
   },
   "outputs": [],
   "source": []
  },
  {
   "cell_type": "code",
   "execution_count": 75,
   "metadata": {
    "id": "OmvIXdWtrMwS"
   },
   "outputs": [],
   "source": []
  },
  {
   "cell_type": "code",
   "execution_count": 75,
   "metadata": {
    "id": "bAAR4WaJrMwS"
   },
   "outputs": [],
   "source": []
  },
  {
   "cell_type": "code",
   "execution_count": null,
   "metadata": {
    "id": "jvDojIwVrMwT"
   },
   "outputs": [],
   "source": []
  },
  {
   "cell_type": "code",
   "execution_count": null,
   "metadata": {
    "id": "hlaOu3ozrMwT"
   },
   "outputs": [],
   "source": []
  },
  {
   "cell_type": "code",
   "execution_count": null,
   "metadata": {
    "id": "OKzzZGVnrMwT"
   },
   "outputs": [],
   "source": []
  },
  {
   "cell_type": "code",
   "execution_count": null,
   "metadata": {
    "id": "LLON0poZrMwT"
   },
   "outputs": [],
   "source": []
  },
  {
   "cell_type": "code",
   "execution_count": null,
   "metadata": {
    "id": "porOW1FMrMwT"
   },
   "outputs": [],
   "source": []
  },
  {
   "cell_type": "code",
   "execution_count": 76,
   "metadata": {
    "colab": {
     "base_uri": "https://localhost:8080/"
    },
    "id": "4wHRcoJ6rMwT",
    "outputId": "cd74d639-cd91-47ca-e4d8-ce463bb81843"
   },
   "outputs": [
    {
     "name": "stdout",
     "output_type": "stream",
     "text": [
      "x_1 =  tensor([1., 2., 3., 4., 5., 1.])\n",
      "x_2 =  tensor([ 1.0000,  2.0000, 13.9000,  4.0000,  9.0000,  1.4000])\n",
      "x_out =  tensor([ True,  True, False,  True, False, False])\n"
     ]
    }
   ],
   "source": [
    "# Element wise Equality\n",
    "\n",
    "'''\n",
    "6.1. torch.eq - Computes element-wise equality\n",
    "        - input (Tensor) – the tensor to compare\n",
    "        - other (Tensor or float) – the tensor or value to compare\n",
    "        - out (Tensor, optional) – the output tensor. Must be a ByteTensor\n",
    "'''\n",
    "\n",
    "x_1 = torch.tensor([1.,2.,3.,4.,5.,1.0])\n",
    "x_2 = torch.tensor([1.,2.,13.9,4.,9.,1.4])\n",
    "x_out = torch.eq(x_1, x_2)\n",
    "\n",
    "print(\"x_1 = \", x_1)\n",
    "print(\"x_2 = \", x_2)\n",
    "print(\"x_out = \", x_out)"
   ]
  },
  {
   "cell_type": "code",
   "execution_count": 76,
   "metadata": {
    "id": "Q0rYmum2rMwT"
   },
   "outputs": [],
   "source": []
  },
  {
   "cell_type": "code",
   "execution_count": 77,
   "metadata": {
    "colab": {
     "base_uri": "https://localhost:8080/"
    },
    "id": "PFWNOUkVrMwT",
    "outputId": "826c3bbb-f07d-489b-a4cd-935f3e217f09"
   },
   "outputs": [
    {
     "name": "stdout",
     "output_type": "stream",
     "text": [
      "Greater than Equal to Function \n",
      "x_1 =  tensor([1., 2., 3., 4., 5., 1.])\n",
      "x_2 =  tensor([ 1.0000,  2.0000, 13.9000,  4.0000,  9.0000,  1.4000])\n",
      "x_out =  tensor([ True,  True, False,  True, False, False])\n",
      "\n",
      "\n",
      "Greater than function\n",
      "x_1 =  tensor([1., 2., 3., 4., 5., 1.])\n",
      "x_2 =  tensor([ 1.0000,  2.0000, 13.9000,  4.0000,  9.0000,  1.4000])\n",
      "x_out =  tensor([False, False, False, False, False, False])\n"
     ]
    }
   ],
   "source": [
    "# Element wise Greater-Than function\n",
    "\n",
    "'''\n",
    "6.2. torch.ge - Computes element-wise greater-than-equality\n",
    "        - input (Tensor) – the tensor to compare\n",
    "        - other (Tensor or float) – the tensor or value to compare\n",
    "        - out (Tensor, optional) – the output tensor. Must be a ByteTensor\n",
    "'''\n",
    "\n",
    "x_1 = torch.tensor([1.,2.,3.,4.,5.,1.0])\n",
    "x_2 = torch.tensor([1.,2.,13.9,4.,9.,1.4])\n",
    "x_out = torch.ge(x_1, x_2)\n",
    "\n",
    "print(\"Greater than Equal to Function \")\n",
    "print(\"x_1 = \", x_1)\n",
    "print(\"x_2 = \", x_2)\n",
    "print(\"x_out = \", x_out)\n",
    "print(\"\\n\")\n",
    "\n",
    "\n",
    "\n",
    "'''\n",
    "6.3. torch.gt - Computes element-wise greater-than function\n",
    "        - input (Tensor) – the tensor to compare\n",
    "        - other (Tensor or float) – the tensor or value to compare\n",
    "        - out (Tensor, optional) – the output tensor. Must be a ByteTensor\n",
    "'''\n",
    "\n",
    "x_1 = torch.tensor([1.,2.,3.,4.,5.,1.0])\n",
    "x_2 = torch.tensor([1.,2.,13.9,4.,9.,1.4])\n",
    "x_out = torch.gt(x_1, x_2)\n",
    "\n",
    "print(\"Greater than function\")\n",
    "print(\"x_1 = \", x_1)\n",
    "print(\"x_2 = \", x_2)\n",
    "print(\"x_out = \", x_out)"
   ]
  },
  {
   "cell_type": "code",
   "execution_count": 77,
   "metadata": {
    "id": "k9YcklNlrMwU"
   },
   "outputs": [],
   "source": []
  },
  {
   "cell_type": "code",
   "execution_count": 78,
   "metadata": {
    "colab": {
     "base_uri": "https://localhost:8080/"
    },
    "id": "bhcNFXa4rMwU",
    "outputId": "e928b2b0-ba33-4f1d-8993-7fc47cbf8ef7"
   },
   "outputs": [
    {
     "name": "stdout",
     "output_type": "stream",
     "text": [
      "Less than Equal to Function \n",
      "x_1 =  tensor([1., 2., 3., 4., 5., 1.])\n",
      "x_2 =  tensor([ 1.0000,  2.0000, 13.9000,  4.0000,  9.0000,  1.4000])\n",
      "x_out =  tensor([True, True, True, True, True, True])\n",
      "\n",
      "\n",
      "Less than function\n",
      "x_1 =  tensor([1., 2., 3., 4., 5., 1.])\n",
      "x_2 =  tensor([ 1.0000,  2.0000, 13.9000,  4.0000,  9.0000,  1.4000])\n",
      "x_out =  tensor([False, False,  True, False,  True,  True])\n"
     ]
    }
   ],
   "source": [
    "# Element wise Less-Than function\n",
    "\n",
    "'''\n",
    "6.4. torch.le - Computes element-wise less-than-equality\n",
    "        - input (Tensor) – the tensor to compare\n",
    "        - other (Tensor or float) – the tensor or value to compare\n",
    "        - out (Tensor, optional) – the output tensor. Must be a ByteTensor\n",
    "'''\n",
    "\n",
    "x_1 = torch.tensor([1.,2.,3.,4.,5.,1.0])\n",
    "x_2 = torch.tensor([1.,2.,13.9,4.,9.,1.4])\n",
    "x_out = torch.le(x_1, x_2)\n",
    "\n",
    "print(\"Less than Equal to Function \")\n",
    "print(\"x_1 = \", x_1)\n",
    "print(\"x_2 = \", x_2)\n",
    "print(\"x_out = \", x_out)\n",
    "print(\"\\n\")\n",
    "\n",
    "\n",
    "\n",
    "'''\n",
    "6.5. torch.lt - Computes element-wise less-than function\n",
    "        - input (Tensor) – the tensor to compare\n",
    "        - other (Tensor or float) – the tensor or value to compare\n",
    "        - out (Tensor, optional) – the output tensor. Must be a ByteTensor\n",
    "'''\n",
    "\n",
    "x_1 = torch.tensor([1.,2.,3.,4.,5.,1.0])\n",
    "x_2 = torch.tensor([1.,2.,13.9,4.,9.,1.4])\n",
    "x_out = torch.lt(x_1, x_2)\n",
    "\n",
    "print(\"Less than function\")\n",
    "print(\"x_1 = \", x_1)\n",
    "print(\"x_2 = \", x_2)\n",
    "print(\"x_out = \", x_out)"
   ]
  },
  {
   "cell_type": "code",
   "execution_count": 78,
   "metadata": {
    "id": "Zjy4GoaqrMwU"
   },
   "outputs": [],
   "source": []
  },
  {
   "cell_type": "code",
   "execution_count": 79,
   "metadata": {
    "colab": {
     "base_uri": "https://localhost:8080/"
    },
    "id": "uTby7QNKrMwU",
    "outputId": "e9eccbf4-6a86-4b2c-9e15-5a507dbf64c8"
   },
   "outputs": [
    {
     "name": "stdout",
     "output_type": "stream",
     "text": [
      "x_in =  tensor([1., 2., 3., 4., 5., 1.])\n",
      "x_out_max =  tensor(5.)\n",
      "x_out_min =  tensor(1.)\n"
     ]
    }
   ],
   "source": [
    "# Extracting min and max element\n",
    "\n",
    "'''\n",
    "6.6. torch.max - Returns the maximum value of all elements in the input tensor.\n",
    "6.7. torch.min - Returns the minimum value of all elements in the input tensor.\n",
    "'''\n",
    "\n",
    "x_in = torch.tensor([1.,2.,3.,4.,5.,1.0])\n",
    "x_out_max = torch.max(x_in)\n",
    "x_out_min = torch.min(x_in)\n",
    "\n",
    "print(\"x_in = \", x_in)\n",
    "print(\"x_out_max = \", x_out_max)\n",
    "print(\"x_out_min = \", x_out_min)"
   ]
  },
  {
   "cell_type": "code",
   "execution_count": null,
   "metadata": {
    "id": "kM0FZcMFrMwU"
   },
   "outputs": [],
   "source": []
  },
  {
   "cell_type": "code",
   "execution_count": null,
   "metadata": {
    "id": "GpLdPxESrMwV"
   },
   "outputs": [],
   "source": []
  },
  {
   "cell_type": "code",
   "execution_count": null,
   "metadata": {
    "id": "vrhBWq3drMwV"
   },
   "outputs": [],
   "source": []
  },
  {
   "cell_type": "code",
   "execution_count": null,
   "metadata": {
    "id": "NBNkwuHqrMwV"
   },
   "outputs": [],
   "source": []
  },
  {
   "cell_type": "code",
   "execution_count": null,
   "metadata": {
    "id": "XgpK9KiXrMwW"
   },
   "outputs": [],
   "source": []
  },
  {
   "cell_type": "code",
   "execution_count": null,
   "metadata": {
    "id": "tDDAif_mrMwW"
   },
   "outputs": [],
   "source": []
  },
  {
   "cell_type": "code",
   "execution_count": null,
   "metadata": {
    "id": "Q4k09PNdrMwW"
   },
   "outputs": [],
   "source": []
  },
  {
   "cell_type": "code",
   "execution_count": null,
   "metadata": {
    "id": "R4BbZez6rMwW"
   },
   "outputs": [],
   "source": []
  },
  {
   "cell_type": "code",
   "execution_count": null,
   "metadata": {
    "id": "34TBr7nMrMwW"
   },
   "outputs": [],
   "source": []
  },
  {
   "cell_type": "code",
   "execution_count": null,
   "metadata": {
    "id": "J_G2MB_DrMwW"
   },
   "outputs": [],
   "source": []
  },
  {
   "cell_type": "code",
   "execution_count": null,
   "metadata": {
    "id": "XBIsD4bOrMwX"
   },
   "outputs": [],
   "source": []
  },
  {
   "cell_type": "code",
   "execution_count": 80,
   "metadata": {
    "colab": {
     "base_uri": "https://localhost:8080/"
    },
    "id": "Vz-1jNpbrMwX",
    "outputId": "fbc6235b-1c5a-4b7f-f2bf-5711f0045a73"
   },
   "outputs": [
    {
     "name": "stdout",
     "output_type": "stream",
     "text": [
      "x_in =  tensor([1, 2, 3, 4, 3, 2, 1])\n",
      "Cumulative product first row =  tensor([  1,   2,   6,  24,  72, 144, 144])\n"
     ]
    }
   ],
   "source": [
    "# Cumulative Product\n",
    "\n",
    "'''\n",
    "7.1. torch.cumprod - Returns the cumulative product of elements of input in the dimension dim.\n",
    "'''\n",
    "\n",
    "x_in = torch.tensor([1,2,3,4,3,2,1])\n",
    "x_out_first_row = torch.cumprod(x_in, dim=0)\n",
    "\n",
    "print(\"x_in = \", x_in)\n",
    "print(\"Cumulative product first row = \", x_out_first_row)"
   ]
  },
  {
   "cell_type": "code",
   "execution_count": 80,
   "metadata": {
    "id": "gTY4Kc-vrMwX"
   },
   "outputs": [],
   "source": []
  },
  {
   "cell_type": "code",
   "execution_count": 81,
   "metadata": {
    "colab": {
     "base_uri": "https://localhost:8080/"
    },
    "id": "LtH6kOtvrMwX",
    "outputId": "4398209d-e18d-45c7-86bc-96e2e695bc67"
   },
   "outputs": [
    {
     "name": "stdout",
     "output_type": "stream",
     "text": [
      "x_in =  tensor([1, 2, 3, 4, 3, 2, 1])\n",
      "Cumulative sum first row =  tensor([ 1,  3,  6, 10, 13, 15, 16])\n"
     ]
    }
   ],
   "source": [
    "# Cumulative Sum\n",
    "\n",
    "'''\n",
    "7.2. torch.cumsum - Returns the cumulative sum of elements of input in the dimension dim.\n",
    "'''\n",
    "\n",
    "x_in = torch.tensor([1,2,3,4,3,2,1])\n",
    "x_out_first_row = torch.cumsum(x_in, dim=0)\n",
    "\n",
    "print(\"x_in = \", x_in)\n",
    "print(\"Cumulative sum first row = \", x_out_first_row)"
   ]
  },
  {
   "cell_type": "code",
   "execution_count": 81,
   "metadata": {
    "id": "reqiCGIjrMwY"
   },
   "outputs": [],
   "source": []
  },
  {
   "cell_type": "code",
   "execution_count": 82,
   "metadata": {
    "colab": {
     "base_uri": "https://localhost:8080/"
    },
    "id": "cqwCE9TvrMwY",
    "outputId": "c9b28ca4-2e34-43b1-f32f-ccdd3424076f"
   },
   "outputs": [
    {
     "name": "stdout",
     "output_type": "stream",
     "text": [
      "x_in =  tensor([-0.0952,  0.2637, -0.2185, -0.8234, -0.7815])\n",
      "x_out =  tensor(1.3639)\n"
     ]
    }
   ],
   "source": [
    "# Log to Sum of Exponentials\n",
    "\n",
    "'''\n",
    "7.3. torch.logsumexp - Returns the log of summed exponentials of each \n",
    "        row of the input tensor in the given dimension dim. The computation is numerically stabilized.\n",
    "            - input (Tensor) – the input tensor\n",
    "            - dim (int or tuple of python:ints) – the dimension or dimensions to reduce\n",
    "            - keepdim (bool) – whether the output tensor has dim retained or not\n",
    "            - out (Tensor, optional) – the output tensor\n",
    "'''\n",
    "\n",
    "x_in = torch.randn(5)\n",
    "x_out = torch.logsumexp(x_in, dim=0)\n",
    "\n",
    "print(\"x_in = \", x_in)\n",
    "print(\"x_out = \", x_out)"
   ]
  },
  {
   "cell_type": "code",
   "execution_count": 82,
   "metadata": {
    "id": "S_gjyiLerMwZ"
   },
   "outputs": [],
   "source": []
  },
  {
   "cell_type": "code",
   "execution_count": 83,
   "metadata": {
    "colab": {
     "base_uri": "https://localhost:8080/"
    },
    "id": "DyDv3VtyrMwZ",
    "outputId": "a943f9e4-b20a-4ac9-c09f-f8c41f566161"
   },
   "outputs": [
    {
     "name": "stdout",
     "output_type": "stream",
     "text": [
      "x_1 =  tensor([1, 2, 3, 4])\n",
      "x_2 =  tensor([-1, -2,  3,  4])\n",
      "x_out =  tensor([[-1, -2,  3,  4],\n",
      "        [-2, -4,  6,  8],\n",
      "        [-3, -6,  9, 12],\n",
      "        [-4, -8, 12, 16]])\n"
     ]
    }
   ],
   "source": [
    "# Einstein Summation Convention\n",
    "\n",
    "'''\n",
    "7.4. torch.einsum - This function provides a way of computing multilinear expressions \n",
    "    (i.e. sums of products) using the Einstein summation convention.\n",
    "'''\n",
    "\n",
    "x_1 = torch.tensor([1, 2, 3, 4])\n",
    "x_2 = torch.tensor([-1, -2, 3, 4])\n",
    "\n",
    "x_out = torch.einsum('i,j->ij', (x_1,x_2))  # outer product\n",
    "\n",
    "print(\"x_1 = \", x_1)\n",
    "print(\"x_2 = \", x_2)\n",
    "print(\"x_out = \", x_out)"
   ]
  },
  {
   "cell_type": "code",
   "execution_count": 83,
   "metadata": {
    "id": "QgfoFLFurMwZ"
   },
   "outputs": [],
   "source": []
  },
  {
   "cell_type": "code",
   "execution_count": 84,
   "metadata": {
    "colab": {
     "base_uri": "https://localhost:8080/"
    },
    "id": "jdYEFMVerMwZ",
    "outputId": "918b4258-8270-40d5-fd7a-7cd67f0e4e25"
   },
   "outputs": [
    {
     "name": "stdout",
     "output_type": "stream",
     "text": [
      "x_in =  tensor([  1.,   2.,   3.,   4.,  10.,  11.,  12.,  13., 100., 101., 102.])\n",
      "histogram -  tensor([8., 0., 3.])\n"
     ]
    }
   ],
   "source": [
    "# Compute Histogram of tensor\n",
    "\n",
    "'''\n",
    "7.5. torch.histc - Computes the histogram of a tensor.\n",
    "        - input (Tensor) – the input tensor\n",
    "        - bins (int) – number of histogram bins\n",
    "        - min (int) – lower end of the range (inclusive)\n",
    "        - max (int) – upper end of the range (inclusive)\n",
    "        - out (Tensor, optional) – the output tensor\n",
    "\n",
    "'''\n",
    "\n",
    "x_in = torch.tensor([1., 2., 3., 4., 10., 11., 12., 13., 100.,101., 102.])\n",
    "hist = torch.histc(x_in, bins=3, min=0, max=150)\n",
    "print(\"x_in = \", x_in)\n",
    "print(\"histogram - \", hist)"
   ]
  },
  {
   "cell_type": "code",
   "execution_count": 84,
   "metadata": {
    "id": "KkM06RkUrMwZ"
   },
   "outputs": [],
   "source": []
  },
  {
   "cell_type": "code",
   "execution_count": 84,
   "metadata": {
    "id": "IfPCwqhprMwZ"
   },
   "outputs": [],
   "source": []
  },
  {
   "cell_type": "code",
   "execution_count": 84,
   "metadata": {
    "id": "wcLjRBRcrMwZ"
   },
   "outputs": [],
   "source": []
  },
  {
   "cell_type": "code",
   "execution_count": 84,
   "metadata": {
    "id": "a3IH55p_rMwa"
   },
   "outputs": [],
   "source": []
  },
  {
   "cell_type": "code",
   "execution_count": 84,
   "metadata": {
    "id": "-H2PGkv_rMwa"
   },
   "outputs": [],
   "source": []
  },
  {
   "cell_type": "code",
   "execution_count": 84,
   "metadata": {
    "id": "UE02qLwbrMwa"
   },
   "outputs": [],
   "source": []
  },
  {
   "cell_type": "code",
   "execution_count": 84,
   "metadata": {
    "id": "XT2aX5yorMwa"
   },
   "outputs": [],
   "source": []
  },
  {
   "cell_type": "code",
   "execution_count": 84,
   "metadata": {
    "id": "RArC4xLDrMwa"
   },
   "outputs": [],
   "source": []
  },
  {
   "cell_type": "code",
   "execution_count": 84,
   "metadata": {
    "id": "t6D6EcMerMwb"
   },
   "outputs": [],
   "source": []
  },
  {
   "cell_type": "code",
   "execution_count": 84,
   "metadata": {
    "id": "HFYyVYQDrMwb"
   },
   "outputs": [],
   "source": []
  },
  {
   "cell_type": "code",
   "execution_count": 85,
   "metadata": {
    "colab": {
     "base_uri": "https://localhost:8080/"
    },
    "id": "nyWUzu-zrMwb",
    "outputId": "f6d531d4-7675-4382-8972-dc5f174d7954"
   },
   "outputs": [
    {
     "name": "stdout",
     "output_type": "stream",
     "text": [
      "x_in =  tensor([1., 2., 3., 4., 5., 1.])\n",
      "x_out =  tensor([1., 2., 3., 4., 5.])\n"
     ]
    }
   ],
   "source": [
    "# Extract unique elements from a tensor\n",
    "\n",
    "'''\n",
    "8.1. torch.unique - Returns the unique scalar elements of the input tensor as a 1-D tensor.\n",
    "        - input (Tensor) – the input tensor\n",
    "        - sorted (bool) – Whether to sort the unique elements in ascending order before returning as output.\n",
    "        - return_inverse (bool) – Whether to also return the indices for where elements in the original input \n",
    "            ended up in the returned unique list.\n",
    "'''\n",
    "\n",
    "x_in = torch.tensor([1.,2.,3.,4.,5.,1.0])\n",
    "x_out = torch.unique(x_in, sorted=True)\n",
    "\n",
    "print(\"x_in = \", x_in)\n",
    "print(\"x_out = \", x_out)"
   ]
  },
  {
   "cell_type": "code",
   "execution_count": 85,
   "metadata": {
    "id": "4u3XQSyQrMwc"
   },
   "outputs": [],
   "source": []
  },
  {
   "cell_type": "code",
   "execution_count": 86,
   "metadata": {
    "colab": {
     "base_uri": "https://localhost:8080/"
    },
    "id": "n9SWz3pIrMwc",
    "outputId": "60a5b4d5-5e39-4ee5-c9f4-d628fd059856"
   },
   "outputs": [
    {
     "name": "stdout",
     "output_type": "stream",
     "text": [
      "x_in =  tensor([ 0.7340, -0.2855,  0.6731, -1.3794, -0.6733,  0.8270, -0.9576,  0.8626,\n",
      "         0.1557, -0.5031])\n",
      "x_out =  tensor([-1.3794, -0.9576, -0.6733, -0.5031, -0.2855,  0.1557,  0.6731,  0.7340,\n",
      "         0.8270,  0.8626])\n",
      "indices =  tensor([3, 6, 4, 9, 1, 8, 2, 0, 5, 7])\n"
     ]
    }
   ],
   "source": [
    "# Sorting a tensor\n",
    "\n",
    "'''\n",
    "8.2. torch.sort - Sorts the elements of the input tensor along a given dimension in ascending order by value.\n",
    "        - input (Tensor) – the input tensor\n",
    "        - dim (int, optional) – the dimension to sort along\n",
    "        - descending (bool, optional) – controls the sorting order (ascending or descending)\n",
    "        - out (tuple, optional) – the output tuple of (Tensor, LongTensor) that can be optionally given to be used as output buffers\n",
    "'''\n",
    "\n",
    "x_in = torch.randn(10)\n",
    "x_out, indices = torch.sort(x_in)\n",
    "\n",
    "print(\"x_in = \", x_in)\n",
    "print(\"x_out = \", x_out)\n",
    "print(\"indices = \", indices)"
   ]
  },
  {
   "cell_type": "code",
   "execution_count": 86,
   "metadata": {
    "id": "UDTq3noBrMwd"
   },
   "outputs": [],
   "source": []
  },
  {
   "cell_type": "code",
   "execution_count": 87,
   "metadata": {
    "colab": {
     "base_uri": "https://localhost:8080/"
    },
    "id": "nB9IeYSLrMwd",
    "outputId": "c8f9178e-264e-4cd2-be7b-2091a1f45709"
   },
   "outputs": [
    {
     "name": "stdout",
     "output_type": "stream",
     "text": [
      "x_in =  tensor([-0.8605,  1.2699, -1.1295, -0.8880,  0.4297,  1.6046, -0.4366, -0.3803,\n",
      "         1.1501,  0.3440])\n",
      "top K elements =  tensor([1.6046, 1.2699, 1.1501])\n",
      "Indices of top K elements =  tensor([5, 1, 8])\n"
     ]
    }
   ],
   "source": [
    "# Getting top-K Elements from tensor\n",
    "\n",
    "'''\n",
    "8.3. torch.topk - Returns the k largest elements of the given input tensor along a given dimension.\n",
    "        - input (Tensor) – the input tensor\n",
    "        - k (int) – the k in “top-k”\n",
    "        - dim (int, optional) – the dimension to sort along\n",
    "        - largest (bool, optional) – controls whether to return largest or smallest elements\n",
    "        - sorted (bool, optional) – controls whether to return the elements in sorted order\n",
    "        - out (tuple, optional) – the output tuple of (Tensor, LongTensor) that can be optionally given to be \n",
    "            used as output buffers\n",
    "\n",
    "'''\n",
    "\n",
    "x_in = torch.randn(10)\n",
    "x_out, indices = torch.topk(x_in, 3)\n",
    "\n",
    "\n",
    "print(\"x_in = \", x_in)\n",
    "print(\"top K elements = \", x_out)\n",
    "print(\"Indices of top K elements = \", indices)"
   ]
  },
  {
   "cell_type": "code",
   "execution_count": 87,
   "metadata": {
    "id": "c6ltfctkrMwd"
   },
   "outputs": [],
   "source": []
  },
  {
   "cell_type": "code",
   "execution_count": 88,
   "metadata": {
    "colab": {
     "base_uri": "https://localhost:8080/"
    },
    "id": "icf80rgDrMwd",
    "outputId": "bb54d67f-db3a-43b4-cea7-eb360a7a46cc"
   },
   "outputs": [
    {
     "name": "stdout",
     "output_type": "stream",
     "text": [
      "x_in =  tensor([1, 2, 3, 2, 1, 4, 5, 4, 6, 6])\n",
      "x_out =  tensor([0, 2, 2, 1, 2, 1, 2])\n"
     ]
    }
   ],
   "source": [
    "# Bin Count\n",
    "\n",
    "'''\n",
    "8.4. torch.bitcount - Count the frequency of each value in an array of non-negative ints.\n",
    "        - input (Tensor) – 1-d int tensor\n",
    "        - weights (Tensor) – optional, weight for each value in the input tensor. Should be of same size as input tensor.\n",
    "        - minlength (int) – optional, min number of bins. Should be non-negative.\n",
    "'''\n",
    "\n",
    "x_in = torch.tensor([1,2,3,2,1,4,5,4,6,6])\n",
    "x_out = torch.bincount(x_in)\n",
    "\n",
    "print(\"x_in = \", x_in)\n",
    "print(\"x_out = \", x_out)"
   ]
  },
  {
   "cell_type": "code",
   "execution_count": 88,
   "metadata": {
    "id": "aXDlcRe0rMwe"
   },
   "outputs": [],
   "source": []
  },
  {
   "cell_type": "code",
   "execution_count": 89,
   "metadata": {
    "colab": {
     "base_uri": "https://localhost:8080/"
    },
    "id": "wsXWRafzrMwe",
    "outputId": "eff3dd5d-741a-43c1-f9fc-43481498c35c"
   },
   "outputs": [
    {
     "name": "stdout",
     "output_type": "stream",
     "text": [
      "x_in =  tensor([[1., 2., 3.],\n",
      "        [4., 5., 6.],\n",
      "        [7., 8., 9.]])\n",
      "trace =  tensor(15.)\n"
     ]
    }
   ],
   "source": [
    "# Compute trace of 2D matrix\n",
    "\n",
    "'''\n",
    "8.5. torch.trace - Returns the sum of the elements of the diagonal of the input 2-D matrix.\n",
    "'''\n",
    "\n",
    "x_in = torch.arange(1., 10.).view(3, 3) # Resizing using view\n",
    "trace = torch.trace(x_in)\n",
    "\n",
    "print(\"x_in = \", x_in)\n",
    "print(\"trace = \", trace)"
   ]
  },
  {
   "cell_type": "code",
   "execution_count": 89,
   "metadata": {
    "id": "75ID-wAMrMwe"
   },
   "outputs": [],
   "source": []
  },
  {
   "cell_type": "code",
   "execution_count": 90,
   "metadata": {
    "colab": {
     "base_uri": "https://localhost:8080/"
    },
    "id": "FXaP2iCCrMwe",
    "outputId": "9056cae6-da92-4545-f722-b4861dcbe910"
   },
   "outputs": [
    {
     "name": "stdout",
     "output_type": "stream",
     "text": [
      "Input -  tensor([[-1.6972,  1.1974,  0.4647],\n",
      "        [ 0.5347, -0.2057, -1.1687],\n",
      "        [-0.1523,  1.1560, -0.3536]])\n",
      "Lower triangular matrix -  tensor([[-1.6972,  0.0000,  0.0000],\n",
      "        [ 0.5347, -0.2057,  0.0000],\n",
      "        [-0.1523,  1.1560, -0.3536]])\n",
      "Upper triangular matrix -  tensor([[-1.6972,  0.0000,  0.0000],\n",
      "        [ 0.5347, -0.2057,  0.0000],\n",
      "        [-0.1523,  1.1560, -0.3536]])\n"
     ]
    }
   ],
   "source": [
    "# Extract upper and lower trangular tensors\n",
    "\n",
    "'''\n",
    "8.6. torch.tril - Returns the lower triangular part of the matrix (2-D tensor) input, \n",
    "        the other elements of the result tensor out are set to 0.\n",
    "'''\n",
    "\n",
    "'''\n",
    "8.7. torch.triu - Returns the upper triangular part of the matrix (2-D tensor) input, \n",
    "        the other elements of the result tensor out are set to 0.\n",
    "'''\n",
    "\n",
    "x_in = torch.randn(3, 3)\n",
    "\n",
    "x_l = torch.tril(x_in)\n",
    "x_u = torch.tril(x_in)\n",
    "\n",
    "print(\"Input - \", x_in)\n",
    "print(\"Lower triangular matrix - \", x_l)\n",
    "print(\"Upper triangular matrix - \", x_u)"
   ]
  },
  {
   "cell_type": "code",
   "execution_count": 90,
   "metadata": {
    "id": "KEe_a-R7rMwe"
   },
   "outputs": [],
   "source": []
  },
  {
   "cell_type": "code",
   "execution_count": 90,
   "metadata": {
    "id": "GdfW4HjzrMwe"
   },
   "outputs": [],
   "source": []
  },
  {
   "cell_type": "code",
   "execution_count": 90,
   "metadata": {
    "id": "y5KozTHGrMwf"
   },
   "outputs": [],
   "source": []
  },
  {
   "cell_type": "code",
   "execution_count": 90,
   "metadata": {
    "id": "LG69To36rMwf"
   },
   "outputs": [],
   "source": []
  },
  {
   "cell_type": "code",
   "execution_count": 90,
   "metadata": {
    "id": "b5ViKTG4rMwf"
   },
   "outputs": [],
   "source": []
  },
  {
   "cell_type": "code",
   "execution_count": 90,
   "metadata": {
    "id": "VYlD7KhXrMwf"
   },
   "outputs": [],
   "source": []
  },
  {
   "cell_type": "code",
   "execution_count": 90,
   "metadata": {
    "id": "BUOvK9C2rMwf"
   },
   "outputs": [],
   "source": []
  },
  {
   "cell_type": "code",
   "execution_count": 90,
   "metadata": {
    "id": "jiaBq_PTrMwf"
   },
   "outputs": [],
   "source": []
  },
  {
   "cell_type": "code",
   "execution_count": 90,
   "metadata": {
    "id": "_abHxEYjrMwf"
   },
   "outputs": [],
   "source": []
  },
  {
   "cell_type": "code",
   "execution_count": 91,
   "metadata": {
    "colab": {
     "base_uri": "https://localhost:8080/"
    },
    "id": "RhBN6QwyrMwf",
    "outputId": "f09233d2-68fe-4d22-c737-778c513696c7"
   },
   "outputs": [
    {
     "name": "stdout",
     "output_type": "stream",
     "text": [
      "start =  tensor([1., 2., 3., 4.])\n",
      "end =  tensor([10., 10., 10., 10.])\n",
      "interp =  tensor([5.5000, 6.0000, 6.5000, 7.0000])\n"
     ]
    }
   ],
   "source": [
    "# Linear Interpolation\n",
    "\n",
    "'''\n",
    "9.1. torch.lerp - oes a linear interpolation of two tensors start and end based on a scalar weight and \n",
    "    returns the resulting out tensor.\n",
    "        - start (Tensor) – the tensor with the starting points\n",
    "        - end (Tensor) – the tensor with the ending points\n",
    "        - weight (float) – the weight for the interpolation formula\n",
    "        - out (Tensor, optional) – the output tensor\n",
    "'''\n",
    "\n",
    "start = torch.arange(1., 5.)\n",
    "end = torch.empty(4).fill_(10)\n",
    "interp = torch.lerp(start, end, 0.5)\n",
    "\n",
    "print(\"start = \", start)\n",
    "print(\"end = \", end)\n",
    "print(\"interp = \", interp)"
   ]
  },
  {
   "cell_type": "code",
   "execution_count": 91,
   "metadata": {
    "id": "Wf3w0lcarMwg"
   },
   "outputs": [],
   "source": []
  },
  {
   "cell_type": "code",
   "execution_count": 92,
   "metadata": {
    "colab": {
     "base_uri": "https://localhost:8080/"
    },
    "id": "yNrBULCArMwg",
    "outputId": "b02d60fb-8d59-49f0-9050-838a7d2c846b"
   },
   "outputs": [
    {
     "name": "stdout",
     "output_type": "stream",
     "text": [
      "x_1 =  tensor([-1.2399, -1.1953,  0.1922,  0.3222])\n",
      "x_2 =  tensor([-1.9992,  0.0560,  0.9994, -0.3199])\n",
      "x_out =  tensor(3.4599)\n"
     ]
    }
   ],
   "source": [
    "# LP-Norm\n",
    "\n",
    "'''\n",
    "9.2. torch.dist - Returns the lp-norm of (input - other)\n",
    "        - input (Tensor) – the input tensor\n",
    "        - other (Tensor) – the Right-hand-side input tensor\n",
    "        - p (float, optional) – the norm to be computed\n",
    "'''\n",
    "\n",
    "x_1 = torch.randn(4)\n",
    "x_2 = torch.randn(4)\n",
    "\n",
    "x_out = torch.dist(x_1, x_2, p=1)\n",
    "\n",
    "print(\"x_1 = \", x_1)\n",
    "print(\"x_2 = \", x_2)\n",
    "print(\"x_out = \", x_out)"
   ]
  },
  {
   "cell_type": "code",
   "execution_count": 92,
   "metadata": {
    "id": "kGMh69jxrMwh"
   },
   "outputs": [],
   "source": []
  },
  {
   "cell_type": "code",
   "execution_count": 93,
   "metadata": {
    "colab": {
     "base_uri": "https://localhost:8080/"
    },
    "id": "AOtYYa53rMwh",
    "outputId": "cba3fcdc-1442-4697-832f-a35262feecda"
   },
   "outputs": [
    {
     "name": "stdout",
     "output_type": "stream",
     "text": [
      "x_in =  tensor([[-1.6873, -0.2672],\n",
      "        [-0.0210,  0.3795],\n",
      "        [ 0.3343,  1.0687]])\n",
      "x_fft =  tensor([[-1.3739,  1.1809],\n",
      "        [-2.4408, -0.6836],\n",
      "        [-1.2470, -1.2990]])\n",
      "x_ifft =  tensor([[-1.6873, -0.2672],\n",
      "        [-0.0210,  0.3795],\n",
      "        [ 0.3343,  1.0687]])\n"
     ]
    },
    {
     "name": "stderr",
     "output_type": "stream",
     "text": [
      "/usr/local/lib/python3.7/dist-packages/ipykernel_launcher.py:20: UserWarning: The function torch.fft is deprecated and will be removed in PyTorch 1.8. Use the new torch.fft module functions, instead, by importing torch.fft and calling torch.fft.fft or torch.fft.fftn. (Triggered internally at  /pytorch/aten/src/ATen/native/SpectralOps.cpp:567.)\n",
      "/usr/local/lib/python3.7/dist-packages/ipykernel_launcher.py:33: UserWarning: The function torch.ifft is deprecated and will be removed in a future PyTorch release. Use the new torch.fft module functions, instead, by importing torch.fft and calling torch.fft.ifft or torch.fft.ifftn. (Triggered internally at  /pytorch/aten/src/ATen/native/SpectralOps.cpp:578.)\n"
     ]
    }
   ],
   "source": [
    "# Discrete FFT\n",
    "\n",
    "'''\n",
    "9.3. torch.fft - Complex-to-complex Discrete Fourier Transform\n",
    "        - input (Tensor) – the input tensor of at least signal_ndim + 1 dimensions\n",
    "        - signal_ndim (int) – the number of dimensions in each signal. signal_ndim can only be 1, 2 or 3\n",
    "        - normalized (bool, optional) – controls whether to return normalized results. Default: False\n",
    "'''\n",
    "\n",
    "'''\n",
    "Uses\n",
    "    - Image sharpening, edge detection,smoothing are a few common applications.\n",
    "    - Image filter design\n",
    "    - Weiner Deconvolution is a popular deconv method to de-blur the blurred images. Deconvolution is more \n",
    "        easily done in frequency domain (2D FFT is used to convert to freq. domain). \n",
    "'''\n",
    "\n",
    "\n",
    "x_in = x = torch.randn(3, 2)\n",
    "x_out = torch.fft(x_in, 1)\n",
    "\n",
    "print(\"x_in = \", x_in)\n",
    "print(\"x_fft = \", x_out)\n",
    "\n",
    "\n",
    "'''\n",
    "9.4. torch.ifft - Complex-to-complex Inverse Discrete Fourier Transform\n",
    "        - input (Tensor) – the input tensor of at least signal_ndim + 1 dimensions\n",
    "        - signal_ndim (int) – the number of dimensions in each signal. signal_ndim can only be 1, 2 or 3\n",
    "        - normalized (bool, optional) – controls whether to return normalized results. Default: False\n",
    "'''\n",
    "\n",
    "x_out_ifft = torch.ifft(x_out, 1)\n",
    "print(\"x_ifft = \", x_out_ifft)"
   ]
  },
  {
   "cell_type": "code",
   "execution_count": 93,
   "metadata": {
    "id": "lDt8Uy78rMwh"
   },
   "outputs": [],
   "source": []
  },
  {
   "cell_type": "code",
   "execution_count": 94,
   "metadata": {
    "colab": {
     "base_uri": "https://localhost:8080/"
    },
    "id": "mEPX6mjZrMwh",
    "outputId": "216b244a-a71e-46b9-afaf-4b02b8335c7b"
   },
   "outputs": [
    {
     "name": "stdout",
     "output_type": "stream",
     "text": [
      "x_in =  tensor([[-0.0940, -0.2246],\n",
      "        [ 0.0400, -0.4373],\n",
      "        [ 1.5199,  0.1391]])\n",
      "x_fft =  tensor([[[[-0.0940,  0.0000],\n",
      "          [-0.2246,  0.0000]]],\n",
      "\n",
      "\n",
      "        [[[ 0.0400,  0.0000],\n",
      "          [-0.4373,  0.0000]]],\n",
      "\n",
      "\n",
      "        [[[ 1.5199,  0.0000],\n",
      "          [ 0.1391,  0.0000]]]])\n"
     ]
    },
    {
     "name": "stderr",
     "output_type": "stream",
     "text": [
      "/usr/local/lib/python3.7/dist-packages/torch/functional.py:516: UserWarning: stft will require the return_complex parameter be explicitly  specified in a future PyTorch release. Use return_complex=False  to preserve the current behavior or return_complex=True to return  a complex output. (Triggered internally at  /pytorch/aten/src/ATen/native/SpectralOps.cpp:653.)\n",
      "  normalized, onesided, return_complex)\n",
      "/usr/local/lib/python3.7/dist-packages/torch/functional.py:516: UserWarning: The function torch.rfft is deprecated and will be removed in a future PyTorch release. Use the new torch.fft module functions, instead, by importing torch.fft and calling torch.fft.fft or torch.fft.rfft. (Triggered internally at  /pytorch/aten/src/ATen/native/SpectralOps.cpp:590.)\n",
      "  normalized, onesided, return_complex)\n"
     ]
    }
   ],
   "source": [
    "# Short time Fourtier Transform\n",
    "\n",
    "'''\n",
    "9.5. torch.stft\n",
    "        - input (Tensor) – the input tensor\n",
    "        - n_fft (int, optional) – size of Fourier transform\n",
    "        - hop_length (int) – the distance between neighboring sliding window frames. \n",
    "            Default: None (treated as equal to floor(n_fft / 4))\n",
    "        - win_length (int) – the size of window frame and STFT filter. Default: None (treated as equal to n_fft)\n",
    "        - window (Tensor, optional) – the optional window function. Default: None (treated as window of all :math:`1`s)\n",
    "        - center (bool, optional) – whether to pad input on both sides so that the t-th frame is centered at \n",
    "            time t×hop_length. Default: True\n",
    "        - pad_mode (string, optional) – controls the padding method used when center is True. Default: \"reflect\"\n",
    "        - normalized (bool, optional) – controls whether to return the normalized STFT results Default: False\n",
    "        - onesided (bool, optional) – controls whether to return half of results to avoid redundancy Default: True\n",
    "'''\n",
    "\n",
    "'''\n",
    "Uses\n",
    "    - Used to analyse music data\n",
    "'''\n",
    "\n",
    "x_in = x = torch.randn(3, 2)\n",
    "x_out = torch.stft(x_in, 1, 1)\n",
    "\n",
    "print(\"x_in = \", x_in)\n",
    "print(\"x_fft = \", x_out)"
   ]
  },
  {
   "cell_type": "code",
   "execution_count": 94,
   "metadata": {
    "id": "JZji5qAerMwi"
   },
   "outputs": [],
   "source": []
  },
  {
   "cell_type": "code",
   "execution_count": 95,
   "metadata": {
    "colab": {
     "base_uri": "https://localhost:8080/"
    },
    "id": "cO5Kn8hKrMwi",
    "outputId": "d724ca2b-11b5-48ad-8d3e-a5315bdf08c4"
   },
   "outputs": [
    {
     "name": "stdout",
     "output_type": "stream",
     "text": [
      "x_1 =  tensor([[ 1.3628,  1.7376, -0.0550],\n",
      "        [ 1.4198,  1.9860,  0.5603],\n",
      "        [-0.6216, -0.7539, -0.4714]])\n",
      "x_2 =  tensor([[ 1.1992, -0.2449, -0.8370],\n",
      "        [-1.5362, -0.5386, -0.0087],\n",
      "        [ 0.8894,  0.2870,  0.6929]])\n",
      "x_out =  tensor([[ 0.3079,  0.1640,  0.3842],\n",
      "        [-1.9575, -0.3141,  0.4326],\n",
      "        [-3.7961, -0.4494,  0.4695]])\n"
     ]
    }
   ],
   "source": [
    "# Cross product of vectors\n",
    "\n",
    "'''\n",
    "9.6. torch.cross - Returns the cross product of vectors in dimension dim of input and other\n",
    "        - input (Tensor) – the input tensor\n",
    "        - other (Tensor) – the second input tensor\n",
    "        - dim (int, optional) – the dimension to take the cross-product in.\n",
    "        - out (Tensor, optional) – the output tensor\n",
    "'''\n",
    "\n",
    "x_1 = torch.randn(3, 3)\n",
    "x_2 = torch.randn(3, 3)\n",
    "\n",
    "x_out = torch.cross(x_1, x_2)\n",
    "\n",
    "print(\"x_1 = \", x_1)\n",
    "print(\"x_2 = \", x_2)\n",
    "print(\"x_out = \", x_out)"
   ]
  },
  {
   "cell_type": "code",
   "execution_count": 95,
   "metadata": {
    "id": "Mq0yhcyTrMwi"
   },
   "outputs": [],
   "source": []
  },
  {
   "cell_type": "code",
   "execution_count": 96,
   "metadata": {
    "colab": {
     "base_uri": "https://localhost:8080/"
    },
    "id": "cNPbKIW4rMwj",
    "outputId": "ee2c0318-2266-4298-ec23-ffcb039bee1a"
   },
   "outputs": [
    {
     "name": "stdout",
     "output_type": "stream",
     "text": [
      "x_in =  tensor([ 0.6630, -0.3281,  0.4917, -1.1970])\n",
      "Diagonal matrix =  tensor([[ 0.6630,  0.0000,  0.0000,  0.0000],\n",
      "        [ 0.0000, -0.3281,  0.0000,  0.0000],\n",
      "        [ 0.0000,  0.0000,  0.4917,  0.0000],\n",
      "        [ 0.0000,  0.0000,  0.0000, -1.1970]])\n"
     ]
    }
   ],
   "source": [
    "# Create a diagonal matrix or extract diagonal elements\n",
    "\n",
    "'''\n",
    "9.7. torch.diag - If input is a vector (1-D tensor), then returns a 2-D square tensor with the elements of input as \n",
    "        the diagonal. If input is a matrix (2-D tensor), then returns a 1-D tensor with the diagonal elements of input.\n",
    "        - input (Tensor) – the input tensor\n",
    "        - diagonal (int, optional) – the diagonal to consider.\n",
    "            - If diagonal = 0, it is the main diagonal.\n",
    "            - If diagonal > 0, it is above the main diagonal.\n",
    "            - If diagonal < 0, it is below the main diagonal.\n",
    "        - out (Tensor, optional) – the output tensor\n",
    "'''\n",
    "\n",
    "x_in = torch.randn(4)\n",
    "x_out = torch.diag(x_in)\n",
    "\n",
    "print(\"x_in = \", x_in)\n",
    "print(\"Diagonal matrix = \", x_out)"
   ]
  },
  {
   "cell_type": "code",
   "execution_count": 96,
   "metadata": {
    "id": "yyj7-WqOrMwj"
   },
   "outputs": [],
   "source": []
  },
  {
   "cell_type": "code",
   "execution_count": 96,
   "metadata": {
    "id": "LGt0o6gkrMwj"
   },
   "outputs": [],
   "source": []
  },
  {
   "cell_type": "code",
   "execution_count": 96,
   "metadata": {
    "id": "oyDh6kRPrMwk"
   },
   "outputs": [],
   "source": []
  },
  {
   "cell_type": "code",
   "execution_count": 96,
   "metadata": {
    "id": "8VcEuxbjrMwk"
   },
   "outputs": [],
   "source": []
  },
  {
   "cell_type": "code",
   "execution_count": 96,
   "metadata": {
    "id": "IE4Eo97yrMwk"
   },
   "outputs": [],
   "source": []
  },
  {
   "cell_type": "code",
   "execution_count": 96,
   "metadata": {
    "id": "HGXP19GarMwk"
   },
   "outputs": [],
   "source": []
  },
  {
   "cell_type": "code",
   "execution_count": 96,
   "metadata": {
    "id": "hiU-cNR2rMwk"
   },
   "outputs": [],
   "source": []
  },
  {
   "cell_type": "code",
   "execution_count": 96,
   "metadata": {
    "id": "0CM02FhQrMwl"
   },
   "outputs": [],
   "source": []
  },
  {
   "cell_type": "code",
   "execution_count": 96,
   "metadata": {
    "id": "-b01nGesrMwl"
   },
   "outputs": [],
   "source": []
  },
  {
   "cell_type": "code",
   "execution_count": 96,
   "metadata": {
    "id": "KwMTJFDnrMwl"
   },
   "outputs": [],
   "source": []
  },
  {
   "cell_type": "code",
   "execution_count": 97,
   "metadata": {
    "colab": {
     "base_uri": "https://localhost:8080/"
    },
    "id": "ufGW7rHarMwl",
    "outputId": "932b9196-3c02-4f40-cff6-bdd822363d6b"
   },
   "outputs": [
    {
     "name": "stdout",
     "output_type": "stream",
     "text": [
      "Sample Bartlett Window =  tensor([0.0000, 0.6667, 0.6667])\n",
      "\n",
      "\n",
      "Sample Blackman Window =  tensor([-2.9802e-08,  1.0000e+00, -2.9802e-08])\n",
      "\n",
      "\n",
      "Sample Hamming Window =  tensor([0.0800, 1.0000, 0.0800])\n",
      "\n",
      "\n",
      "Sample Hann Window =  tensor([0., 1., 0.])\n",
      "\n",
      "\n"
     ]
    }
   ],
   "source": [
    "# Filter Windows\n",
    "\n",
    "'''\n",
    "Information\n",
    "    - In signal processing, a window function (also known as an apodization function or tapering function[1]) \n",
    "        is a mathematical function that is zero-valued outside of some chosen interval. For instance, \n",
    "        a function that is constant inside the interval and zero elsewhere is called a rectangular window\n",
    "    - Used as an fir filter\n",
    "'''\n",
    "\n",
    "\n",
    "'''\n",
    "10.1. torch.bartlett_window \n",
    "        - window_length (int) – the size of returned window\n",
    "        - periodic (bool, optional) – If True, returns a window to be used as periodic function. \n",
    "            If False, return a symmetric window.\n",
    "        - dtype (torch.dtype, optional) – the desired data type of returned tensor. \n",
    "            Default: if None, uses a global default (see torch.set_default_tensor_type()). \n",
    "            Only floating point types are supported.\n",
    "        - layout (torch.layout, optional) – the desired layout of returned window tensor. \n",
    "            Only torch.strided (dense layout) is supported.\n",
    "        - device (torch.device, optional) – the desired device of returned tensor. \n",
    "            Default: if None, uses the current device for the default tensor type (see torch.set_default_tensor_type()). \n",
    "            device will be the CPU for CPU tensor types and the current CUDA device for CUDA tensor types.\n",
    "        - requires_grad (bool, optional) – If autograd should record operations on the returned tensor. Default: False\n",
    "'''\n",
    "\n",
    "x_out = torch.bartlett_window(3, True)\n",
    "print(\"Sample Bartlett Window = \", x_out)\n",
    "print(\"\\n\")\n",
    "\n",
    "\n",
    "\n",
    "'''\n",
    "10.2. torch.blacman_window\n",
    "        - window_length (int) – the size of returned window\n",
    "        - periodic (bool, optional) – If True, returns a window to be used as periodic function. \n",
    "            If False, return a symmetric window.\n",
    "        - dtype (torch.dtype, optional) – the desired data type of returned tensor. \n",
    "            Default: if None, uses a global default (see torch.set_default_tensor_type()). \n",
    "            Only floating point types are supported.\n",
    "        - layout (torch.layout, optional) – the desired layout of returned window tensor. \n",
    "            Only torch.strided (dense layout) is supported.\n",
    "        - device (torch.device, optional) – the desired device of returned tensor. \n",
    "            Default: if None, uses the current device for the default tensor type (see torch.set_default_tensor_type()). \n",
    "            device will be the CPU for CPU tensor types and the current CUDA device for CUDA tensor types.\n",
    "        - requires_grad (bool, optional) – If autograd should record operations on the returned tensor. Default: False.\n",
    "\n",
    "'''\n",
    "\n",
    "x_out = torch.blackman_window(3, False)\n",
    "print(\"Sample Blackman Window = \", x_out)\n",
    "print(\"\\n\")\n",
    "\n",
    "\n",
    "'''\n",
    "10.3. torch.hamming_window\n",
    "        - window_length (int) – the size of returned window\n",
    "        - periodic (bool, optional) – If True, returns a window to be used as periodic function. \n",
    "            If False, return a symmetric window.\n",
    "        - dtype (torch.dtype, optional) – the desired data type of returned tensor. \n",
    "            Default: if None, uses a global default (see torch.set_default_tensor_type()). \n",
    "            Only floating point types are supported.\n",
    "        - layout (torch.layout, optional) – the desired layout of returned window tensor. \n",
    "            Only torch.strided (dense layout) is supported.\n",
    "        - device (torch.device, optional) – the desired device of returned tensor. \n",
    "            Default: if None, uses the current device for the default tensor type (see torch.set_default_tensor_type()). \n",
    "            device will be the CPU for CPU tensor types and the current CUDA device for CUDA tensor types.\n",
    "        - requires_grad (bool, optional) – If autograd should record operations on the returned tensor. Default: False.\n",
    "'''\n",
    "\n",
    "\n",
    "x_out = torch.hamming_window(3, False)\n",
    "print(\"Sample Hamming Window = \", x_out)\n",
    "print(\"\\n\")\n",
    "\n",
    "\n",
    "'''\n",
    "10.4. torch.hann_window\n",
    "        - window_length (int) – the size of returned window\n",
    "        - periodic (bool, optional) – If True, returns a window to be used as periodic function. \n",
    "            If False, return a symmetric window.\n",
    "        - dtype (torch.dtype, optional) – the desired data type of returned tensor. \n",
    "            Default: if None, uses a global default (see torch.set_default_tensor_type()). \n",
    "            Only floating point types are supported.\n",
    "        - layout (torch.layout, optional) – the desired layout of returned window tensor. \n",
    "            Only torch.strided (dense layout) is supported.\n",
    "        - device (torch.device, optional) – the desired device of returned tensor. \n",
    "            Default: if None, uses the current device for the default tensor type (see torch.set_default_tensor_type()). \n",
    "            device will be the CPU for CPU tensor types and the current CUDA device for CUDA tensor types.\n",
    "        - requires_grad (bool, optional) – If autograd should record operations on the returned tensor. Default: False.\n",
    "'''\n",
    "\n",
    "x_out = torch.hann_window(3, False)\n",
    "print(\"Sample Hann Window = \", x_out)\n",
    "print(\"\\n\")"
   ]
  },
  {
   "cell_type": "code",
   "execution_count": 97,
   "metadata": {
    "id": "duyLIwQwrMwm"
   },
   "outputs": [],
   "source": []
  },
  {
   "cell_type": "code",
   "execution_count": 97,
   "metadata": {
    "id": "ejK600sqrMwm"
   },
   "outputs": [],
   "source": []
  },
  {
   "cell_type": "code",
   "execution_count": 97,
   "metadata": {
    "id": "aeTul5CLrMwm"
   },
   "outputs": [],
   "source": []
  },
  {
   "cell_type": "code",
   "execution_count": 97,
   "metadata": {
    "id": "2092qD48rMwm"
   },
   "outputs": [],
   "source": []
  },
  {
   "cell_type": "code",
   "execution_count": 97,
   "metadata": {
    "id": "H1c1sxGKrMwm"
   },
   "outputs": [],
   "source": []
  },
  {
   "cell_type": "markdown",
   "metadata": {
    "id": "Sue35kUfrMwm"
   },
   "source": [
    "# RoadMap 3 - Linear Algebraic Operations\n",
    "\n",
    "    \n",
    "    1.   torch.addbmm     - Performs a batch matrix-matrix product of matrices stored in batch1 and batch2, \n",
    "                             with a reduced add step (all matrix multiplications get accumulated along the first \n",
    "                             dimension). mat is added to the final result.\n",
    "    \n",
    "    2.   torch.addmm      - Performs a matrix multiplication of the matrices mat1 and mat2. The matrix mat is added \n",
    "                            to the final result.\n",
    "    \n",
    "    3.   torch.addmv      - Performs a matrix-vector product of the matrix mat and the vector vec. The vector tensor \n",
    "                            is added to the final result.\n",
    "    \n",
    "    4.   torch.addr       - Performs the outer-product of vectors vec1 and vec2 and adds it to the matrix mat.\n",
    "    \n",
    "    5.   torch.bmm        - Performs a batch matrix-matrix product of matrices stored in batch1 and batch2.\n",
    "    \n",
    "    6.   torch.eig        - Computes the eigenvalues and eigenvectors of a real square matrix.\n",
    "    \n",
    "    7.  torch.ger         - Outer product of vec1 and vec2. If vec1 is a vector of size n and vec2 is \n",
    "                             a vector of size m, then out must be a matrix of size (n×m).\n",
    "                             \n",
    "    8.  torch.inverse     - Takes the inverse of the square matrix input.\n",
    "    \n",
    "    9.1 torch.det         - Calculates determinant of a 2D square tensor.\n",
    "    \n",
    "    9.2 torch.logdet      - Calculates log-determinant of a 2D square tensor\n",
    "    \n",
    "    10.1 torch.matmul     - Matrix product of two tensors.\n",
    "    \n",
    "    10.2 torch.mm         - Performs a matrix multiplication of the matrices mat1 and mat2.\n",
    "    \n",
    "    11.  torch.mv         - Performs a matrix-vector product of the matrix mat and the vector vec\n",
    "    \n",
    "    12.  torch.pinverse   - Calculates the pseudo-inverse (also known as the Moore-Penrose inverse) of a 2D tensor.\n",
    "    \n",
    "    13.  torch.cholesky      - Computes the Cholesky decomposition of a symmetric positive-definite matrix A.\n",
    "    \n",
    "    14.  torch.qr         - Computes the QR decomposition of a matrix input, and returns matrices Q and R such \n",
    "                             that input=QR, with Q being an orthogonal matrix and R being an upper \n",
    "                             triangular matrix.\n",
    "    \n",
    "    15.  torch.svd        - U, S, V = torch.svd(A) returns the singular value decomposition of a real \n",
    "                             matrix A of size (n x m) such that A=US(V.t)\n",
    "    "
   ]
  },
  {
   "cell_type": "code",
   "execution_count": 98,
   "metadata": {
    "id": "Y0143UNTrMwm"
   },
   "outputs": [],
   "source": [
    "import os\n",
    "import sys\n",
    "import torch\n",
    "import numpy as np"
   ]
  },
  {
   "cell_type": "code",
   "execution_count": 99,
   "metadata": {
    "id": "pKKF6K1grMwm"
   },
   "outputs": [],
   "source": [
    "import torch.nn as nn\n",
    "from torchvision import transforms, datasets\n",
    "from PIL import Image\n",
    "import cv2\n",
    "import matplotlib.pyplot as plt\n",
    "import torchvision\n",
    "\n",
    "# FUNCTIONAL modules - Implementing each module as functions\n",
    "import torch.nn.functional as F"
   ]
  },
  {
   "cell_type": "code",
   "execution_count": 99,
   "metadata": {
    "id": "OyZiWgPXrMwm"
   },
   "outputs": [],
   "source": []
  },
  {
   "cell_type": "markdown",
   "metadata": {
    "id": "Yo_-KLqorMwm"
   },
   "source": [
    "## Extra Blog Resources\n",
    "\n",
    "1. https://towardsdatascience.com/linear-algebra-for-deep-learning-f21d7e7d7f23\n",
    "\n",
    "2. https://towardsdatascience.com/linear-algebra-essentials-with-numpy-part-1-af4a867ac5ca\n",
    "\n",
    "3. https://towardsdatascience.com/linear-algebra-for-deep-learning-506c19c0d6fa"
   ]
  },
  {
   "cell_type": "code",
   "execution_count": 99,
   "metadata": {
    "id": "EX2nc_TdrMwn"
   },
   "outputs": [],
   "source": []
  },
  {
   "cell_type": "code",
   "execution_count": 99,
   "metadata": {
    "id": "FNyoDGr2rMwn"
   },
   "outputs": [],
   "source": []
  },
  {
   "cell_type": "markdown",
   "metadata": {
    "id": "-YjZTaYprMwn"
   },
   "source": [
    "### Matrix-matrix product batch\n",
    "\n",
    "\n",
    "1. torch.addbmm - Performs a batch matrix-matrix product of matrices stored in batch1 and batch2, \n",
    "    with a reduced add step (all matrix multiplications get accumulated along the first dimension). mat is added to \n",
    "    the final result.\n",
    "        - beta (Number, optional) – multiplier for mat (β)\n",
    "        - mat (Tensor) – matrix to be added\n",
    "        - alpha (Number, optional) – multiplier for batch1 @ batch2 (α)\n",
    "        - batch1 (Tensor) – the first batch of matrices to be multiplied\n",
    "        - batch2 (Tensor) – the second batch of matrices to be multiplied\n",
    "        - out (Tensor, optional) – the output tensor\n",
    "        \n",
    "$$out = \\beta\\ mat + \\alpha\\ (\\sum_{i=0}^{b} batch1_i \\mathbin{@} batch2_i)$$\n",
    "\n",
    "\n",
    "\n",
    "\n"
   ]
  },
  {
   "cell_type": "code",
   "execution_count": 100,
   "metadata": {
    "colab": {
     "base_uri": "https://localhost:8080/"
    },
    "id": "18lLdhykrMwn",
    "outputId": "fd0427cc-66b5-40f2-ff7c-a65742cd37da"
   },
   "outputs": [
    {
     "name": "stdout",
     "output_type": "stream",
     "text": [
      "out =  tensor([[-6.9146,  4.8823, 11.9475,  0.5137, -2.6097],\n",
      "        [-3.2893,  9.9294, -1.5571,  0.9686, -1.7745],\n",
      "        [-2.9120, -7.1130, -4.6513,  1.2530, -3.1251]])\n"
     ]
    }
   ],
   "source": [
    "M = torch.randn(3, 5)\n",
    "batch1 = torch.randn(10, 3, 4)\n",
    "batch2 = torch.randn(10, 4, 5)\n",
    "\n",
    "out = torch.addbmm(M, batch1, batch2)\n",
    "\n",
    "print(\"out = \", out)"
   ]
  },
  {
   "cell_type": "code",
   "execution_count": 100,
   "metadata": {
    "id": "qCPI1d3trMwn"
   },
   "outputs": [],
   "source": []
  },
  {
   "cell_type": "markdown",
   "metadata": {
    "id": "soEo9BncrMwo"
   },
   "source": [
    "### Matrix-matrix product \n",
    "\n",
    "\n",
    "2. torch.addmm - Performs a matrix multiplication of the matrices mat1 and mat2. The matrix mat is added to the final result.\n",
    "        - beta (Number, optional) – multiplier for mat (β)\n",
    "        - mat (Tensor) – matrix to be added\n",
    "        - alpha (Number, optional) – multiplier for batch1 @ batch2 (α)\n",
    "        - batch1 (Tensor) – the first batch of matrices to be multiplied\n",
    "        - batch2 (Tensor) – the second batch of matrices to be multiplied\n",
    "        - out (Tensor, optional) – the output tensor\n",
    "        \n",
    "$$out = \\beta\\ mat + \\alpha\\ (mat1_i \\mathbin{@} mat2_i)$$"
   ]
  },
  {
   "cell_type": "code",
   "execution_count": 101,
   "metadata": {
    "colab": {
     "base_uri": "https://localhost:8080/"
    },
    "id": "oASwK3svrMwo",
    "outputId": "c8522cc5-f4c2-43e0-d819-ed705f16f46d"
   },
   "outputs": [
    {
     "name": "stdout",
     "output_type": "stream",
     "text": [
      "out =  tensor([[-2.2136,  1.9862,  2.4860],\n",
      "        [ 1.4944, -0.8517,  1.0847]])\n"
     ]
    }
   ],
   "source": [
    "M = torch.randn(2, 3)\n",
    "mat1 = torch.randn(2, 3)\n",
    "mat2 = torch.randn(3, 3)\n",
    "out = torch.addmm(M, mat1, mat2)\n",
    "\n",
    "print(\"out = \", out)"
   ]
  },
  {
   "cell_type": "code",
   "execution_count": 101,
   "metadata": {
    "id": "yq1EFRD9rMwo"
   },
   "outputs": [],
   "source": []
  },
  {
   "cell_type": "markdown",
   "metadata": {
    "id": "QOIDjhkVrMwo"
   },
   "source": [
    "### Matrix-matrix product \n",
    "\n",
    "\n",
    "3. torch.addmv - Performs a matrix-vector product of the matrix mat and the vector vec. The vector tensor is added to the final result.\n",
    "        - beta (Number, optional) – multiplier for tensor (β)\n",
    "        - tensor (Tensor) – vector to be added\n",
    "        - alpha (Number, optional) – multiplier for mat@vec(α)\n",
    "        - mat (Tensor) – matrix to be multiplied\n",
    "        - vec (Tensor) – vector to be multiplied\n",
    "        - out (Tensor, optional) – the output tensor\n",
    "        \n",
    "$$out = \\beta\\ mat + \\alpha\\ (mat1_i \\mathbin{@} mat2_i)$$"
   ]
  },
  {
   "cell_type": "code",
   "execution_count": 102,
   "metadata": {
    "colab": {
     "base_uri": "https://localhost:8080/"
    },
    "id": "eoBZVXuPrMwo",
    "outputId": "7136b836-7051-47fc-d1cc-f3c9fe3c6a20"
   },
   "outputs": [
    {
     "name": "stdout",
     "output_type": "stream",
     "text": [
      "out =  tensor([2.4870, 1.0662])\n"
     ]
    }
   ],
   "source": [
    "M = torch.randn(2)\n",
    "mat = torch.randn(2, 3)\n",
    "vec = torch.randn(3)\n",
    "out = torch.addmv(M, mat, vec)\n",
    "\n",
    "print(\"out = \", out)"
   ]
  },
  {
   "cell_type": "code",
   "execution_count": 102,
   "metadata": {
    "id": "hbvQMwxDrMwq"
   },
   "outputs": [],
   "source": []
  },
  {
   "cell_type": "markdown",
   "metadata": {
    "id": "jMkpGLIXrMwq"
   },
   "source": [
    "### Vector-vector product \n",
    "\n",
    "\n",
    "4. torch.addr - Performs the outer-product of vectors vec1 and vec2 and adds it to the matrix mat.\n",
    "        - beta (Number, optional) – multiplier for mat (β)\n",
    "        - mat (Tensor) – matrix to be added\n",
    "        - alpha (Number, optional) – multiplier for vec1⊗vec2(α)\n",
    "        - vec1 (Tensor) – the first vector of the outer product\n",
    "        - vec2 (Tensor) – the second vector of the outer product\n",
    "        - out (Tensor, optional) – the output tensor\n",
    "        \n",
    "$$out = \\beta\\ mat + \\alpha\\ (vec1 \\otimes vec2)$$"
   ]
  },
  {
   "cell_type": "code",
   "execution_count": 103,
   "metadata": {
    "colab": {
     "base_uri": "https://localhost:8080/"
    },
    "id": "LNtQYi3ErMwq",
    "outputId": "12a753ff-b9be-401f-eb83-6cbb8a68de68"
   },
   "outputs": [
    {
     "name": "stdout",
     "output_type": "stream",
     "text": [
      "out =  tensor([[1., 2.],\n",
      "        [2., 4.],\n",
      "        [3., 6.]])\n"
     ]
    },
    {
     "name": "stderr",
     "output_type": "stream",
     "text": [
      "/usr/local/lib/python3.7/dist-packages/ipykernel_launcher.py:4: UserWarning: torch.addr is deprecated and may be removed in a future PyTorch release. This function can be implemented using torch.outer as alpha * torch.outer(vec1, vec2) + beta * input when beta is not zero, alpha * torch.outer(vec1, vec2) when beta is zero. (Triggered internally at  /pytorch/aten/src/ATen/native/LinearAlgebra.cpp:150.)\n",
      "  after removing the cwd from sys.path.\n"
     ]
    }
   ],
   "source": [
    "vec1 = torch.arange(1., 4.)\n",
    "vec2 = torch.arange(1., 3.)\n",
    "M = torch.zeros(3, 2)\n",
    "out = torch.addr(M, vec1, vec2)\n",
    "\n",
    "print(\"out = \", out)"
   ]
  },
  {
   "cell_type": "code",
   "execution_count": 103,
   "metadata": {
    "id": "ENOoTwY6rMwq"
   },
   "outputs": [],
   "source": []
  },
  {
   "cell_type": "markdown",
   "metadata": {
    "id": "ljxNV6ekrMwq"
   },
   "source": [
    "### Matrix-matrix product (W/O any addition)\n",
    "\n",
    "\n",
    "5. torch.bmm - Performs a batch matrix-matrix product of matrices stored in batch1 and batch2.\n",
    "        - batch1 (Tensor) – the first batch of matrices to be multiplied\n",
    "        - batch2 (Tensor) – the second batch of matrices to be multiplied\n",
    "        - out (Tensor, optional) – the output tensor\n",
    "\n",
    "        \n",
    "$$out_i = batch1_i \\mathbin{@} batch2_i$$"
   ]
  },
  {
   "cell_type": "code",
   "execution_count": null,
   "metadata": {
    "id": "lZEi1c0zrMwq",
    "outputId": "baf88afa-8447-452e-d84f-88ff3c896ccc"
   },
   "outputs": [
    {
     "name": "stdout",
     "output_type": "stream",
     "text": [
      "out =  tensor([[[ 0.7437,  0.8593, -0.5650,  2.2339, -2.8408],\n",
      "         [ 0.9707,  1.4500, -1.2153,  2.3744, -2.1009],\n",
      "         [ 2.9272, -0.0636, -0.4564, -0.2263,  5.8366]],\n",
      "\n",
      "        [[ 0.5967, -1.1512, -3.0179, -1.3831, -5.3055],\n",
      "         [ 1.5346, -1.3103, -0.8255,  0.7411, -4.7460],\n",
      "         [ 4.2250, -1.2741, -0.2406,  4.2478, -2.0833]],\n",
      "\n",
      "        [[ 1.4040,  2.2058,  1.0956,  2.8448,  1.7912],\n",
      "         [-3.1282, -5.9515, -0.6325, -4.9295, -2.5274],\n",
      "         [ 0.0789,  1.9549, -0.0815,  0.1627, -0.2686]],\n",
      "\n",
      "        [[ 2.0822, -3.0632,  2.4097, -0.5521,  1.0322],\n",
      "         [ 1.2578,  0.5016,  0.4693, -0.6456,  0.9562],\n",
      "         [-1.2447,  1.9112,  0.2670, -0.3284, -0.5599]],\n",
      "\n",
      "        [[-0.5568, -2.5533,  2.5633,  1.4181,  0.1099],\n",
      "         [ 0.7693, -1.4580,  8.6466, -1.2897,  1.5367],\n",
      "         [-1.6044,  1.4384,  0.0270, -0.2809, -0.6436]],\n",
      "\n",
      "        [[ 7.0764, -1.6130,  1.6208,  2.7285,  0.5120],\n",
      "         [ 3.5909,  0.5918,  0.4796,  0.3533, -0.1371],\n",
      "         [-2.9733,  1.2472, -2.9036,  1.0635,  1.7140]],\n",
      "\n",
      "        [[ 1.6158,  0.0578, -0.8277, -2.9544, -1.4111],\n",
      "         [-0.1601,  0.9466, -1.0602,  3.6594, -0.1533],\n",
      "         [ 0.0409, -2.9580,  3.5895, -3.5815,  3.4209]],\n",
      "\n",
      "        [[ 2.6652, -0.5374,  1.7334, -1.9639, -0.7032],\n",
      "         [ 0.3134, -0.5183,  0.3972, -0.2380,  0.5690],\n",
      "         [-3.2127,  0.8942, -0.1338,  1.8794,  1.9246]],\n",
      "\n",
      "        [[ 1.1837, -0.6124,  0.1496, -0.2332,  1.0457],\n",
      "         [ 3.3828, -2.3755,  1.3063, -0.4591,  2.0124],\n",
      "         [-1.7509, -0.1843, -0.8459, -0.0473,  0.1463]],\n",
      "\n",
      "        [[ 0.7983,  5.4368,  1.2951, -3.7066, -0.8764],\n",
      "         [-0.9237,  4.7956,  2.0426, -6.5805, -6.3501],\n",
      "         [ 2.5645,  4.1187,  0.6572,  1.9120,  7.0633]]])\n",
      "out.size =  torch.Size([10, 3, 5])\n"
     ]
    }
   ],
   "source": [
    "batch1 = torch.randn(10, 3, 4)\n",
    "batch2 = torch.randn(10, 4, 5)\n",
    "out = torch.bmm(batch1, batch2)\n",
    "\n",
    "print(\"out = \", out)\n",
    "print(\"out.size = \", out.size())"
   ]
  },
  {
   "cell_type": "code",
   "execution_count": null,
   "metadata": {
    "id": "Fpuy0KLarMwr"
   },
   "outputs": [],
   "source": []
  },
  {
   "cell_type": "code",
   "execution_count": null,
   "metadata": {
    "id": "ANDlkl1YrMwr"
   },
   "outputs": [],
   "source": []
  },
  {
   "cell_type": "code",
   "execution_count": 104,
   "metadata": {
    "colab": {
     "base_uri": "https://localhost:8080/"
    },
    "id": "Nl4ZqD7krMwr",
    "outputId": "3d5289c5-f556-471a-defe-0f9ffb28bf76"
   },
   "outputs": [
    {
     "name": "stdout",
     "output_type": "stream",
     "text": [
      "x_in =  tensor([[ 0.5199, -1.1722],\n",
      "        [-0.2112,  0.2080]])\n",
      "eigen_values =  tensor([[ 0.8854,  0.0000],\n",
      "        [-0.1575,  0.0000]])\n",
      "eigen_vectors =  tensor([[ 0.9547,  0.8658],\n",
      "        [-0.2977,  0.5003]])\n"
     ]
    }
   ],
   "source": [
    "# Find eigen values\n",
    "\n",
    "'''\n",
    "6. torch.eig(a, eigenvectors=False, out=None) - Computes the eigenvalues and eigenvectors of a real square matrix.\n",
    "        - a (Tensor) – the square matrix for which the eigenvalues and eigenvectors will be computed\n",
    "        - eigenvectors (bool) – True to compute both eigenvalues and eigenvectors; otherwise, \n",
    "            only eigenvalues will be computed\n",
    "        - out (tuple, optional) – the output tensors\n",
    "\n",
    "'''\n",
    "\n",
    "x_in = torch.randn(2, 2)\n",
    "eigen_values, eigen_vectors = torch.eig(x_in, True)\n",
    "\n",
    "print(\"x_in = \", x_in)\n",
    "print(\"eigen_values = \", eigen_values)\n",
    "print(\"eigen_vectors = \", eigen_vectors)"
   ]
  },
  {
   "cell_type": "code",
   "execution_count": 104,
   "metadata": {
    "id": "3vBi6hQArMwr"
   },
   "outputs": [],
   "source": []
  },
  {
   "cell_type": "code",
   "execution_count": 104,
   "metadata": {
    "id": "UoYzlRpIrMwr"
   },
   "outputs": [],
   "source": []
  },
  {
   "cell_type": "code",
   "execution_count": 105,
   "metadata": {
    "colab": {
     "base_uri": "https://localhost:8080/"
    },
    "id": "i8ofmMjRrMwr",
    "outputId": "debe332c-7608-40a2-84b6-71e9d13cdf2a"
   },
   "outputs": [
    {
     "name": "stdout",
     "output_type": "stream",
     "text": [
      "v1 =  tensor([1., 2., 3., 4.])\n",
      "v2 =  tensor([1., 2., 3.])\n",
      "x_out =  tensor([[ 1.,  2.,  3.],\n",
      "        [ 2.,  4.,  6.],\n",
      "        [ 3.,  6.,  9.],\n",
      "        [ 4.,  8., 12.]])\n"
     ]
    }
   ],
   "source": [
    "# LAPACK based outer product\n",
    "\n",
    "'''\n",
    "7. torch.ger - Outer product of vec1 and vec2. If vec1 is a vector of size n and vec2 is a \n",
    "    vector of size m, then out must be a matrix of size (n×m).\n",
    "        - vec1 (Tensor) – 1-D input vector\n",
    "        - vec2 (Tensor) – 1-D input vector\n",
    "        - out (Tensor, optional) – optional output matrix\n",
    "\n",
    "'''\n",
    "\n",
    "v1 = torch.arange(1., 5.)\n",
    "v2 = torch.arange(1., 4.)\n",
    "x_out = torch.ger(v1, v2)\n",
    "\n",
    "\n",
    "print(\"v1 = \", v1)\n",
    "print(\"v2 = \", v2)\n",
    "\n",
    "print(\"x_out = \", x_out)\n"
   ]
  },
  {
   "cell_type": "code",
   "execution_count": 105,
   "metadata": {
    "id": "14EKo5TYrMws"
   },
   "outputs": [],
   "source": []
  },
  {
   "cell_type": "code",
   "execution_count": 105,
   "metadata": {
    "id": "GIr39q4frMws"
   },
   "outputs": [],
   "source": []
  },
  {
   "cell_type": "code",
   "execution_count": 106,
   "metadata": {
    "colab": {
     "base_uri": "https://localhost:8080/"
    },
    "id": "_wmurMDvrMws",
    "outputId": "4dcfd876-8d2e-4ede-b789-c34d14600db5"
   },
   "outputs": [
    {
     "name": "stdout",
     "output_type": "stream",
     "text": [
      "x =  tensor([[0.6833, 0.7320, 0.8307, 0.5786],\n",
      "        [0.8614, 0.1860, 0.2424, 0.6815],\n",
      "        [0.1015, 0.3742, 0.1123, 0.9676],\n",
      "        [0.7533, 0.9673, 0.6871, 0.5370]])\n",
      "x_inverse =  tensor([[-0.8668,  1.3186, -0.8071,  0.7146],\n",
      "        [-1.9077, -0.7194,  0.2492,  2.5194],\n",
      "        [ 3.2862, -0.5964, -0.2908, -2.2597],\n",
      "        [ 0.4472,  0.2091,  1.0555, -0.7870]])\n"
     ]
    }
   ],
   "source": [
    "# Inverse of matrix\n",
    "\n",
    "'''\n",
    "8. torch.inverse - Takes the inverse of the square matrix input.\n",
    "'''\n",
    "\n",
    "x = torch.rand(4, 4)\n",
    "x_inverse = torch.inverse(x)\n",
    "\n",
    "print(\"x = \", x)\n",
    "print(\"x_inverse = \", x_inverse)"
   ]
  },
  {
   "cell_type": "code",
   "execution_count": 106,
   "metadata": {
    "id": "OH7JoGx8rMws"
   },
   "outputs": [],
   "source": []
  },
  {
   "cell_type": "code",
   "execution_count": 107,
   "metadata": {
    "colab": {
     "base_uri": "https://localhost:8080/"
    },
    "id": "rsl2b_jHrMwt",
    "outputId": "b30bd7d0-0222-4a47-d99e-8b1146d95da9"
   },
   "outputs": [
    {
     "name": "stdout",
     "output_type": "stream",
     "text": [
      "x =  tensor([[0.9910, 0.0930, 0.3314, 0.5422],\n",
      "        [0.9659, 0.0627, 0.4808, 0.1657],\n",
      "        [0.7736, 0.6407, 0.2675, 0.6371],\n",
      "        [0.0300, 0.1071, 0.2845, 0.7548]])\n",
      "Determinant of x =  tensor(-0.1164)\n",
      "Log Determinant of x =  tensor(nan)\n"
     ]
    }
   ],
   "source": [
    "# Determinant of matrix\n",
    "\n",
    "'''\n",
    "9.1 torch.det - Calculates determinant of a 2D square tensor.\n",
    "'''\n",
    "\n",
    "'''\n",
    "9.2 torch.logdet - Calculates log-determinant of a 2D square tensor\n",
    "'''\n",
    "\n",
    "x = torch.rand(4, 4)\n",
    "det = torch.det(x)\n",
    "logdet = torch.logdet(x)\n",
    "\n",
    "print(\"x = \", x)\n",
    "print(\"Determinant of x = \", det)\n",
    "print(\"Log Determinant of x = \", logdet)"
   ]
  },
  {
   "cell_type": "code",
   "execution_count": 107,
   "metadata": {
    "id": "8cxAP4pnrMwt"
   },
   "outputs": [],
   "source": []
  },
  {
   "cell_type": "code",
   "execution_count": 108,
   "metadata": {
    "colab": {
     "base_uri": "https://localhost:8080/"
    },
    "id": "KcQS4M3arMwu",
    "outputId": "4dc17d5b-73d1-47a4-d287-6800e21a5c23"
   },
   "outputs": [
    {
     "name": "stdout",
     "output_type": "stream",
     "text": [
      "Using torch.matmul\n",
      "x1 =  tensor([[ 1.6649, -0.0075],\n",
      "        [ 0.5682,  0.0950]])\n",
      "x2 =  tensor([[-0.8794, -1.3323],\n",
      "        [-1.7305,  0.2154]])\n",
      "x_out =  tensor([[-1.4512, -2.2197],\n",
      "        [-0.6641, -0.7365]])\n",
      "Output size =  torch.Size([2, 2])\n",
      "\n",
      "\n",
      "Using torch.mm\n",
      "x1 =  tensor([[ 1.6649, -0.0075],\n",
      "        [ 0.5682,  0.0950]])\n",
      "x2 =  tensor([[-0.8794, -1.3323],\n",
      "        [-1.7305,  0.2154]])\n",
      "x_out =  tensor([[-1.4512, -2.2197],\n",
      "        [-0.6641, -0.7365]])\n",
      "Output size =  torch.Size([2, 2])\n",
      "\n",
      "\n"
     ]
    }
   ],
   "source": [
    "# Matrix product\n",
    "\n",
    "'''\n",
    "10.1 torch.matmul - Matrix product of two tensors.\n",
    "        - tensor1 (Tensor) – the first tensor to be multiplied\n",
    "        - tensor2 (Tensor) – the second tensor to be multiplied\n",
    "        - out (Tensor, optional) – the output tensor\n",
    "'''\n",
    "\n",
    "\n",
    "'''\n",
    "10.2 torch.mm - Performs a matrix multiplication of the matrices mat1 and mat2. (2D tensors only)\n",
    "        - mat1 (Tensor) – the first matrix to be multiplied\n",
    "        - mat2 (Tensor) – the second matrix to be multiplied\n",
    "        - out (Tensor, optional) – the output tensor\n",
    "'''\n",
    "\n",
    "x1 = torch.randn(2, 2)\n",
    "x2 = torch.randn(2, 2)\n",
    "x_out = torch.matmul(x1, x2)\n",
    "x_out_size = x_out.size()\n",
    "\n",
    "print(\"Using torch.matmul\")\n",
    "print(\"x1 = \", x1)\n",
    "print(\"x2 = \", x2)\n",
    "print(\"x_out = \", x_out)\n",
    "print(\"Output size = \", x_out_size)\n",
    "print(\"\\n\")\n",
    "\n",
    "\n",
    "\n",
    "x_out = torch.mm(x1, x2)\n",
    "x_out_size = x_out.size()\n",
    "\n",
    "print(\"Using torch.mm\")\n",
    "print(\"x1 = \", x1)\n",
    "print(\"x2 = \", x2)\n",
    "print(\"x_out = \", x_out)\n",
    "print(\"Output size = \", x_out_size)\n",
    "print(\"\\n\")\n",
    "\n",
    "\n",
    "\n"
   ]
  },
  {
   "cell_type": "code",
   "execution_count": 108,
   "metadata": {
    "id": "W8-vmrXHrMwu"
   },
   "outputs": [],
   "source": []
  },
  {
   "cell_type": "code",
   "execution_count": 109,
   "metadata": {
    "colab": {
     "base_uri": "https://localhost:8080/"
    },
    "id": "K2MlZAZUrMwu",
    "outputId": "70e62ec3-e571-424f-86d9-30ae4e8b781e"
   },
   "outputs": [
    {
     "name": "stdout",
     "output_type": "stream",
     "text": [
      "out =  tensor([1.7861, 2.8875])\n"
     ]
    }
   ],
   "source": [
    "# Matrix-Vector multiplication\n",
    "\n",
    "'''\n",
    "11. torch.mv - Performs a matrix-vector product of the matrix mat and the vector vec\n",
    "        - mat (Tensor) – matrix to be multiplied\n",
    "        - vec (Tensor) – vector to be multiplied\n",
    "        - out (Tensor, optional) – the output tensor\n",
    "'''\n",
    "\n",
    "mat = torch.randn(2, 3)\n",
    "vec = torch.randn(3)\n",
    "out = torch.mv(mat, vec)\n",
    "\n",
    "print(\"out = \", out)\n"
   ]
  },
  {
   "cell_type": "code",
   "execution_count": 109,
   "metadata": {
    "id": "Iu7FlLuNrMwu"
   },
   "outputs": [],
   "source": []
  },
  {
   "cell_type": "code",
   "execution_count": 110,
   "metadata": {
    "colab": {
     "base_uri": "https://localhost:8080/"
    },
    "id": "TUUkvL0irMwv",
    "outputId": "770aeae2-1ba3-4370-bab5-ba6330b4ad70"
   },
   "outputs": [
    {
     "name": "stdout",
     "output_type": "stream",
     "text": [
      "x_out =  tensor([[-0.0307, -0.3281,  0.0299],\n",
      "        [-0.0836,  0.0552, -0.1824],\n",
      "        [ 0.1601, -0.0879, -0.4215],\n",
      "        [-0.0258,  0.2121, -0.2927],\n",
      "        [ 0.2074,  0.0651, -0.0814]])\n"
     ]
    }
   ],
   "source": [
    "# Moore - Penrose Inverse\n",
    "\n",
    "'''\n",
    "12. torch.pinverse - Calculates the pseudo-inverse (also known as the Moore-Penrose inverse) of a 2D tensor.\n",
    "        - input (Tensor) – The input 2D tensor of dimensions m×n\n",
    "        - rcond (float) – A floating point value to determine the cutoff for small singular values. Default: 1e-15\n",
    "'''\n",
    "\n",
    "x_in = torch.randn(3, 5)\n",
    "x_out = torch.pinverse(x_in)\n",
    "\n",
    "print(\"x_out = \", x_out)\n",
    "\n"
   ]
  },
  {
   "cell_type": "code",
   "execution_count": 110,
   "metadata": {
    "id": "Dot7w9lmrMwv"
   },
   "outputs": [],
   "source": []
  },
  {
   "cell_type": "code",
   "execution_count": 111,
   "metadata": {
    "colab": {
     "base_uri": "https://localhost:8080/"
    },
    "id": "gd8XHZ11rMwv",
    "outputId": "0c016eca-abae-4bc3-f495-73600887b1d6"
   },
   "outputs": [
    {
     "name": "stdout",
     "output_type": "stream",
     "text": [
      "u =  tensor([[1.5145, 0.0000, 0.0000],\n",
      "        [1.4127, 0.6976, 0.0000],\n",
      "        [0.0857, 0.8995, 2.2606]])\n"
     ]
    }
   ],
   "source": [
    "# Cholesky decomposition \n",
    "\n",
    "'''\n",
    "13. torch.cholesky - Computes the Cholesky decomposition of a symmetric positive-definite matrix A.\n",
    "        - a (Tensor) – the input 2-D tensor, a symmetric positive-definite matrix\n",
    "        - upper (bool, optional) – flag that indicates whether to return the upper or lower triangular matrix\n",
    "        - out (Tensor, optional) – the output matrix\n",
    "'''\n",
    "\n",
    "'''\n",
    "Use - The Cholesky decomposition is mainly used for the numerical solution of linear equations \n",
    "'''\n",
    "\n",
    "a = torch.randn(3, 3)\n",
    "a = torch.mm(a, a.t()) # make symmetric positive definite\n",
    "\n",
    "u = torch.cholesky(a)\n",
    "\n",
    "print(\"u = \", u)"
   ]
  },
  {
   "cell_type": "code",
   "execution_count": 111,
   "metadata": {
    "id": "PeK7KQ4krMwv"
   },
   "outputs": [],
   "source": []
  },
  {
   "cell_type": "code",
   "execution_count": 112,
   "metadata": {
    "colab": {
     "base_uri": "https://localhost:8080/"
    },
    "id": "KXOBmKn9rMwv",
    "outputId": "840d908a-fee0-44ac-abda-6480a1fdd956"
   },
   "outputs": [
    {
     "name": "stdout",
     "output_type": "stream",
     "text": [
      "q =  tensor([[-0.6815,  0.5076,  0.5271],\n",
      "        [-0.0401, -0.7451,  0.6658],\n",
      "        [ 0.7307,  0.4326,  0.5281]])\n",
      "r =  tensor([[ 1.4240,  1.7875,  0.4035],\n",
      "        [ 0.0000, -0.8422,  0.7815],\n",
      "        [ 0.0000,  0.0000, -0.1193]])\n"
     ]
    }
   ],
   "source": [
    "# QR decomposition\n",
    "\n",
    "'''\n",
    "14. torch.qr - Computes the QR decomposition of a matrix input, and returns matrices Q and R such that input=QR, \n",
    "        with Q being an orthogonal matrix and R being an upper triangular matrix.\n",
    "'''\n",
    "\n",
    "x_in = torch.randn(3, 3)\n",
    "q, r = torch.qr(x_in)\n",
    "\n",
    "print(\"q = \", q)\n",
    "print(\"r = \", r)"
   ]
  },
  {
   "cell_type": "code",
   "execution_count": 112,
   "metadata": {
    "id": "zcCqV9CgrMww"
   },
   "outputs": [],
   "source": []
  },
  {
   "cell_type": "code",
   "execution_count": 113,
   "metadata": {
    "id": "deZt7-CPrMww"
   },
   "outputs": [],
   "source": [
    "# Singular Value Decomposition (SVD)\n",
    "\n",
    "'''\n",
    "15. torch.svd - U, S, V = torch.svd(A) returns the singular value decomposition of a real matrix A of size (n x m) \n",
    "        such that A=US(V.t)\n",
    "'''\n",
    "\n",
    "a = torch.tensor([[8.79,  6.11, -9.15,  9.57, -3.49,  9.84],\n",
    "                      [9.93,  6.91, -7.93,  1.64,  4.02,  0.15],\n",
    "                      [9.83,  5.04,  4.86,  8.83,  9.80, -8.99],\n",
    "                      [5.45, -0.27,  4.85,  0.74, 10.00, -6.02],\n",
    "                      [3.16,  7.98,  3.01,  5.80,  4.27, -5.31]]).t()\n",
    "\n",
    "u, s, v = torch.svd(a)"
   ]
  },
  {
   "cell_type": "code",
   "execution_count": 113,
   "metadata": {
    "id": "6OhLPavtrMww"
   },
   "outputs": [],
   "source": []
  },
  {
   "cell_type": "code",
   "execution_count": 113,
   "metadata": {
    "id": "_oJTmIGRrMww"
   },
   "outputs": [],
   "source": []
  },
  {
   "cell_type": "code",
   "execution_count": 113,
   "metadata": {
    "id": "m-g4qOiirMww"
   },
   "outputs": [],
   "source": []
  },
  {
   "cell_type": "code",
   "execution_count": 113,
   "metadata": {
    "id": "3WEzjs9xrMwx"
   },
   "outputs": [],
   "source": []
  },
  {
   "cell_type": "code",
   "execution_count": 113,
   "metadata": {
    "id": "rrgmg6ZOrMwx"
   },
   "outputs": [],
   "source": []
  }
 ],
 "metadata": {
  "colab": {
   "collapsed_sections": [],
   "name": "Day_3_Part_1_Workshop.ipynb",
   "provenance": [],
   "toc_visible": true
  },
  "kernelspec": {
   "display_name": "Python 3",
   "language": "python",
   "name": "python3"
  },
  "language_info": {
   "codemirror_mode": {
    "name": "ipython",
    "version": 3
   },
   "file_extension": ".py",
   "mimetype": "text/x-python",
   "name": "python",
   "nbconvert_exporter": "python",
   "pygments_lexer": "ipython3",
   "version": "3.7.9"
  }
 },
 "nbformat": 4,
 "nbformat_minor": 1
}
